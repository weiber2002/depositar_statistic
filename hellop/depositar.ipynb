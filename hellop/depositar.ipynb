{
 "cells": [
  {
   "cell_type": "markdown",
   "metadata": {},
   "source": [
    "<h1> Project </h1>\n",
    "<h3> important data:\n",
    "\n",
    "*   o_dataset : 所有dataset的資料\n",
    "*   o_project :  所有project的資料\n",
    "*   o_topic  :   所有topic的資料\n"
   ]
  },
  {
   "cell_type": "code",
   "execution_count": null,
   "metadata": {
    "vscode": {
     "languageId": "plaintext"
    }
   },
   "outputs": [],
   "source": [
    "# !wget -O TaipeiSansTCBeta-Regular.ttf https://drive.google.com/uc?id=1eGAsTN1HBpJAkeVM57_C7ccp7hbgSz3_&export=download\n",
    "!pip install jupyterlab-language-pack-zh-TW\n",
    "!pip install wikidataintegrator\n",
    "!pip install pytz\n",
    "!pip install ckanapi\n",
    "!pip install folium\n",
    "!apt-get install gzip\n",
    "!pip install ipywidgets\n",
    "import matplotlib as mpl\n",
    "import matplotlib.pyplot as plt\n",
    "import subprocess\n",
    "import gzip\n",
    "import json\n",
    "import requests\n",
    "from matplotlib.font_manager import fontManager\n",
    "from collections import Counter\n",
    "\n",
    "# fontManager.addfont('TaipeiSansTCBeta-Regular.ttf')\n",
    "# mpl.rc('font', family='Taipei Sans TC Beta')\n",
    "\n"
   ]
  },
  {
   "cell_type": "markdown",
   "metadata": {},
   "source": [
    "<h1>Get all dataset properties"
   ]
  },
  {
   "cell_type": "code",
   "execution_count": null,
   "metadata": {
    "vscode": {
     "languageId": "plaintext"
    }
   },
   "outputs": [],
   "source": [
    "# Set the command\n",
    "\n",
    "cmd = [  # for package\n",
    "    'ckanapi',\n",
    "    'search',\n",
    "    'datasets',\n",
    "    '-O',\n",
    "    'datasets.jsonl.gz',\n",
    "    '-z',\n",
    "    '-r',\n",
    "    'https://data.depositar.io'\n",
    "]\n",
    "\n",
    "# Execute the command\n",
    "subprocess.run(cmd, check=True)\n",
    "\n",
    "o_dataset = []\n",
    "\n",
    "\n",
    "with gzip.open(\"datasets.jsonl.gz\", \"rb\") as f_in:\n",
    "    with open(\"datasets.jsonl\", \"wb\") as f_out:\n",
    "        f_out.write(f_in.read())\n",
    "with open(\"datasets.jsonl\", \"r\") as f: #游標位置會變\n",
    "    line_count = 0\n",
    "    for line in f:\n",
    "      line_count += 1\n",
    "    f.seek(0) #讓游標讀取位置回到原點\n",
    "    for i in range(line_count):\n",
    "        line = f.readline()\n",
    "        data = json.loads(line)\n",
    "        o_dataset.append(data)\n",
    "print(o_dataset[:2])"
   ]
  },
  {
   "cell_type": "markdown",
   "metadata": {},
   "source": [
    "<h1> get all project properties(1min)"
   ]
  },
  {
   "cell_type": "code",
   "execution_count": null,
   "metadata": {
    "vscode": {
     "languageId": "plaintext"
    }
   },
   "outputs": [],
   "source": [
    "cmd = [  # for package\n",
    "    'ckanapi',\n",
    "    'dump',\n",
    "    'organizations',\n",
    "    '--all',\n",
    "    '-O',\n",
    "    'projects.jsonl.gz',\n",
    "    '-z',\n",
    "    '-r',\n",
    "    'https://data.depositar.io'\n",
    "]\n",
    "\n",
    "subprocess.run(cmd, check=True)\n",
    "\n",
    "o_project = []\n",
    "\n",
    "with gzip.open(\"projects.jsonl.gz\", \"rb\") as f_in:\n",
    "    with open(\"projects.jsonl\", \"wb\") as f_out:\n",
    "        f_out.write(f_in.read())\n",
    "with open(\"projects.jsonl\", \"r\") as f: #游標位置會變\n",
    "    line_count = 0\n",
    "    for line in f:\n",
    "      line_count += 1\n",
    "    f.seek(0) #讓游標讀取位置回到原點\n",
    "    for i in range(line_count):\n",
    "        line = f.readline()\n",
    "        data = json.loads(line)\n",
    "        o_project.append(data)\n"
   ]
  },
  {
   "cell_type": "markdown",
   "metadata": {},
   "source": [
    "<h1>get all topic </h1>"
   ]
  },
  {
   "cell_type": "code",
   "execution_count": null,
   "metadata": {
    "vscode": {
     "languageId": "plaintext"
    }
   },
   "outputs": [],
   "source": [
    "# Set the command\n",
    "\n",
    "cmd = [  # for package\n",
    "    'ckanapi',\n",
    "    'dump',\n",
    "    'groups',\n",
    "    '--all',\n",
    "    '-O',\n",
    "    'topics.jsonl.gz',\n",
    "    '-z',\n",
    "    '-r',\n",
    "    'https://data.depositar.io'\n",
    "]\n",
    "# Execute the command\n",
    "subprocess.run(cmd, check=True)\n",
    "\n",
    "o_topic = []\n",
    "\n",
    "\n",
    "with gzip.open(\"topics.jsonl.gz\", \"rb\") as f_in:\n",
    "    with open(\"topics.jsonl\", \"wb\") as f_out:\n",
    "        f_out.write(f_in.read())\n",
    "with open(\"topics.jsonl\", \"r\") as f: #游標位置會變\n",
    "    line_count = 0\n",
    "    for line in f:\n",
    "      line_count += 1\n",
    "    f.seek(0) #讓游標讀取位置回到原點\n",
    "    for i in range(line_count):\n",
    "        line = f.readline()\n",
    "        data = json.loads(line)\n",
    "        o_topic.append(data)\n",
    "\n"
   ]
  },
  {
   "cell_type": "markdown",
   "metadata": {},
   "source": [
    "<h1> largest author"
   ]
  },
  {
   "cell_type": "code",
   "execution_count": null,
   "metadata": {
    "vscode": {
     "languageId": "plaintext"
    }
   },
   "outputs": [],
   "source": [
    "author = []\n",
    "for i in o_dataset[:-1]: # 最後一個沒有作者\n",
    "  author.append(i['author'])\n",
    "author_counts = Counter(author)\n",
    "\n",
    "top_authors = author_counts.most_common(10)\n",
    "print(top_authors)\n",
    "top_authors_names = [i[0][:15] for i in top_authors]\n",
    "top_authors_mentions = [i[1] for i in top_authors]\n",
    "\n",
    "\n",
    "plt.bar(top_authors_names, top_authors_mentions)\n",
    "plt.xlabel('Author')\n",
    "plt.ylabel('Number of Mentions')\n",
    "plt.xticks(rotation=70,fontsize=6)\n",
    "plt.tight_layout()\n",
    "plt.title('Top 10 Authors with the Most Mentions')\n",
    "\n",
    "plt.show()\n",
    "# 可以再做一個比例圓餅圖\n",
    "## 得知現在的作者有誰"
   ]
  },
  {
   "cell_type": "markdown",
   "metadata": {},
   "source": [
    "\n",
    "\n",
    "<h1>Largest tags : <h1>\n",
    "\n",
    "<p>秀出被使用最多次的tag還有使用次數"
   ]
  },
  {
   "cell_type": "code",
   "execution_count": null,
   "metadata": {
    "vscode": {
     "languageId": "plaintext"
    }
   },
   "outputs": [],
   "source": [
    "url = \"http://data.depositar.io/api/3/action/package_search?facet.field=[%22tags%22]&facet.limit=10\"\n",
    "package_list = requests.get(url).json()\n",
    "\n",
    "tag_number =  package_list['result']['facets']['tags']\n",
    "values = tag_number.values()\n",
    "labels = tag_number.keys()\n",
    "print(tag_number)\n",
    "plt.bar(labels, values)\n",
    "plt.xlabel('Categories')\n",
    "plt.ylabel('Package Count')\n",
    "plt.title('Bar Graph: Package Count by Category')\n",
    "plt.xticks(rotation=45, ha='right')  # To rotate the labels for better readability\n",
    "plt.tight_layout()  # To prevent label cutoff\n",
    "plt.show()\n"
   ]
  },
  {
   "cell_type": "markdown",
   "metadata": {},
   "source": [
    "<h1> largest topics</h1>\n",
    "<br>#include tags也做得到\n",
    "<br>#Returning a list of packages is too expensive, 要顯現出該topic有什麼資料集是做不到的事情"
   ]
  },
  {
   "cell_type": "code",
   "execution_count": null,
   "metadata": {
    "vscode": {
     "languageId": "plaintext"
    }
   },
   "outputs": [],
   "source": [
    "\n",
    "unsort_topic = []\n",
    "for i in o_topic:\n",
    "  unsort_topic.append({'name': i['name'], 'package_count': i['package_count']})\n",
    "\n",
    "topic = sorted(unsort_topic, key=lambda x: x['package_count'],reverse=True)\n",
    "values = [item['package_count'] for item in topic[:10]]\n",
    "labels = [item['name'] for item in topic[:10]]\n",
    "print(topic)\n",
    "\n",
    "plt.bar(labels, values)\n",
    "plt.xlabel('Categories')\n",
    "plt.ylabel('Package Count')\n",
    "plt.title('Bar Graph: Package Count by Category')\n",
    "plt.xticks(rotation=45, ha='right')  # To rotate the labels for better readability\n",
    "plt.tight_layout()  # To prevent label cutoff\n",
    "plt.show()\n",
    "\n"
   ]
  },
  {
   "cell_type": "markdown",
   "metadata": {},
   "source": [
    "<h1>largest type</h1>\n",
    "<br> problem of undefined needs to be solved <br>"
   ]
  },
  {
   "cell_type": "code",
   "execution_count": null,
   "metadata": {
    "vscode": {
     "languageId": "plaintext"
    }
   },
   "outputs": [],
   "source": [
    "types = []\n",
    "\n",
    "for j in o_dataset:\n",
    "  if j['resources']:\n",
    "      if j['resources'][0]['format']=='':\n",
    "        types.append('undefined')\n",
    "      elif j['resources'][0]['format']==\".pdf\":\n",
    "        types.append('PDF')\n",
    "      else:\n",
    "        types.append(j['resources'][0]['format'])\n",
    "  else:\n",
    "      types.append('lost')\n",
    "\n",
    "type_counts = Counter(types)\n",
    "all_top_type = type_counts.most_common(120)\n",
    "top_type = type_counts.most_common(10)\n",
    "\n",
    "print(all_top_type)\n",
    "all_top_type_mentions = [i[1] for i in all_top_type]\n",
    "print(sum(all_top_type_mentions))\n",
    "\n",
    "top_name = [i[0] for i in top_type]\n",
    "top_type_mentions = [i[1] for i in top_type]\n",
    "\n",
    "plt.bar(top_name, top_type_mentions)\n",
    "plt.xlabel('type')\n",
    "plt.ylabel('Number of Mentions')\n",
    "plt.xticks(rotation=30,fontsize=8)\n",
    "plt.tight_layout()\n",
    "plt.title('Top types with the Most Mentions')\n",
    "\n",
    "plt.show()"
   ]
  },
  {
   "cell_type": "markdown",
   "metadata": {},
   "source": [
    "<h1>搜尋tag中是wikidata關鍵字</h1>\n",
    "<h3>it spends 7 minutes to run through the whole tags</h3>\n"
   ]
  },
  {
   "cell_type": "code",
   "execution_count": null,
   "metadata": {
    "vscode": {
     "languageId": "plaintext"
    }
   },
   "outputs": [],
   "source": [
    "from wikidataintegrator import wdi_core\n",
    "\n",
    "\n",
    "def is_tag_in_wikidata(tag):\n",
    "    sparql_query = []\n",
    "    if type_word(tag[0])==\"En\":\n",
    "      sparql_query = f'SELECT ?item WHERE {{ ?item rdfs:label \"{tag}\"@en }}'\n",
    "    elif type_word(tag[0])==\"CH\":\n",
    "      sparql_query = f'SELECT ?item WHERE {{ ?item rdfs:label \"{tag}\"@zh. }}'\n",
    "    else:\n",
    "      sparql_query = f'''\n",
    "          SELECT ?item WHERE {{\n",
    "              {{ ?item rdfs:label \"{tag}\"@en. }}\n",
    "              UNION\n",
    "              {{ ?item rdfs:label \"{tag}\"@zh-TW. }} }} '''\n",
    "\n",
    "    result = wdi_core.WDItemEngine.execute_sparql_query(sparql_query) #executes the SPARQL query\n",
    "\n",
    "    if result['results']['bindings']:\n",
    "        return True\n",
    "    else:\n",
    "        return False\n",
    "\n",
    "def type_word(word):\n",
    "\n",
    "    ascii_code = ord(word)\n",
    "    if (65 <= ascii_code <= 90 or 97 <= ascii_code <= 122):\n",
    "        return \"En\"\n",
    "    elif (48 <= ascii_code <= 57):\n",
    "      return \"num\"\n",
    "    return \"CH\"\n"
   ]
  },
  {
   "cell_type": "markdown",
   "metadata": {},
   "source": [
    "比較最常用的tag 是否有在wikidata中出現"
   ]
  },
  {
   "cell_type": "code",
   "execution_count": null,
   "metadata": {
    "vscode": {
     "languageId": "plaintext"
    }
   },
   "outputs": [],
   "source": [
    "url = \"http://data.depositar.io/api/3/action/package_search?facet.field=[%22tags%22]&facet.limit=10\"\n",
    "package_list = requests.get(url).json()\n",
    "\n",
    "tag_number =  package_list['result']['facets']['tags']\n",
    "tag_list = list(tag_number.items())\n",
    "tag_list_keys  = list(tag_number.keys())\n",
    "filter_tags = [tag for tag in tag_number if is_tag_in_wikidata(tag)]\n",
    "\n",
    "\n",
    "def compare(list1,list2):\n",
    "  set1 = set(list1)\n",
    "  set2 = set(list2)\n",
    "\n",
    "  common_set = set1.intersection(set2)\n",
    "  diff_set = set1.difference(set2)\n",
    "\n",
    "  return common_set,diff_set\n",
    "\n",
    "intersect,differ = compare(tag_list_keys,filter_tags)\n",
    "print(\"重複出現\",intersect)\n",
    "print(\"需要補充\",differ)\n"
   ]
  },
  {
   "cell_type": "markdown",
   "metadata": {},
   "source": [
    "<h1> update among a week (package) </h1>\n"
   ]
  },
  {
   "cell_type": "code",
   "execution_count": null,
   "metadata": {
    "vscode": {
     "languageId": "plaintext"
    }
   },
   "outputs": [],
   "source": [
    "from datetime import datetime, timedelta\n",
    "import pytz\n",
    "\n",
    "url = \"http://data.depositar.io/api/3/action/recently_changed_packages_activity_list?limit=100\"\n",
    "package_list = requests.get(url).json()\n",
    "up_time = package_list['result']\n",
    "day = 7\n",
    "time_list = []\n",
    "each_d_up = [0]*day\n",
    "\n",
    "for i in up_time:\n",
    "  time_list.append({'time':i['timestamp'],'title':i['data']['package']['title']})\n",
    "\n",
    "def time_in_7d(time_list,each_d_up):\n",
    "    tz = pytz.timezone(\"Asia/Taipei\")\n",
    "    current_tz = datetime.now(tz)\n",
    "    current_time = str(current_tz.replace(tzinfo=None))\n",
    "    current_date = datetime.fromisoformat(current_time)\n",
    "\n",
    "    filter_time = []\n",
    "\n",
    "    for i in time_list:\n",
    "      time = datetime.fromisoformat(i['time'])\n",
    "      if current_date - time <= timedelta(days=day):\n",
    "        filter_time.append(i)\n",
    "        for j in range(day):\n",
    "          if  (current_date - time >= timedelta(days=j)) and (current_date - time <= timedelta(days=j+1)):\n",
    "            each_d_up[j] = each_d_up[j] + 1\n",
    "    return filter_time\n",
    "\n",
    "\n",
    "days_7 = time_in_7d(time_list,each_d_up)\n",
    "print(days_7)\n",
    "print(each_d_up)\n",
    "\n",
    "\n",
    "\n",
    "\n",
    "def create_dynamic_list(day):\n",
    "    return [f'Day {i}' for i in range(1, day + 1)]\n",
    "days = create_dynamic_list(day)\n",
    "print(days)\n",
    "# Convert the data indices to numerical range for plotting\n",
    "\n",
    "\n",
    "# Create the bar graph\n",
    "plt.figure(figsize=(8, 6))\n",
    "plt.bar(range(day), each_d_up, color='b', alpha=0.7)\n",
    "\n",
    "# Add labels to the bars\n",
    "for i, value in enumerate(each_d_up):\n",
    "    plt.text(i, value, str(value), ha='center', va='bottom', fontweight='bold')\n",
    "\n",
    "# Customize the plot\n",
    "plt.xticks(range(day), days)\n",
    "plt.xlabel(f'Past {day} Days')\n",
    "plt.ylabel('Data Update')\n",
    "plt.title(f'Data Update in the Past {day} Days')\n",
    "plt.grid(axis='y', linestyle='--', alpha=0.7)\n",
    "\n",
    "# Display the plot\n",
    "plt.tight_layout()\n",
    "plt.show()"
   ]
  },
  {
   "cell_type": "markdown",
   "metadata": {},
   "source": [
    "<h1> average number of form fields which have data</h1>\n",
    "\n",
    "**基本資訊:**\n",
    "標題 網址 摘要 資料類型 Wikidata 關鍵字 標籤 語言 備註(都有)\n",
    "\n",
    "**時空資訊:**\n",
    "時間解析度 起始時間 結束時間 空間範圍 空間範圍.X.min 空間範圍.X.max 空間範圍.Y.min 空間範圍.Y.max 空間解析度\n",
    "\n",
    "**管理資訊:** 授權 產製者 資料產製時間 資料處理歷程 專案 聯絡人 聯絡人的電子郵件(都有)\n",
    "\n",
    "**資源層級:**\n",
    "網址 名稱 摘要 字元編碼 座標參考系統 格式 (沒看到字元編碼和座標參考系統)"
   ]
  },
  {
   "cell_type": "code",
   "execution_count": null,
   "metadata": {
    "vscode": {
     "languageId": "plaintext"
    }
   },
   "outputs": [],
   "source": [
    "#  basic: i['title'] i['url'] i['notes'] i['data_type'] i['keywords'] i['tags'] i['language'] i['remarks']\n",
    "#  time: i['temp_res'] i['start_time'] i['end_time'] i['spatial'] i['x_min'] i['x_max'] i['y_min'] i['y_max'] i['spatial_res']\n",
    "#  manage:  i['resources'][0]['created']  i['owner_org]-- some do not have this\n",
    "#  resources: i['url'] i['name']  i['organization']['description']也有要先check  i['resources'][0]['format']要額外處理\n",
    "\n",
    "basic_field = ['title','url','notes','data_type','keywords','tags','langauge','remarks']\n",
    "manage_field = ['license_id','author','process_step','contact_person','contact_email','owner_org']\n",
    "time_field = ['temp_res','start_time','end_time','spatial','x_min','x_max','y_min','y_max','spatial_res']\n",
    "resource_field = ['url','name']\n",
    "\n",
    "total = 0\n",
    "count_basic = 0\n",
    "count_manage = 0\n",
    "count_time = 0\n",
    "count_re = 0\n",
    "\n",
    "for i in o_dataset:  #基本資訊\n",
    "  total += 1\n",
    "  count_basic += sum(1 for field in basic_field if i.get(field) is not None and i[field]!='') #有時不會有欄位，先確保有欄位再拿值\n",
    "\n",
    "percent_basic = (count_basic / total) / 8\n",
    "print('average of basic',round(count_basic/total,2),'   percent of basic:', round(percent_basic*100, 2), \"%\")\n",
    "\n",
    "\n",
    "for i in o_dataset:  #管理資訊\n",
    "  count_manage += sum(1 for field in basic_field if i.get(field) is not None and i[field]!='')\n",
    "  if i['resources']:\n",
    "    count_manage += (1 if i['resources'][0]['created'] !='' else 0)\n",
    "\n",
    "percent_manage = (count_manage / total) / 7\n",
    "print('average of manage',round(count_manage/total,2),'   percent of manage:', round(percent_manage*100, 2), \"%\")\n",
    "\n",
    "for i in o_dataset:  #時空資訊\n",
    "  count_time += sum(1 for field in time_field if i.get(field) is not None and i[field]!='')\n",
    "\n",
    "percent_time = (count_time / total) / 9\n",
    "print('average of time',round(count_time/total,2),'   percent of time:', round(percent_time*100, 2), \"%\")\n",
    "\n",
    "for i in o_dataset: #資源層級\n",
    "\n",
    "  count_re += sum(1 for field in resource_field if i.get(field) is not None and i[field]!='')\n",
    "  if i['resources']:\n",
    "    count_re += (1 if i['resources'][0]['format'] !='' else 0)\n",
    "  if i['organization']:\n",
    "    count_re += (1 if i['organization']['description'] !='' else 0)\n",
    "\n",
    "percent_re = (count_re / total) / 4\n",
    "print('average of resource',round(count_re/total,2),'   percent of resource:', round(percent_re*100, 2), \"%\")\n",
    "\n",
    "total_data = count_basic + count_manage + count_time + count_re\n",
    "percent_total = (total_data / total) / 28\n",
    "print('average',round(total_data/total,2),'   percent:', round(percent_total*100, 2), \"%\")"
   ]
  },
  {
   "cell_type": "code",
   "execution_count": null,
   "metadata": {
    "vscode": {
     "languageId": "plaintext"
    }
   },
   "outputs": [],
   "source": [
    "data = [percent_basic,percent_manage,percent_time,percent_re,percent_total]\n",
    "\n",
    "x = range(len(data))\n",
    "\n",
    "fig, ax = plt.subplots()\n",
    "ax.bar(x, data, color=['red', 'green', 'blue','orange', 'yellow'], alpha=0.2)\n",
    "ax.set_xticks(x)\n",
    "ax.set_xticklabels(['基本資訊', '管理資訊','時空資訊', '資源層級', '綜合'])\n",
    "ax.set_ylim(0, 1)\n",
    "\n",
    "plt.show()\n"
   ]
  },
  {
   "cell_type": "markdown",
   "metadata": {},
   "source": [
    "<h1>largest project"
   ]
  },
  {
   "cell_type": "code",
   "execution_count": null,
   "metadata": {
    "vscode": {
     "languageId": "plaintext"
    }
   },
   "outputs": [],
   "source": [
    "\n",
    "count_pro = 0\n",
    "top_project = []\n",
    "\n",
    "for i in o_project:\n",
    "  count_pro += 1\n",
    "  top_project.append({'display_name':i['display_name'],'packages':i['package_count']})\n",
    "\n",
    "sort_project = sorted(top_project,key=lambda x:x['packages'],reverse=True)\n",
    "pro_values = [i['packages']for i in sort_project[:10]]\n",
    "pro_labels = [i['display_name'][:15] for i in sort_project[:10]]\n",
    "print(sort_project[:10])\n",
    "plt.bar(pro_labels,pro_values )\n",
    "plt.xlabel('type')\n",
    "plt.ylabel('Number of project')\n",
    "plt.xticks(rotation=80,fontsize=8)\n",
    "plt.tight_layout()\n",
    "plt.title('Top projects ')\n",
    "\n",
    "plt.show()"
   ]
  },
  {
   "cell_type": "markdown",
   "metadata": {},
   "source": [
    "<h1>Spatial coverage"
   ]
  },
  {
   "cell_type": "code",
   "execution_count": null,
   "metadata": {
    "vscode": {
     "languageId": "plaintext"
    }
   },
   "outputs": [],
   "source": [
    "time_field = ['temp_res','start_time','end_time','spatial','x_min','x_max','y_min','y_max','spatial_res']\n",
    "\n",
    "spatial = []\n",
    "\n",
    "for i in o_dataset:  #時空資訊\n",
    "  temp = {key: None for key in time_field}\n",
    "  for field in time_field:\n",
    "    temp[field]=i[field] if i.get(field) is not None else ''  #有時不會有欄位，先確保有欄位再拿值\n",
    "  spatial.append(temp)\n",
    "\n",
    "\n",
    "temp_res = [i['temp_res'] for i in spatial]  #時間解析度\n",
    "temp_res_count = Counter(temp_res)\n",
    "new_temp_res_count = Counter({k if k != \"\" else \"undefined\": v for k, v in temp_res_count.items()})\n",
    "print('時空解析度',new_temp_res_count)\n",
    "\n",
    "start_time = [i['start_time'][:4] for i in spatial]  # 開始時間 抓年份而已\n",
    "start_time_count = Counter(start_time)\n",
    "new_start_time_count = Counter({k if k != \"\" else \"undefined\": v for k, v in start_time_count.items()})\n",
    "print('起始時間',new_start_time_count)\n",
    "\n",
    "end_time = [i['end_time'][:4] for i in spatial]  # 結束時間\n",
    "end_time_count = Counter(end_time)\n",
    "new_end_time_count = Counter({k if k != \"\" else \"undefined\": v for k, v in end_time_count.items()})\n",
    "print('結束時間',new_end_time_count)\n",
    "\n",
    "during = []      #一個專案通常多久\n",
    "for i in spatial:\n",
    "  if i['start_time'] != '' and i['end_time'] != '':\n",
    "    during.append(int(i['end_time'][:4])-int(i['start_time'][:4]))\n",
    "during_time_count = Counter(during)\n",
    "new_during_time_count = Counter({k if k != \"\" else \"undefined\": v for k, v in during_time_count.items()})\n",
    "print('持續時間',new_during_time_count)\n",
    "\n",
    "ss = []       #spatial 中繪圖形狀\n",
    "for i in spatial:\n",
    "  if i['spatial']:\n",
    "    new = json.loads(i['spatial'])\n",
    "    ss.append(new['type'])\n",
    "new_ss = Counter(ss)\n",
    "print('標記形狀',new_ss)\n",
    "\n",
    "locations = [] #經緯度\n",
    "for i in spatial:\n",
    "  if i['x_min'] and i['x_max'] and i['y_min'] and i['y_max']:\n",
    "    x_avr = (float(i['x_min']) + float(i['x_max']))/2  #mean\n",
    "    y_avr = (float(i['y_min']) + float(i['y_max']))/2\n",
    "    locations.append({x_avr,y_avr})\n",
    "\n",
    "print('經緯度',locations)\n",
    "\n",
    "spatial_res = [i['spatial_res'] for i in spatial]  #時間解析度\n",
    "spatial_res_count = Counter(spatial_res)\n",
    "new_spatial_res_count = Counter({k if k != \"\" else \"undefined\": v for k, v in spatial_res_count.items()})\n",
    "print('時間解析度',new_spatial_res_count)"
   ]
  },
  {
   "cell_type": "code",
   "execution_count": null,
   "metadata": {
    "vscode": {
     "languageId": "plaintext"
    }
   },
   "outputs": [],
   "source": [
    "\n",
    "temp_res_k = [k for k,v in new_temp_res_count.items()]\n",
    "temp_res_v = [v for k,v in new_temp_res_count.items()]\n",
    "\n",
    "plt.bar(temp_res_k, temp_res_v)\n",
    "plt.xlabel('type of temp_res')\n",
    "plt.ylabel('numbers')\n",
    "plt.xticks(fontsize=8)\n",
    "plt.tight_layout()\n",
    "plt.title('temp_res')\n",
    "\n",
    "plt.show()"
   ]
  },
  {
   "cell_type": "markdown",
   "metadata": {},
   "source": [
    "<h3> show出這些資料的位置 (會自動download file)"
   ]
  },
  {
   "cell_type": "code",
   "execution_count": null,
   "metadata": {
    "vscode": {
     "languageId": "plaintext"
    }
   },
   "outputs": [],
   "source": [
    "import folium\n",
    "import ipywidgets as widgets\n",
    "from IPython.display import display\n",
    "\n",
    "\n",
    "\n",
    "upload_button = widgets.FileUpload()\n",
    "display(upload_button)\n",
    "# Sample list of locations\n",
    "# Create a map centered at a specific location\n",
    "map_center = (23.555,120.5)   # Choose any location as the map center\n",
    "map_object = folium.Map(location=map_center, zoom_start=6)\n",
    "\n",
    "locations = [tuple(loc) for loc in locations if len(loc) == 2]\n",
    "# Add markers for each location on the map\n",
    "for loc in locations:\n",
    "    folium.Marker(loc).add_to(map_object)\n",
    "\n",
    "# Save the map to an HTML file\n",
    "map_file = \"map.html\"\n",
    "map_object.save(\"map.html\")\n",
    "\n",
    "if upload_button.value:\n",
    "    file_contents = upload_button.value[next(iter(upload_button.value))]['content']"
   ]
  },
  {
   "cell_type": "markdown",
   "metadata": {},
   "source": [
    "<h1> wikidata 關鍵字 </h1>"
   ]
  },
  {
   "cell_type": "code",
   "execution_count": null,
   "metadata": {
    "vscode": {
     "languageId": "plaintext"
    }
   },
   "outputs": [],
   "source": [
    "keywords = []\n",
    "\n",
    "for i in o_dataset:\n",
    "  if i.get('keywords') is not None:\n",
    "    for j in i['keywords']:\n",
    "      keywords.append(j)\n",
    "keywords_count = Counter(keywords)\n",
    "mostuse_key = keywords_count.most_common(10)\n",
    "\n",
    "key_name = [i[0] for i in mostuse_key]\n",
    "key_value = [i[1] for i in mostuse_key]\n",
    "\n",
    "def find_word(list1):\n",
    "  word_list = []\n",
    "  for i in list1:\n",
    "    endpoint_url = f\"https://www.wikidata.org/wiki/Special:EntityData/{i}.json\"\n",
    "    response = requests.get(endpoint_url)\n",
    "    if response.status_code == 200:\n",
    "        data = response.json()\n",
    "        # The label (name) of the entity will be available in the 'labels' section of the JSON response\n",
    "        label = data['entities'][i]['labels']['en']['value']\n",
    "        word_list.append(label)\n",
    "    else:\n",
    "        print(\"Error occurred:\", response.text)\n",
    "  return word_list\n",
    "\n",
    "word_list = find_word(key_name)\n",
    "key_value = [i[1] for i in mostuse_key]\n",
    "wikidata = []\n",
    "for i in range(len(word_list)):\n",
    "  wikidata.append({word_list[i],key_value[i]})\n",
    "print(wikidata)\n",
    "\n",
    "plt.bar(word_list,key_value)\n",
    "plt.xlabel('Keywords')\n",
    "plt.ylabel('Counts')\n",
    "plt.title('Top Keywords Counts')\n",
    "plt.xticks(rotation=45, ha='right')\n",
    "plt.tight_layout()\n",
    "plt.show()\n"
   ]
  },
  {
   "cell_type": "code",
   "execution_count": null,
   "metadata": {
    "vscode": {
     "languageId": "plaintext"
    }
   },
   "outputs": [],
   "source": [
    "url = \"http://data.depositar.io/api/3/action/recently_changed_packages_activity_list?limit=100\"\n",
    "package_list = requests.get(url).json()\n",
    "print(package_list)"
   ]
  }
 ],
 "metadata": {
  "language_info": {
   "name": "python"
  },
  "orig_nbformat": 4
 },
 "nbformat": 4,
 "nbformat_minor": 2
}
