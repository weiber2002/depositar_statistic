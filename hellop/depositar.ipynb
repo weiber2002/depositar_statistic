{
 "cells": [
  {
   "cell_type": "markdown",
   "metadata": {},
   "source": [
    "# Depositar statistic"
   ]
  },
  {
   "cell_type": "code",
   "execution_count": 2,
   "metadata": {
    "tags": [
     "remove-cell"
    ]
   },
   "outputs": [
    {
     "name": "stdout",
     "output_type": "stream",
     "text": [
      "  % Total    % Received % Xferd  Average Speed   Time    Time     Time  Current\n",
      "                                 Dload  Upload   Total   Spent    Left  Speed\n",
      "  0     0    0     0    0     0      0      0 --:--:-- --:--:-- --:--:--     0\n",
      "100 19.7M  100 19.7M    0     0  5072k      0  0:00:03  0:00:03 --:--:-- 6918k\n",
      "E: Could not open lock file /var/lib/dpkg/lock-frontend - open (13: Permission denied)\n",
      "E: Unable to acquire the dpkg frontend lock (/var/lib/dpkg/lock-frontend), are you root?\n"
     ]
    }
   ],
   "source": [
    "\n",
    "!curl -L -o TaipeiSansTCBeta-Regular.ttf \"https://drive.google.com/uc?id=1eGAsTN1HBpJAkeVM57_C7ccp7hbgSz3_&export=download\"\n",
    "!apt-get install gzip\n",
    "import matplotlib as mpl\n",
    "import matplotlib.pyplot as plt\n",
    "import subprocess\n",
    "import gzip\n",
    "import json\n",
    "import requests\n",
    "import numpy as np\n",
    "from matplotlib.font_manager import fontManager\n",
    "from collections import Counter\n",
    "\n",
    "fontManager.addfont('TaipeiSansTCBeta-Regular.ttf')\n",
    "mpl.rc('font', family='Taipei Sans TC Beta')\n",
    "\n"
   ]
  },
  {
   "cell_type": "code",
   "execution_count": 33,
   "metadata": {
    "tags": [
     "remove-cell"
    ]
   },
   "outputs": [
    {
     "name": "stderr",
     "output_type": "stream",
     "text": [
      "/home/weipo/.local/lib/python3.10/site-packages/ckanapi/cli/search.py:63: FutureWarning: GzipFile was opened for writing, but this will change in future Python releases.  Specify the mode argument for opening it for writing.\n",
      "  jsonl_output = gzip.GzipFile(fileobj=jsonl_output)\n"
     ]
    },
    {
     "name": "stdout",
     "output_type": "stream",
     "text": [
      "[{'author': '蔡韋漢', 'author_email': None, 'contact_email': 'hank89520@gmail.com', 'contact_person': '蔡韋漢', 'created_time': '2023-08-08', 'creator_user_id': 'b463adf3-d71e-4c46-abe0-016a72eac751', 'data_type': ['archive'], 'end_time': '2023-08-08', 'groups': [], 'id': 'f7cc490c-df6d-4c74-85e6-da3af9f7dc38', 'isopen': True, 'keywords': ['Q64481569'], 'language': ['zho'], 'license_id': 'pd', 'license_title': 'Public Domain', 'license_url': 'https://creativecommons.org/publicdomain/mark/1.0/', 'maintainer': None, 'maintainer_email': None, 'metadata_created': '2023-08-08T07:00:16.070724', 'metadata_modified': '2023-08-14T03:44:45.682193', 'name': '50fa6', 'notes': '', 'num_resources': 2, 'num_tags': 1, 'organization': None, 'private': False, 'process_step': '', 'relationships_as_object': [], 'relationships_as_subject': [], 'remarks': '', 'resources': [{'cache_last_updated': None, 'cache_url': None, 'created': '2023-08-08T07:01:54.950611', 'datastore_active': False, 'datastore_contains_all_records_of_source_file': False, 'description': '', 'encoding': 'utf-8', 'format': 'ZIP', 'hash': '', 'id': 'fda4b91f-81f4-4f63-bb7d-5a9bad7edf89', 'last_modified': '2023-08-08T07:01:54.851877', 'metadata_modified': '2023-08-14T03:44:45.689174', 'mimetype': 'application/zip', 'mimetype_inner': None, 'name': '南山公墓網格', 'package_id': 'f7cc490c-df6d-4c74-85e6-da3af9f7dc38', 'position': 0, 'resource_crs': 3857, 'resource_type': None, 'size': 81499, 'state': 'active', 'url': 'https://data.depositar.io/dataset/f7cc490c-df6d-4c74-85e6-da3af9f7dc38/resource/fda4b91f-81f4-4f63-bb7d-5a9bad7edf89/download/%25252525252525E5%252525252525258D%2525252525252597%25252525252525E5%25252525252525B1%25252525252525B1%2525252.zip', 'url_type': 'upload'}, {'cache_last_updated': None, 'cache_url': None, 'created': '2023-08-14T03:44:45.698531', 'datastore_active': False, 'datastore_contains_all_records_of_source_file': False, 'description': '竹溪沿岸墓塚的基礎資料', 'format': 'XLSX', 'hash': '', 'id': 'd0c46a6e-248c-426d-a710-618ee9781c55', 'last_modified': '2023-08-14T03:44:45.610212', 'metadata_modified': '2023-08-14T03:44:45.689387', 'mimetype': 'application/vnd.openxmlformats-officedocument.spreadsheetml.sheet', 'mimetype_inner': None, 'name': '竹溪沿岸墓塚', 'package_id': 'f7cc490c-df6d-4c74-85e6-da3af9f7dc38', 'position': 1, 'resource_type': None, 'size': 19772, 'state': 'active', 'url': 'https://data.depositar.io/dataset/f7cc490c-df6d-4c74-85e6-da3af9f7dc38/resource/d0c46a6e-248c-426d-a710-618ee9781c55/download/%E7%AB%B9%E6%BA%AA%E6%B2%BF%E5%B2%B8%E5%A2%93%E5%A1%9A.xlsx', 'url_type': 'upload'}], 'start_time': '2023-08-08', 'state': 'active', 'tags': [{'display_name': '南山公墓', 'id': 'aea84ccd-7a8b-48ed-8c70-d1642cf06938', 'name': '南山公墓', 'state': 'active', 'vocabulary_id': None}], 'temp_res': 'yearly', 'title': '南山公墓專題素材', 'type': 'dataset', 'url': None, 'version': None}, {'author': 'Mark Z', 'author_email': None, 'contact_email': '', 'contact_person': '', 'creator_user_id': '0e60f4fd-46f2-4d45-8f1c-5370483e59bb', 'data_type': ['code'], 'groups': [], 'id': '92ddf266-9c77-4963-a291-24707cbaf8ba', 'isopen': False, 'keywords': [], 'language': [], 'license_id': 'notspecified', 'license_title': 'License Not Specified', 'maintainer': None, 'maintainer_email': None, 'metadata_created': '2023-08-12T06:54:37.170871', 'metadata_modified': '2023-08-12T07:03:40.197025', 'name': 'markz-s', 'notes': '', 'num_resources': 1, 'num_tags': 0, 'organization': None, 'private': False, 'process_step': '', 'relationships_as_object': [], 'relationships_as_subject': [], 'remarks': '', 'resources': [{'cache_last_updated': None, 'cache_url': None, 'created': '2023-08-12T07:03:28.447456', 'datastore_active': False, 'datastore_contains_all_records_of_source_file': False, 'description': '', 'format': 'HTML', 'hash': '', 'id': '66dac949-2b2a-40dd-afda-6292fc41df98', 'last_modified': '2023-08-12T07:03:28.305656', 'metadata_modified': '2023-08-12T07:03:40.203874', 'mimetype': 'text/html', 'mimetype_inner': None, 'name': 'MarkZ', 'package_id': '92ddf266-9c77-4963-a291-24707cbaf8ba', 'position': 0, 'resource_type': None, 'size': 4174, 'state': 'active', 'url': 'https://data.depositar.io/dataset/92ddf266-9c77-4963-a291-24707cbaf8ba/resource/66dac949-2b2a-40dd-afda-6292fc41df98/download/test.html', 'url_type': 'upload'}], 'state': 'active', 'tags': [], 'title': \"MarkZ's\", 'type': 'dataset', 'url': None, 'version': None}]\n"
     ]
    }
   ],
   "source": [
    "# Set the command\n",
    "cmd = [  # for package\n",
    "    'ckanapi',\n",
    "    'search',\n",
    "    'datasets',\n",
    "    '-O',\n",
    "    'datasets.jsonl.gz',\n",
    "    '-z',\n",
    "    '-r',\n",
    "    'https://data.depositar.io'\n",
    "]\n",
    "\n",
    "# Execute the command\n",
    "subprocess.run(cmd, check=True)\n",
    "\n",
    "o_dataset = []\n",
    "dataset_path = \"./datasets.jsonl.gz\"\n",
    "dataset_ad =\"./datasets.jsonl\"\n",
    "\n",
    "\n",
    "with gzip.open(dataset_path, \"rb\") as f_in:\n",
    "    with open(dataset_ad, \"wb\") as f_out:\n",
    "        f_out.write(f_in.read())\n",
    "with open(\"datasets.jsonl\", \"r\") as f: #游標位置會變\n",
    "    line_count = 0\n",
    "    for line in f:\n",
    "      line_count += 1\n",
    "    f.seek(0) #讓游標讀取位置回到原點\n",
    "    for i in range(line_count):\n",
    "        line = f.readline()\n",
    "        data = json.loads(line)\n",
    "        o_dataset.append(data)"
   ]
  },
  {
   "cell_type": "code",
   "execution_count": 34,
   "metadata": {
    "tags": [
     "remove-cell"
    ]
   },
   "outputs": [
    {
     "name": "stderr",
     "output_type": "stream",
     "text": [
      "/home/weipo/.local/lib/python3.10/site-packages/ckanapi/cli/dump.py:49: FutureWarning: GzipFile was opened for writing, but this will change in future Python releases.  Specify the mode argument for opening it for writing.\n",
      "  jsonl_output = gzip.GzipFile(fileobj=jsonl_output)\n",
      "0 [1] --- None 107ecological_check_project_of_keelung_city_2018\n",
      "1 [2] 0.07s None ecocheck_taichung_2018\n",
      "2 [3] 0.06s None ecological-considerations-107yilan\n",
      "3 [4] 0.07s None chiahung\n",
      "4 [5] 0.07s None ecological-considerations-107hsinchu\n",
      "5 [6] 0.07s None 107-taoyuan\n",
      "6 [7] 0.07s None 107\n",
      "7 [8] 0.07s None ecological-considerations-107miaoli\n",
      "8 [9] 0.06s None 2018\n",
      "9 [10] 0.05s None 107yl\n",
      "10 [11] 0.06s None ecological-considerations-107kaohsiung\n",
      "11 [12] 0.06s None bn-right3\n",
      "12 [13] 0.05s None ecocheck_taichung_2019-2020\n",
      "13 [14] 0.06s None cycwater108109\n",
      "14 [15] 0.06s None 108109changhuacology\n",
      "15 [16] 0.06s None 109ch\n",
      "16 [17] 0.07s None ch108-109\n",
      "17 [18] 0.06s None 108-109_hsinchu\n",
      "18 [19] 0.04s None ecocheck_miaoli_2019-2020\n",
      "19 [20] 0.05s None yunlin_ecocheck_108-109\n",
      "20 [21] 0.05s None yunlin_ecocheck_108-109_110\n",
      "21 [22] 0.06s None 108\n",
      "22 [23] 0.06s None 108taichung\n",
      "23 [24] 0.06s None 109-_-_\n",
      "24 [25] 0.06s None 109taipei\n",
      "25 [26] 0.06s None 109-_\n",
      "26 [27] 0.05s None 10911\n",
      "27 [28] 0.06s None 110-111changhua\n",
      "28 [29] 0.06s None 110-111newtaipei\n",
      "29 [30] 0.06s None w110009\n",
      "30 [31] 0.06s None bnright1\n",
      "31 [32] 0.06s None yongle2k470\n",
      "32 [33] 0.06s None tt-right1\n",
      "33 [34] 0.06s None yunlin_ecocheck_110-111\n",
      "34 [35] 0.06s None 110-111kaohsiung-ecologicalinspection\n",
      "35 [36] 0.06s None wra5-110-bz\n",
      "36 [37] 0.06s None 1101\n",
      "37 [38] 0.06s None 110\n",
      "38 [39] 0.06s None taoenvegoven\n",
      "39 [40] 0.06s None 110wra06\n",
      "40 [41] 0.05s None 110c8763\n",
      "41 [42] 0.18s None 112-113changhua\n",
      "42 [43] 0.06s None 112-113newtaipei\n",
      "43 [44] 0.05s None yunlin_ecocheck_112-113\n",
      "44 [45] 0.06s None 119-26k-000-26k-670\n",
      "45 [46] 0.06s None 123\n",
      "46 [47] 0.05s None 128-3k-600-4k-900\n",
      "47 [48] 0.06s None nantouecologicalguardian1995_2040\n",
      "48 [49] 0.06s None 2008-paworkshop\n",
      "49 [50] 0.05s None 2009-playaround-workshop\n",
      "50 [51] 0.06s None 2010-playaround-workshop\n",
      "51 [52] 0.06s None 2012-playaround-workshop\n",
      "52 [53] 0.06s None 2018-playaround-workshop\n",
      "53 [54] 0.06s None 2020_2050nantouanalyze\n",
      "54 [55] 0.07s None 2021geomatics\n",
      "55 [56] 0.05s None landscape-doc-2021\n",
      "56 [57] 0.08s None 2022iis-intern-depositar\n",
      "57 [58] 0.07s None 2022-summer-gravesite-survey\n",
      "58 [59] 0.06s None ml-rcdec-2022\n",
      "59 [60] 0.06s None 2023-_-narration-exploration-and-presentation-of-wikidata-annotated-resources\n",
      "60 [61] 0.07s None 2023-summer-projects\n",
      "61 [62] 0.07s None 38\n",
      "62 [63] 0.06s None fair\n",
      "63 [64] 0.05s None nanshan_2021-10-14\n",
      "64 [65] 0.07s None ai-cup\n",
      "65 [66] 0.05s None angis\n",
      "66 [67] 0.06s None asian-eco-net\n",
      "67 [68] 0.06s None asian-forest-soundscape\n",
      "68 [69] 0.05s None covid19\n",
      "69 [70] 0.06s None covid19tw\n",
      "70 [71] 0.06s None covid2019\n",
      "71 [72] 0.06s None cities_gi\n",
      "72 [73] 0.06s None clidi\n",
      "73 [74] 0.07s None data-depositar-io-dataset-631e4\n",
      "74 [75] 0.07s None depositar\n",
      "75 [76] 0.05s None ecai-pacific-language-mapping\n",
      "76 [77] 0.06s None fantasybaseball\n",
      "77 [78] 0.06s None geep-ap\n",
      "78 [79] 0.06s None gis_topics\n",
      "79 [80] 0.06s None www-rdr\n",
      "80 [81] 0.06s None gloria-taiwan\n",
      "81 [82] 0.06s None human-paleodiets\n",
      "82 [83] 0.05s None iislab317\n",
      "83 [84] 0.05s None jijiji\n",
      "84 [85] 0.05s None lod-taichung\n",
      "85 [86] 0.06s None low-impact-development-for-sustainable-tourism\n",
      "86 [87] 0.06s None ltserchanghua\n",
      "87 [88] 0.16s None ltser-lyudao\n",
      "88 [89] 0.05s None ltser-feitsuei\n",
      "89 [90] 0.06s None maps-re-imagined\n",
      "90 [91] 0.08s None oceanbiodiversity\n",
      "91 [92] 0.05s None low-cost-sensor\n",
      "92 [93] 0.06s None roger\n",
      "93 [94] 0.06s None study-on-covid-19-vaccination-strategies\n",
      "94 [95] 0.07s None taismart\n",
      "95 [96] 0.07s None tbn\n",
      "96 [97] 0.07s None wbgt\n",
      "97 [98] 0.06s None testpermission\n",
      "98 [99] 0.07s None thakbong\n",
      "99 [100] 0.07s None ultrasoundscape-brcas\n",
      "100 [101] 0.24s None nanshan_2022-03-13\n",
      "101 [102] 0.07s None wikidata-religions-temples-in-tainan-and-penghu\n",
      "102 [103] 0.07s None wildstreamob\n",
      "103 [104] 0.07s None 110_three\n",
      "104 [105] 0.07s None 17-0k-800-1k-150\n",
      "105 [106] 0.19s None irc-pccu\n",
      "106 [107] 0.12s None swchina\n",
      "107 [108] 0.07s None 22-26-14k-000_16k-406\n",
      "108 [109] 0.06s None as-rchss-gis\n",
      "109 [110] 0.06s None nbs_bstp\n",
      "110 [111] 0.07s None nbis_shezidao\n",
      "111 [112] 0.07s None nbs_taipei-guizikeng\n",
      "112 [113] 0.06s None bps\n",
      "113 [114] 0.07s None 108109\n",
      "114 [115] 0.08s None dataset\n",
      "115 [116] 0.06s None hsinchu112-113\n",
      "116 [117] 0.06s None https-sites-google-com-view-waterenv-hsinchu110-111-e9-a6-96-e9-a0-81\n",
      "117 [118] 0.07s None miaoliwaterproject\n",
      "118 [119] 0.07s None ml_eco-plan\n",
      "119 [120] 0.07s None 110-111-kaohsiung\n",
      "120 [121] 0.05s None lcs_pm_taiwan_indonesia\n",
      "121 [122] 0.06s None bstp-development\n",
      "122 [123] 0.06s None beigang-stream\n",
      "123 [124] 0.04s None beigang_river\n",
      "124 [125] 0.05s None taitung2\n",
      "125 [126] 0.05s None 109-110\n",
      "126 [127] 0.06s None discovering-of-taiwan-historical-maps\n",
      "127 [128] 0.05s None binjijijh-l\n",
      "128 [129] 0.08s None https-www-ud-taichung-gov-tw\n",
      "129 [130] 0.08s None taijiangproject\n",
      "130 [131] 0.07s None nsysu\n",
      "131 [132] 0.06s None taijiang_sustainable_plan\n",
      "132 [133] 0.06s None twrw-eco2021\n",
      "133 [134] 0.05s None he-she-river\n",
      "134 [135] 0.06s None 111\n",
      "135 [136] 0.05s None chia-nan-project\n",
      "136 [137] 0.07s None 10-3\n",
      "137 [138] 0.06s None east-stone\n",
      "138 [139] 0.07s None 107wpro\n",
      "139 [140] 0.06s None 108-109_chiayi\n",
      "140 [141] 0.05s None chiayi110-111\n",
      "141 [142] 0.05s None wmts\n",
      "142 [143] 0.06s None ncyu_invasive_species\n",
      "143 [144] 0.13s None ncyu_safety_map\n",
      "144 [145] 0.06s None ncyu_water_resources\n",
      "145 [146] 0.06s None ncyu_facilities\n",
      "146 [147] 0.06s None ncyu-energy\n",
      "147 [148] 0.05s None ncyu_recycling\n",
      "148 [149] 0.06s None keelung-nuan\n",
      "149 [150] 0.06s None ecological_check_project_of_keelung_city_2019\n",
      "150 [151] 0.05s None 109\n",
      "151 [152] 0.05s None keelung-110\n",
      "152 [153] 0.06s None keelung111\n",
      "153 [154] 0.06s None dazhi_drainage_1\n",
      "154 [155] 0.06s None 12\n",
      "155 [156] 0.05s None 108-dahu\n",
      "156 [157] 0.06s None dagouxi_riverside_park_and_jinruei_riverside_park\n",
      "157 [158] 0.06s None urbanforest\n",
      "158 [159] 0.05s None resilience_uf\n",
      "159 [160] 0.05s None nstc_uttsr_sp2\n",
      "160 [161] 0.06s None 0k-866-1k-547\n",
      "161 [162] 0.06s None annongriver\n",
      "162 [163] 0.05s None zhuangdong\n",
      "163 [164] 0.06s None 108-109yilan\n",
      "164 [165] 0.07s None ecological-considerations-108109yilan\n",
      "165 [166] 0.06s None thcdc\n",
      "166 [167] 0.06s None site2\n",
      "167 [168] 0.06s None liudui\n",
      "168 [169] 0.06s None ky-and-gl\n",
      "169 [170] 0.06s None 10714\n",
      "170 [171] 0.06s None ecological-considerations-108109pingtung\n",
      "171 [172] 0.06s None 110-1111111111111\n",
      "172 [173] 0.05s None xihu-xizhoubicyclelane\n",
      "173 [174] 0.05s None collaborative-badlands-project\n",
      "174 [175] 0.06s None 106_kaohsiung_18\n",
      "175 [176] 0.06s None twedcschildren\n",
      "176 [177] 0.05s None ncku_mtms\n",
      "177 [178] 0.06s None lakulaku_river_basin\n",
      "178 [179] 0.07s None penguin\n",
      "179 [180] 0.06s None ecosystemservice\n",
      "180 [181] 0.06s None _carbon_2020_2023\n",
      "181 [182] 0.06s None 29-5k-14k\n",
      "182 [183] 0.05s None ntwyg4\n",
      "183 [184] 0.05s None hcc_tcr_ecomap_2020\n",
      "184 [185] 0.05s None ecological-considerations-107hsinchu-city\n",
      "185 [186] 0.06s None ecological-considerations-108109hsinchu-city\n",
      "186 [187] 0.06s None 1100-1111\n",
      "187 [188] 0.06s None 112-113\n",
      "188 [189] 0.06s None https-data-depositar-io-dataset-7eb94\n",
      "189 [190] 0.05s None michelle891023\n",
      "190 [191] 0.06s None 10-2\n",
      "191 [192] 0.05s None wiselabproject\n",
      "192 [193] 0.05s None n111230310004\n",
      "193 [194] 0.05s None 751\n",
      "194 [195] 0.05s None oceanbiodiversity-ch\n",
      "195 [196] 0.06s None sandbox\n",
      "196 [197] 0.05s None hahahahatest1\n",
      "197 [198] 0.06s None minshiang\n",
      "198 [199] 0.05s None 1594321316456\n",
      "199 [200] 0.05s None jhuoshuei-river01\n",
      "200 [201] 0.17s None 1-2\n",
      "201 [202] 0.06s None wanli_temple_prescription\n",
      "202 [203] 0.05s None yunlin_ntou5047\n",
      "203 [204] 0.06s None m2010\n",
      "204 [205] 0.05s None contemporary-archiving-in-taiwan\n",
      "205 [206] 0.06s None ecological_check_changhua_shipai\n",
      "206 [207] 0.05s None sssd1\n",
      "207 [208] 0.06s None snsddm2\n",
      "208 [209] 0.05s None snjgdm\n",
      "209 [210] 0.06s None rdm-basics\n",
      "210 [211] 0.05s None xiuguluan-river\n",
      "211 [212] 0.05s None weec\n",
      "212 [213] 0.05s None wra04\n",
      "213 [214] 0.05s None incomplete_datasets\n",
      "214 [215] 0.05s None 166-162\n",
      "215 [216] 0.06s None 169-159\n",
      "216 [217] 0.05s None 110-1111\n",
      "217 [218] 0.06s None 110-111\n",
      "218 [219] 0.05s None ege3t1\n",
      "219 [220] 0.05s None tcgwrbec112-113\n",
      "220 [221] 0.05s None tc_faziriver_landscape-environment-construction-project_107\n",
      "221 [222] 0.07s None tainancp\n",
      "222 [223] 0.06s None panasia-yongkang\n",
      "223 [224] 0.05s None right3\n",
      "224 [225] 0.05s None taitung\n",
      "225 [226] 0.06s None 6ten\n",
      "226 [227] 0.05s None green-heat_inequality\n",
      "227 [228] 0.06s None tccip\n",
      "228 [229] 0.06s None ast\n",
      "229 [230] 0.06s None hualieneconet\n",
      "230 [231] 0.05s None 30\n",
      "231 [232] 0.06s None 107env\n",
      "232 [233] 0.06s None mlsy-ytr-2021\n",
      "233 [234] 0.06s None 128\n",
      "234 [235] 0.04s None ml_eco-monitoring\n",
      "235 [236] 0.07s None green-flow\n",
      "236 [237] 0.06s None miaoliecological112-113\n",
      "237 [238] 0.07s None https-data-depositar-io-dataset-631e4\n",
      "238 [239] 0.07s None lhc_ecosystem_services\n",
      "239 [240] 0.07s None air_faq2017\n",
      "240 [241] 0.06s None gcaa-thaubing-footprint\n",
      "241 [242] 0.07s None miaoli108\n",
      "242 [243] 0.06s None trait\n",
      "243 [244] 0.06s None urban\n",
      "244 [245] 0.06s None sustainability_dmp\n",
      "245 [246] 0.07s None workshop\n",
      "246 [247] 0.06s None tsungchenlee_team\n",
      "247 [248] 0.05s None green-infrastructure_urban-sustainability-transition\n",
      "248 [249] 0.05s None disaster_recovery\n",
      "249 [250] 0.06s None kinmenlibrary\n",
      "250 [251] 0.06s None kinmenjincheng3stage\n",
      "251 [252] 0.06s None data-management-and-publish-in-long-term-socio-ecological-research-ltser\n",
      "252 [253] 0.05s None ltc_energency_pred\n",
      "253 [254] 0.05s None openrdds\n",
      "254 [255] 0.06s None cz-109-2621-m-006-010\n",
      "255 [256] 0.06s None ecoyangmingshan\n",
      "256 [257] 0.05s None 62-1\n",
      "257 [258] 0.06s None yun65_0k-300-1k-860\n",
      "258 [259] 0.07s None 2019sas2th\n",
      "259 [260] 0.06s None touqian-river\n",
      "260 [261] 0.05s None kaohsiung\n",
      "261 [262] 0.06s None _0013\n",
      "262 [263] 0.07s None 108-109\n",
      "263 [264] 0.06s None the-shuang-xi-river-meinong\n"
     ]
    },
    {
     "name": "stdout",
     "output_type": "stream",
     "text": [
      "{'approval_status': 'approved', 'created': '2019-12-10T10:59:34.280389', 'description': '此專案是由基隆市政府委託觀察家生態顧問有限公司執行，針對大武崙溪範圍內3件工程：「大武崙溪排水瓶頸改善工程」、「大武崙溪堤後排水暨瓶頸改善工程(堤後排水及護岸加高)」、「大武崙工業區小型抽排及調整池工程」，秉持生態保育之原則執行工程生態檢核作業。', 'display_name': '107基隆市生態檢核工作計畫', 'extras': [], 'groups': [], 'id': 'e95ce98f-705c-417b-821f-9dca68c8d634', 'image_display_url': 'https://data.depositar.io/uploads/group/2020-08-13-124731.523792IMG9499.JPG', 'image_url': '2020-08-13-124731.523792IMG9499.JPG', 'is_organization': True, 'name': '107ecological_check_project_of_keelung_city_2018', 'num_followers': 0, 'package_count': 1, 'state': 'active', 'tags': [], 'title': '107基隆市生態檢核工作計畫', 'type': 'organization'}\n"
     ]
    },
    {
     "name": "stderr",
     "output_type": "stream",
     "text": [
      "264 [None] 0.06s None tioceansounscape\n"
     ]
    }
   ],
   "source": [
    "cmd = [  # for package\n",
    "    'ckanapi',\n",
    "    'dump',\n",
    "    'organizations',\n",
    "    '--all',\n",
    "    '-O',\n",
    "    'projects.jsonl.gz',\n",
    "    '-z',\n",
    "    '-r',\n",
    "    'https://data.depositar.io'\n",
    "]\n",
    "\n",
    "subprocess.run(cmd, check=True)\n",
    "\n",
    "o_project = []\n",
    "\n",
    "with gzip.open(\"projects.jsonl.gz\", \"rb\") as f_in:\n",
    "    with open(\"projects.jsonl\", \"wb\") as f_out:\n",
    "        f_out.write(f_in.read())\n",
    "with open(\"projects.jsonl\", \"r\") as f: #游標位置會變\n",
    "    line_count = 0\n",
    "    for line in f:\n",
    "      line_count += 1\n",
    "    f.seek(0) #讓游標讀取位置回到原點\n",
    "    for i in range(line_count):\n",
    "        line = f.readline()\n",
    "        data = json.loads(line)\n",
    "        o_project.append(data)"
   ]
  },
  {
   "cell_type": "code",
   "execution_count": 3,
   "metadata": {
    "tags": [
     "remove-cell"
    ]
   },
   "outputs": [],
   "source": [
    "# Set the command\n",
    "cmd = [  # for package\n",
    "    'ckanapi',\n",
    "    'dump',\n",
    "    'groups',\n",
    "    '--all',\n",
    "    '-O',\n",
    "    'topics.jsonl.gz',\n",
    "    '-z',\n",
    "    '-r',\n",
    "    'https://data.depositar.io'\n",
    "]\n",
    "# Execute the command\n",
    "completed_process = subprocess.run(cmd, stdout=subprocess.PIPE, stderr=subprocess.PIPE, text=True)\n",
    "\n",
    "o_topic = []\n",
    "\n",
    "\n",
    "with gzip.open(\"topics.jsonl.gz\", \"rb\") as f_in:\n",
    "    with open(\"topics.jsonl\", \"wb\") as f_out:\n",
    "        f_out.write(f_in.read())\n",
    "with open(\"topics.jsonl\", \"r\") as f: #游標位置會變\n",
    "    line_count = 0\n",
    "    for line in f:\n",
    "      line_count += 1\n",
    "    f.seek(0) #讓游標讀取位置回到原點\n",
    "    for i in range(line_count):\n",
    "        line = f.readline()\n",
    "        data = json.loads(line)\n",
    "        o_topic.append(data)\n"
   ]
  },
  {
   "cell_type": "markdown",
   "metadata": {},
   "source": [
    "<h2> Data format </h2>"
   ]
  },
  {
   "cell_type": "code",
   "execution_count": null,
   "metadata": {
    "tags": [
     "remove-cell"
    ]
   },
   "outputs": [],
   "source": [
    "print(\"dataset\",o_dataset[:2])\n",
    "print(\"project\",o_project[0])\n",
    "print(\"topic\",o_topic[0])"
   ]
  },
  {
   "cell_type": "markdown",
   "metadata": {},
   "source": [
    "<h2> update among a week (package) </h2>\n"
   ]
  },
  {
   "cell_type": "code",
   "execution_count": 27,
   "metadata": {
    "tags": [
     "hide-input"
    ]
   },
   "outputs": [
    {
     "name": "stdout",
     "output_type": "stream",
     "text": [
      "[{'time': '2023-08-15T01:52:29.154858', 'title': '2023 GIS中心：南山公墓相關資料'}, {'time': '2023-08-15T00:08:55.604774', 'title': '石門水庫阿姆坪防淤隧道工程計畫-大嵙崁清淤輸送系統委託規畫設計監造生態檢核-[施工階段]'}, {'time': '2023-08-14T09:03:53.715886', 'title': '2023 GIS中心：南山公墓相關資料'}, {'time': '2023-08-14T08:47:30.961480', 'title': '2023 GIS中心：南山公墓相關資料'}, {'time': '2023-08-14T08:45:54.612597', 'title': '2023 GIS中心：南山公墓相關資料'}, {'time': '2023-08-14T03:44:47.093220', 'title': '南山公墓專題素材'}, {'time': '2023-08-14T03:44:03.480147', 'title': '南山公墓專題素材'}, {'time': '2023-08-12T07:03:40.247649', 'title': \"MarkZ's\"}, {'time': '2023-08-12T07:03:29.008776', 'title': \"MarkZ's\"}, {'time': '2023-08-12T06:54:38.583751', 'title': \"MarkZ's\"}, {'time': '2023-08-11T02:52:23.697090', 'title': '南山公墓專題素材'}, {'time': '2023-08-11T02:51:33.744308', 'title': '南山公墓專題素材'}, {'time': '2023-08-11T02:41:49.458869', 'title': '南山公墓專題素材'}, {'time': '2023-08-11T02:40:50.290309', 'title': '南山公墓專題素材'}, {'time': '2023-08-10T01:09:50.499206', 'title': '三姓溪排水(河心累距0K+760~0K+800)護岸改善應急工程'}, {'time': '2023-08-10T00:56:16.384163', 'title': '三姓溪排水(河心累距0K+760~0K+800)護岸改善應急工程'}, {'time': '2023-08-10T00:55:47.297137', 'title': '三姓溪排水(河心累距0K+760~0K+800)護岸改善應急工程'}, {'time': '2023-08-10T00:54:33.721659', 'title': '溫寮溪道路工程(平面道路工區1、堤防道路、橋樑工區1、平面道路工區2、平面道路工區4)施工階段生態檢核成果'}, {'time': '2023-08-10T00:53:50.691879', 'title': '溫寮溪道路工程(平面道路工區1、堤防道路、橋樑工區1、平面道路工區2、平面道路工區4)施工階段生態檢核成果'}, {'time': '2023-08-10T00:52:45.916373', 'title': '溫寮溪道路工程(平面道路工區1、堤防道路、橋樑工區1、平面道路工區2、平面道路工區4)施工階段生態檢核成果'}, {'time': '2023-08-10T00:50:48.973556', 'title': '溫寮溪道路工程(平面道路工區1、堤防道路、橋樑工區1、平面道路工區2、平面道路工區4)施工階段生態檢核成果'}, {'time': '2023-08-09T01:08:10.731190', 'title': '綠色能源與循環經濟'}]\n"
     ]
    },
    {
     "data": {
      "image/png": "[encoded data removed]",
      "text/plain": [
       "<Figure size 600x400 with 1 Axes>"
      ]
     },
     "metadata": {},
     "output_type": "display_data"
    }
   ],
   "source": [
    "from datetime import datetime, timedelta\n",
    "import pytz\n",
    "\n",
    "url = \"http://data.depositar.io/api/3/action/recently_changed_packages_activity_list?limit=100\"\n",
    "package_list = requests.get(url).json()\n",
    "up_time = package_list['result']\n",
    "day = 7\n",
    "time_list = []\n",
    "each_d_up = [0]*day\n",
    "\n",
    "for i in up_time:\n",
    "  time_list.append({'time':i['timestamp'],'title':i['data']['package']['title']})\n",
    "\n",
    "def time_in_7d(time_list,each_d_up):\n",
    "    tz = pytz.timezone(\"Asia/Taipei\")\n",
    "    current_tz = datetime.now(tz)\n",
    "    current_time = str(current_tz.replace(tzinfo=None))\n",
    "    current_date = datetime.fromisoformat(current_time)\n",
    "\n",
    "    filter_time = []\n",
    "\n",
    "    for i in time_list:\n",
    "      time = datetime.fromisoformat(i['time'])\n",
    "      if current_date - time <= timedelta(days=day):\n",
    "        filter_time.append(i)\n",
    "        for j in range(day):\n",
    "          if  (current_date - time >= timedelta(days=j)) and (current_date - time <= timedelta(days=j+1)):\n",
    "            each_d_up[j] = each_d_up[j] + 1\n",
    "    return filter_time\n",
    "\n",
    "\n",
    "days_7 = time_in_7d(time_list,each_d_up)\n",
    "print(days_7)\n",
    "\n",
    "def create_dynamic_list(day):\n",
    "    return [f'Day {i}' for i in range(1, day + 1)]\n",
    "days = create_dynamic_list(day)\n",
    "\n",
    "\n",
    "each_d_value = []\n",
    "for i, value in enumerate(each_d_up):\n",
    "    each_d_value.append(value)\n",
    "   \n",
    "\n",
    "fig, ax = plt.subplots(figsize=(6, 4))\n",
    "fig.patch.set_facecolor('#f0f0f0') # Set background color\n",
    "ax.set_facecolor('#f0f0f0')\n",
    "colors = plt.cm.viridis(np.linspace(0.1, 0.8, len(days)))\n",
    "bars = ax.bar(days, each_d_value, color=colors, align='center', width=0.6, edgecolor='#333333', linewidth=2, alpha=0.8, label='Data Values', zorder=2)\n",
    "# Customize the plot\n",
    "ax.set_title(f'Data update in the past {day} days', fontsize=15, color='#333333')\n",
    "for bar in bars:\n",
    "    height = bar.get_height()\n",
    "    ax.annotate(f'{height}',\n",
    "                xy=(bar.get_x() + bar.get_width() / 2, height),\n",
    "                xytext=(0, 5),  # 5 points vertical offset\n",
    "                textcoords='offset points',\n",
    "                ha='center', va='bottom', fontsize=8, color='#333333')\n",
    "\n",
    "# Remove spines\n",
    "ax.spines['top'].set_visible(False)\n",
    "ax.spines['right'].set_visible(False)\n",
    "ax.spines['left'].set_visible(False)\n",
    "\n",
    "# Show the plot\n",
    "plt.yticks([])\n",
    "plt.show()\n"
   ]
  },
  {
   "cell_type": "markdown",
   "metadata": {},
   "source": [
    "<!-- <h1> average number of form fields which have data</h1>\n",
    "\n",
    "**基本資訊:**\n",
    "標題 網址 摘要 資料類型 Wikidata 關鍵字 標籤 語言 備註(都有)\n",
    "\n",
    "**時空資訊:**\n",
    "時間解析度 起始時間 結束時間 空間範圍 空間範圍.X.min 空間範圍.X.max 空間範圍.Y.min 空間範圍.Y.max 空間解析度\n",
    "\n",
    "**管理資訊:** 授權 產製者 資料產製時間 資料處理歷程 專案 聯絡人 聯絡人的電子郵件(都有)\n",
    "\n",
    "**資源層級:**\n",
    "網址 名稱 摘要 字元編碼 座標參考系統 格式 (沒看到字元編碼和座標參考系統) -->"
   ]
  },
  {
   "cell_type": "markdown",
   "metadata": {},
   "source": [
    "```{warning}\n",
    "    It's impossible to know the update of the projects & topics. We can only fetch specific dataset from projects & topics by adding id on api. Without sending api one by one, we can't count projects & topics that are updated recently.\n",
    "```"
   ]
  },
  {
   "cell_type": "markdown",
   "metadata": {},
   "source": [
    "<!-- <h1>largest project</h1>\n",
    "<p></p> -->"
   ]
  },
  {
   "cell_type": "markdown",
   "metadata": {},
   "source": [
    "<!-- <h1>Spatial coverage</h1> -->"
   ]
  },
  {
   "cell_type": "markdown",
   "metadata": {},
   "source": [
    "<!-- <h3> show出這些資料的位置 (有download file的code)</h3> -->"
   ]
  },
  {
   "cell_type": "markdown",
   "metadata": {},
   "source": [
    "<!-- <h1> wikidata 關鍵字 </h1> -->"
   ]
  }
 ],
 "metadata": {
  "kernelspec": {
   "display_name": "Python 3",
   "language": "python",
   "name": "python3"
  },
  "language_info": {
   "codemirror_mode": {
    "name": "ipython",
    "version": 3
   },
   "file_extension": ".py",
   "mimetype": "text/x-python",
   "name": "python",
   "nbconvert_exporter": "python",
   "pygments_lexer": "ipython3",
   "version": "3.10.6"
  },
  "orig_nbformat": 4
 },
 "nbformat": 4,
 "nbformat_minor": 2
}
