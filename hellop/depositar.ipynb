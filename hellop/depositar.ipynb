{
 "cells": [
  {
   "cell_type": "markdown",
   "metadata": {},
   "source": [
    "# Depositar statistic"
   ]
  },
  {
   "cell_type": "markdown",
   "metadata": {},
   "source": [
    "<h3> important data:\n",
    "\n",
    "*   o_dataset : 所有dataset的資料\n",
    "*   o_project :  所有project的資料\n",
    "*   o_topic  :   所有topic的資料\n",
    "</h3>\n",
    "# Page title\n",
    "\n",
    "```{contents}\n",
    "```"
   ]
  },
  {
   "cell_type": "code",
   "execution_count": 118,
   "metadata": {
    "tags": [
     "remove-cell"
    ]
   },
   "outputs": [
    {
     "name": "stdout",
     "output_type": "stream",
     "text": [
      "/bin/bash: warning: setlocale: LC_ALL: cannot change locale (zh_CN.UTF-8)\n",
      "  % Total    % Received % Xferd  Average Speed   Time    Time     Time  Current\n",
      "                                 Dload  Upload   Total   Spent    Left  Speed\n",
      "  0     0    0     0    0     0      0      0 --:--:--  0:00:01 --:--:--     0\n",
      "100 19.7M  100 19.7M    0     0  8794k      0  0:00:02  0:00:02 --:--:-- 27.9M\n",
      "/bin/bash: warning: setlocale: LC_ALL: cannot change locale (zh_CN.UTF-8)\n",
      "E: Could not open lock file /var/lib/dpkg/lock-frontend - open (13: Permission denied)\n",
      "E: Unable to acquire the dpkg frontend lock (/var/lib/dpkg/lock-frontend), are you root?\n"
     ]
    }
   ],
   "source": [
    "\n",
    "!curl -L -o TaipeiSansTCBeta-Regular.ttf \"https://drive.google.com/uc?id=1eGAsTN1HBpJAkeVM57_C7ccp7hbgSz3_&export=download\"\n",
    "!apt-get install gzip\n",
    "import matplotlib as mpl\n",
    "import matplotlib.pyplot as plt\n",
    "import subprocess\n",
    "import gzip\n",
    "import json\n",
    "import requests\n",
    "import numpy as np\n",
    "from matplotlib.font_manager import fontManager\n",
    "from collections import Counter\n",
    "\n",
    "fontManager.addfont('TaipeiSansTCBeta-Regular.ttf')\n",
    "mpl.rc('font', family='Taipei Sans TC Beta')\n",
    "\n"
   ]
  },
  {
   "cell_type": "markdown",
   "metadata": {
    "tags": [
     "hide-input"
    ]
   },
   "source": [
    "<h1>Get all dataset properties</h1>\n",
    "<p>"
   ]
  },
  {
   "cell_type": "code",
   "execution_count": 119,
   "metadata": {
    "tags": [
     "remove-input",
     "hide-output"
    ]
   },
   "outputs": [
    {
     "name": "stderr",
     "output_type": "stream",
     "text": [
      "/home/weipo/.local/lib/python3.10/site-packages/ckanapi/cli/search.py:63: FutureWarning: GzipFile was opened for writing, but this will change in future Python releases.  Specify the mode argument for opening it for writing.\n",
      "  jsonl_output = gzip.GzipFile(fileobj=jsonl_output)\n"
     ]
    },
    {
     "name": "stdout",
     "output_type": "stream",
     "text": [
      "[{'author': '蔡韋漢', 'author_email': None, 'contact_email': 'hank89520@gmail.com', 'contact_person': '蔡韋漢', 'created_time': '2023-08-08', 'creator_user_id': 'b463adf3-d71e-4c46-abe0-016a72eac751', 'data_type': ['archive'], 'end_time': '2023-08-08', 'groups': [], 'id': 'f7cc490c-df6d-4c74-85e6-da3af9f7dc38', 'isopen': True, 'keywords': ['Q64481569'], 'language': ['zho'], 'license_id': 'pd', 'license_title': 'Public Domain', 'license_url': 'https://creativecommons.org/publicdomain/mark/1.0/', 'maintainer': None, 'maintainer_email': None, 'metadata_created': '2023-08-08T07:00:16.070724', 'metadata_modified': '2023-08-08T07:01:58.168807', 'name': '50fa6', 'notes': '', 'num_resources': 1, 'num_tags': 1, 'organization': None, 'private': False, 'process_step': '', 'relationships_as_object': [], 'relationships_as_subject': [], 'remarks': '', 'resources': [{'cache_last_updated': None, 'cache_url': None, 'created': '2023-08-08T07:01:54.950611', 'datastore_active': False, 'datastore_contains_all_records_of_source_file': False, 'description': '', 'encoding': 'utf-8', 'format': 'ZIP', 'hash': '', 'id': 'fda4b91f-81f4-4f63-bb7d-5a9bad7edf89', 'last_modified': '2023-08-08T07:01:54.851877', 'metadata_modified': '2023-08-08T07:01:58.176608', 'mimetype': 'application/zip', 'mimetype_inner': None, 'name': '南山公墓網格', 'package_id': 'f7cc490c-df6d-4c74-85e6-da3af9f7dc38', 'position': 0, 'resource_crs': 3857, 'resource_type': None, 'size': 81499, 'state': 'active', 'url': 'https://data.depositar.io/dataset/f7cc490c-df6d-4c74-85e6-da3af9f7dc38/resource/fda4b91f-81f4-4f63-bb7d-5a9bad7edf89/download/%25E5%258D%2597%25E5%25B1%25B1%25E5%2585%25AC%25E5%25A2%2593%25E7%25B6%25B2%25E6%25A0%25BC.zip', 'url_type': 'upload'}], 'start_time': '2023-08-08', 'state': 'active', 'tags': [{'display_name': '南山公墓', 'id': 'aea84ccd-7a8b-48ed-8c70-d1642cf06938', 'name': '南山公墓', 'state': 'active', 'vocabulary_id': None}], 'temp_res': 'yearly', 'title': '南山公墓網格', 'type': 'dataset', 'url': None, 'version': None}, {'author': '安倉營造股份有限公司', 'author_email': None, 'contact_email': 'ecowindow168@gmail.com', 'contact_person': '林彥伶', 'creator_user_id': '3f15bfe9-364a-4b5e-b9dc-08b686503e44', 'data_type': ['doc'], 'groups': [], 'id': 'dd2f0661-a975-4d2f-931c-12637337ff34', 'isopen': False, 'keywords': [], 'language': [], 'license_id': 'notspecified', 'license_title': 'License Not Specified', 'maintainer': None, 'maintainer_email': None, 'metadata_created': '2023-08-07T07:32:54.725418', 'metadata_modified': '2023-08-07T07:47:55.883531', 'name': '8c1a4', 'notes': '工程準備階段生態檢核報告', 'num_resources': 2, 'num_tags': 0, 'organization': None, 'private': False, 'process_step': '', 'relationships_as_object': [], 'relationships_as_subject': [], 'remarks': '', 'resources': [{'cache_last_updated': None, 'cache_url': None, 'created': '2023-08-07T07:34:16.845995', 'datastore_active': False, 'datastore_contains_all_records_of_source_file': False, 'description': '', 'format': 'PDF', 'hash': '', 'id': '84d04205-f237-4fe9-8646-851d3a0d10c5', 'last_modified': '2023-08-07T07:34:16.766162', 'metadata_modified': '2023-08-07T07:47:55.893274', 'mimetype': 'application/pdf', 'mimetype_inner': None, 'name': '二重疏洪道左岸加高工程工程準備階段生態檢核報告(核定版)', 'package_id': 'dd2f0661-a975-4d2f-931c-12637337ff34', 'position': 0, 'resource_type': None, 'size': 55536992, 'state': 'active', 'url': 'https://data.depositar.io/dataset/dd2f0661-a975-4d2f-931c-12637337ff34/resource/84d04205-f237-4fe9-8646-851d3a0d10c5/download/%2525E6%252596%2525BD%2525E5%2525B7%2525A5%2525E9%25259A%25258E%2525E6%2525AE%2525B5%2525E7%252594%25259F%2525E6%252585%25258B%2525E6%25.pdf', 'url_type': 'upload'}, {'cache_last_updated': None, 'cache_url': None, 'created': '2023-08-07T07:47:55.899003', 'datastore_active': False, 'datastore_contains_all_records_of_source_file': False, 'description': '', 'format': 'PDF', 'hash': '', 'id': '6b93aa75-988f-43b0-a951-1286f5fef826', 'last_modified': '2023-08-07T07:47:55.802150', 'metadata_modified': '2023-08-07T07:47:55.893487', 'mimetype': 'application/pdf', 'mimetype_inner': None, 'name': '二重疏洪道堤防加高工程_施工階段廠商生態保育措施自主檢查表2022.11~2023.06', 'package_id': 'dd2f0661-a975-4d2f-931c-12637337ff34', 'position': 1, 'resource_type': None, 'size': 7552441, 'state': 'active', 'url': 'https://data.depositar.io/dataset/dd2f0661-a975-4d2f-931c-12637337ff34/resource/6b93aa75-988f-43b0-a951-1286f5fef826/download/%E7%94%9F%E6%85%8B%E4%BF%9D%E8%82%B2%E6%8E%AA%E6%96%BD%E8%87%AA%E4%B8%BB%E6%AA%A2%E6%9F%A5%E8%A1%A8111.11.15-112.06.30%281%29.pdf', 'url_type': 'upload'}], 'state': 'active', 'tags': [], 'title': '二重疏洪道左岸加高工程', 'type': 'dataset', 'url': None, 'version': None}]\n"
     ]
    }
   ],
   "source": [
    "# Set the command\n",
    "cmd = [  # for package\n",
    "    'ckanapi',\n",
    "    'search',\n",
    "    'datasets',\n",
    "    '-O',\n",
    "    'datasets.jsonl.gz',\n",
    "    '-z',\n",
    "    '-r',\n",
    "    'https://data.depositar.io'\n",
    "]\n",
    "\n",
    "# Execute the command\n",
    "subprocess.run(cmd, check=True)\n",
    "\n",
    "o_dataset = []\n",
    "dataset_path = \"./datasets.jsonl.gz\"\n",
    "dataset_ad =\"./datasets.jsonl\"\n",
    "\n",
    "\n",
    "with gzip.open(dataset_path, \"rb\") as f_in:\n",
    "    with open(dataset_ad, \"wb\") as f_out:\n",
    "        f_out.write(f_in.read())\n",
    "with open(\"datasets.jsonl\", \"r\") as f: #游標位置會變\n",
    "    line_count = 0\n",
    "    for line in f:\n",
    "      line_count += 1\n",
    "    f.seek(0) #讓游標讀取位置回到原點\n",
    "    for i in range(line_count):\n",
    "        line = f.readline()\n",
    "        data = json.loads(line)\n",
    "        o_dataset.append(data)\n",
    "print(o_dataset[:2])"
   ]
  },
  {
   "cell_type": "markdown",
   "metadata": {},
   "source": [
    "<h1> get all project properties(1min)</h1>"
   ]
  },
  {
   "cell_type": "code",
   "execution_count": 120,
   "metadata": {
    "tags": [
     "remove-input",
     "hide-output"
    ]
   },
   "outputs": [
    {
     "name": "stderr",
     "output_type": "stream",
     "text": [
      "/home/weipo/.local/lib/python3.10/site-packages/ckanapi/cli/dump.py:49: FutureWarning: GzipFile was opened for writing, but this will change in future Python releases.  Specify the mode argument for opening it for writing.\n",
      "  jsonl_output = gzip.GzipFile(fileobj=jsonl_output)\n",
      "0 [1] --- None 107ecological_check_project_of_keelung_city_2018\n",
      "1 [2] 0.05s None ecocheck_taichung_2018\n",
      "2 [3] 0.05s None ecological-considerations-107yilan\n",
      "3 [4] 0.06s None chiahung\n",
      "4 [5] 0.06s None ecological-considerations-107hsinchu\n",
      "5 [6] 0.05s None 107-taoyuan\n",
      "6 [7] 0.04s None 107\n",
      "7 [8] 0.05s None ecological-considerations-107miaoli\n",
      "8 [9] 0.04s None 2018\n",
      "9 [10] 0.05s None 107yl\n",
      "10 [11] 0.05s None ecological-considerations-107kaohsiung\n",
      "11 [12] 0.05s None bn-right3\n",
      "12 [13] 0.04s None ecocheck_taichung_2019-2020\n",
      "13 [14] 0.04s None cycwater108109\n",
      "14 [15] 0.06s None 108109changhuacology\n",
      "15 [16] 0.05s None 109ch\n",
      "16 [17] 0.05s None ch108-109\n",
      "17 [18] 0.05s None 108-109_hsinchu\n",
      "18 [19] 0.05s None ecocheck_miaoli_2019-2020\n",
      "19 [20] 0.05s None yunlin_ecocheck_108-109\n",
      "20 [21] 0.05s None yunlin_ecocheck_108-109_110\n",
      "21 [22] 0.04s None 108\n",
      "22 [23] 0.06s None 108taichung\n",
      "23 [24] 0.05s None 109-_-_\n",
      "24 [25] 0.05s None 109taipei\n",
      "25 [26] 0.04s None 109-_\n",
      "26 [27] 0.04s None 10911\n",
      "27 [28] 0.06s None 110-111changhua\n",
      "28 [29] 0.05s None 110-111newtaipei\n",
      "29 [30] 0.05s None w110009\n",
      "30 [31] 0.05s None bnright1\n",
      "31 [32] 0.04s None yongle2k470\n",
      "32 [33] 0.04s None tt-right1\n",
      "33 [34] 0.18s None yunlin_ecocheck_110-111\n",
      "34 [35] 0.06s None 110-111kaohsiung-ecologicalinspection\n",
      "35 [36] 0.05s None wra5-110-bz\n",
      "36 [37] 0.05s None 1101\n",
      "37 [38] 0.04s None 110\n",
      "38 [39] 0.05s None taoenvegoven\n",
      "39 [40] 0.18s None 110wra06\n",
      "40 [41] 0.04s None 110c8763\n",
      "41 [42] 0.04s None 112-113changhua\n",
      "42 [43] 0.04s None 112-113newtaipei\n",
      "43 [44] 0.05s None yunlin_ecocheck_112-113\n",
      "44 [45] 0.04s None 119-26k-000-26k-670\n",
      "45 [46] 0.04s None 123\n",
      "46 [47] 0.05s None 128-3k-600-4k-900\n",
      "47 [48] 0.05s None nantouecologicalguardian1995_2040\n",
      "48 [49] 0.04s None 2008-paworkshop\n",
      "49 [50] 0.05s None 2009-playaround-workshop\n",
      "50 [51] 0.04s None 2010-playaround-workshop\n",
      "51 [52] 0.05s None 2012-playaround-workshop\n",
      "52 [53] 0.04s None 2018-playaround-workshop\n",
      "53 [54] 0.05s None 2020_2050nantouanalyze\n",
      "54 [55] 0.07s None 2021geomatics\n",
      "55 [56] 0.05s None landscape-doc-2021\n",
      "56 [57] 0.04s None 2022iis-intern-depositar\n",
      "57 [58] 0.05s None 2022-summer-gravesite-survey\n",
      "58 [59] 0.05s None ml-rcdec-2022\n",
      "59 [60] 0.13s None 2023-_-narration-exploration-and-presentation-of-wikidata-annotated-resources\n",
      "60 [61] 0.05s None 2023-summer-projects\n",
      "61 [62] 0.05s None 38\n",
      "62 [63] 0.04s None fair\n",
      "63 [64] 0.04s None nanshan_2021-10-14\n",
      "64 [65] 0.05s None ai-cup\n",
      "65 [66] 0.04s None angis\n",
      "66 [67] 0.04s None asian-eco-net\n",
      "67 [68] 0.05s None asian-forest-soundscape\n",
      "68 [69] 0.05s None covid19\n",
      "69 [70] 0.07s None covid19tw\n",
      "70 [71] 0.04s None covid2019\n",
      "71 [72] 0.05s None cities_gi\n",
      "72 [73] 0.06s None clidi\n",
      "73 [74] 0.04s None data-depositar-io-dataset-631e4\n",
      "74 [75] 0.04s None depositar\n",
      "75 [76] 0.05s None ecai-pacific-language-mapping\n",
      "76 [77] 0.05s None fantasybaseball\n",
      "77 [78] 0.04s None geep-ap\n",
      "78 [79] 0.04s None gis_topics\n",
      "79 [80] 0.05s None www-rdr\n",
      "80 [81] 0.05s None gloria-taiwan\n",
      "81 [82] 0.05s None human-paleodiets\n",
      "82 [83] 0.05s None iislab317\n",
      "83 [84] 0.06s None jijiji\n",
      "84 [85] 0.05s None lod-taichung\n",
      "85 [86] 0.04s None low-impact-development-for-sustainable-tourism\n",
      "86 [87] 0.06s None ltserchanghua\n",
      "87 [88] 0.04s None ltser-lyudao\n",
      "88 [89] 0.05s None ltser-feitsuei\n",
      "89 [90] 0.06s None maps-re-imagined\n",
      "90 [91] 0.05s None oceanbiodiversity\n",
      "91 [92] 0.05s None low-cost-sensor\n",
      "92 [93] 0.05s None roger\n",
      "93 [94] 0.04s None study-on-covid-19-vaccination-strategies\n",
      "94 [95] 0.04s None taismart\n",
      "95 [96] 0.04s None tbn\n",
      "96 [97] 0.04s None wbgt\n",
      "97 [98] 0.04s None testpermission\n",
      "98 [99] 0.04s None thakbong\n",
      "99 [100] 0.04s None ultrasoundscape-brcas\n",
      "100 [101] 0.12s None nanshan_2022-03-13\n",
      "101 [102] 0.05s None wikidata-religions-temples-in-tainan-and-penghu\n",
      "102 [103] 0.05s None wildstreamob\n",
      "103 [104] 0.05s None 110_three\n",
      "104 [105] 0.04s None 17-0k-800-1k-150\n",
      "105 [106] 0.05s None irc-pccu\n",
      "106 [107] 0.04s None swchina\n",
      "107 [108] 0.04s None 22-26-14k-000_16k-406\n",
      "108 [109] 0.05s None as-rchss-gis\n",
      "109 [110] 0.06s None nbs_bstp\n",
      "110 [111] 0.04s None nbis_shezidao\n",
      "111 [112] 0.04s None nbs_taipei-guizikeng\n",
      "112 [113] 0.04s None bps\n",
      "113 [114] 0.04s None 108109\n",
      "114 [115] 0.04s None dataset\n",
      "115 [116] 0.04s None hsinchu112-113\n",
      "116 [117] 0.04s None https-sites-google-com-view-waterenv-hsinchu110-111-e9-a6-96-e9-a0-81\n",
      "117 [118] 0.04s None miaoliwaterproject\n",
      "118 [119] 0.04s None ml_eco-plan\n",
      "119 [120] 0.04s None 110-111-kaohsiung\n",
      "120 [121] 0.04s None lcs_pm_taiwan_indonesia\n",
      "121 [122] 0.05s None bstp-development\n",
      "122 [123] 0.04s None beigang-stream\n",
      "123 [124] 0.04s None beigang_river\n",
      "124 [125] 0.04s None taitung2\n",
      "125 [126] 0.04s None 109-110\n",
      "126 [127] 0.07s None discovering-of-taiwan-historical-maps\n",
      "127 [128] 0.05s None binjijijh-l\n",
      "128 [129] 0.05s None https-www-ud-taichung-gov-tw\n",
      "129 [130] 0.04s None taijiangproject\n",
      "130 [131] 0.04s None taijiang_sustainable_plan\n",
      "131 [132] 0.07s None nsysu\n",
      "132 [133] 0.05s None twrw-eco2021\n",
      "133 [134] 0.05s None he-she-river\n",
      "134 [135] 0.05s None 111\n",
      "135 [136] 0.05s None chia-nan-project\n",
      "136 [137] 0.05s None 10-3\n",
      "137 [138] 0.06s None east-stone\n",
      "138 [139] 0.05s None 107wpro\n",
      "139 [140] 0.05s None 108-109_chiayi\n",
      "140 [141] 0.05s None chiayi110-111\n",
      "141 [142] 0.05s None wmts\n",
      "142 [143] 0.05s None ncyu_invasive_species\n",
      "143 [144] 0.04s None ncyu_safety_map\n",
      "144 [145] 0.05s None ncyu_water_resources\n",
      "145 [146] 0.05s None ncyu_facilities\n",
      "146 [147] 0.05s None ncyu-energy\n",
      "147 [148] 0.05s None ncyu_recycling\n",
      "148 [149] 0.05s None keelung-nuan\n",
      "149 [150] 0.05s None ecological_check_project_of_keelung_city_2019\n",
      "150 [151] 0.04s None 109\n",
      "151 [152] 0.04s None keelung-110\n",
      "152 [153] 0.05s None keelung111\n",
      "153 [154] 0.04s None dazhi_drainage_1\n",
      "154 [155] 0.06s None 12\n",
      "155 [156] 10.16s None 108-dahu\n",
      "156 [157] 0.39s None dagouxi_riverside_park_and_jinruei_riverside_park\n",
      "157 [158] 0.06s None urbanforest\n",
      "158 [159] 0.05s None resilience_uf\n",
      "159 [160] 0.04s None nstc_uttsr_sp2\n",
      "160 [161] 0.05s None 0k-866-1k-547\n",
      "161 [162] 0.05s None annongriver\n",
      "162 [163] 0.05s None zhuangdong\n",
      "163 [164] 0.07s None 108-109yilan\n",
      "164 [165] 0.05s None ecological-considerations-108109yilan\n",
      "165 [166] 0.05s None thcdc\n",
      "166 [167] 0.05s None site2\n",
      "167 [168] 0.05s None liudui\n",
      "168 [169] 0.05s None ky-and-gl\n",
      "169 [170] 0.06s None 10714\n",
      "170 [171] 0.06s None ecological-considerations-108109pingtung\n",
      "171 [172] 0.05s None 110-1111111111111\n",
      "172 [173] 0.06s None xihu-xizhoubicyclelane\n",
      "173 [174] 0.04s None collaborative-badlands-project\n",
      "174 [175] 0.05s None 106_kaohsiung_18\n",
      "175 [176] 0.05s None twedcschildren\n",
      "176 [177] 0.05s None ncku_mtms\n",
      "177 [178] 0.05s None lakulaku_river_basin\n",
      "178 [179] 0.05s None penguin\n",
      "179 [180] 0.04s None ecosystemservice\n",
      "180 [181] 0.05s None _carbon_2020_2023\n",
      "181 [182] 0.05s None 29-5k-14k\n",
      "182 [183] 0.05s None ntwyg4\n",
      "183 [184] 0.05s None hcc_tcr_ecomap_2020\n",
      "184 [185] 0.05s None ecological-considerations-107hsinchu-city\n",
      "185 [186] 0.04s None ecological-considerations-108109hsinchu-city\n",
      "186 [187] 0.06s None 1100-1111\n",
      "187 [188] 0.05s None 112-113\n",
      "188 [189] 0.05s None https-data-depositar-io-dataset-7eb94\n",
      "189 [190] 0.04s None michelle891023\n",
      "190 [191] 0.04s None 10-2\n",
      "191 [192] 0.05s None wiselabproject\n",
      "192 [193] 0.05s None n111230310004\n",
      "193 [194] 0.04s None 751\n",
      "194 [195] 0.05s None oceanbiodiversity-ch\n",
      "195 [196] 0.05s None sandbox\n",
      "196 [197] 0.08s None hahahahatest1\n",
      "197 [198] 0.10s None minshiang\n",
      "198 [199] 0.05s None 1594321316456\n",
      "199 [200] 0.07s None jhuoshuei-river01\n",
      "200 [201] 0.13s None 1-2\n",
      "201 [202] 0.20s None wanli_temple_prescription\n",
      "202 [203] 0.05s None yunlin_ntou5047\n",
      "203 [204] 0.05s None m2010\n",
      "204 [205] 0.05s None contemporary-archiving-in-taiwan\n",
      "205 [206] 0.06s None ecological_check_changhua_shipai\n",
      "206 [207] 0.05s None sssd1\n",
      "207 [208] 0.05s None snsddm2\n",
      "208 [209] 0.05s None snjgdm\n",
      "209 [210] 0.05s None rdm-basics\n",
      "210 [211] 0.05s None xiuguluan-river\n",
      "211 [212] 0.06s None weec\n",
      "212 [213] 0.05s None wra04\n",
      "213 [214] 0.05s None incomplete_datasets\n",
      "214 [215] 0.06s None 166-162\n",
      "215 [216] 0.05s None 169-159\n",
      "216 [217] 0.05s None ege3t1\n",
      "217 [218] 0.05s None 110-111\n",
      "218 [219] 0.05s None 110-1111\n",
      "219 [220] 0.04s None tcgwrbec112-113\n",
      "220 [221] 0.05s None tc_faziriver_landscape-environment-construction-project_107\n",
      "221 [222] 0.05s None tainancp\n",
      "222 [223] 0.04s None panasia-yongkang\n",
      "223 [224] 0.05s None right3\n",
      "224 [225] 0.18s None taitung\n",
      "225 [226] 0.05s None 6ten\n",
      "226 [227] 0.05s None green-heat_inequality\n",
      "227 [228] 0.05s None tccip\n",
      "228 [229] 0.05s None ast\n",
      "229 [230] 0.06s None hualieneconet\n",
      "230 [231] 0.05s None 30\n",
      "231 [232] 0.05s None 107env\n",
      "232 [233] 0.04s None mlsy-ytr-2021\n",
      "233 [234] 0.05s None 128\n",
      "234 [235] 0.05s None ml_eco-monitoring\n",
      "235 [236] 0.06s None green-flow\n",
      "236 [237] 0.05s None miaoliecological112-113\n",
      "237 [238] 0.05s None https-data-depositar-io-dataset-631e4\n",
      "238 [239] 0.05s None lhc_ecosystem_services\n",
      "239 [240] 0.05s None air_faq2017\n",
      "240 [241] 0.05s None gcaa-thaubing-footprint\n",
      "241 [242] 0.04s None miaoli108\n",
      "242 [243] 0.05s None trait\n",
      "243 [244] 0.05s None urban\n",
      "244 [245] 0.05s None sustainability_dmp\n",
      "245 [246] 0.06s None workshop\n",
      "246 [247] 0.04s None tsungchenlee_team\n",
      "247 [248] 0.05s None green-infrastructure_urban-sustainability-transition\n",
      "248 [249] 0.05s None disaster_recovery\n",
      "249 [250] 0.05s None kinmenlibrary\n",
      "250 [251] 0.05s None kinmenjincheng3stage\n",
      "251 [252] 0.04s None data-management-and-publish-in-long-term-socio-ecological-research-ltser\n",
      "252 [253] 0.04s None ltc_energency_pred\n",
      "253 [254] 0.05s None openrdds\n",
      "254 [255] 0.04s None cz-109-2621-m-006-010\n",
      "255 [256] 0.05s None ecoyangmingshan\n",
      "256 [257] 0.04s None 62-1\n",
      "257 [258] 0.06s None yun65_0k-300-1k-860\n",
      "258 [259] 0.05s None 2019sas2th\n",
      "259 [260] 0.05s None touqian-river\n",
      "260 [261] 0.05s None kaohsiung\n",
      "261 [262] 0.05s None _0013\n",
      "262 [263] 0.07s None 108-109\n"
     ]
    },
    {
     "name": "stdout",
     "output_type": "stream",
     "text": [
      "{'approval_status': 'approved', 'created': '2019-12-10T10:59:34.280389', 'description': '此專案是由基隆市政府委託觀察家生態顧問有限公司執行，針對大武崙溪範圍內3件工程：「大武崙溪排水瓶頸改善工程」、「大武崙溪堤後排水暨瓶頸改善工程(堤後排水及護岸加高)」、「大武崙工業區小型抽排及調整池工程」，秉持生態保育之原則執行工程生態檢核作業。', 'display_name': '107基隆市生態檢核工作計畫', 'extras': [], 'groups': [], 'id': 'e95ce98f-705c-417b-821f-9dca68c8d634', 'image_display_url': 'https://data.depositar.io/uploads/group/2020-08-13-124731.523792IMG9499.JPG', 'image_url': '2020-08-13-124731.523792IMG9499.JPG', 'is_organization': True, 'name': '107ecological_check_project_of_keelung_city_2018', 'num_followers': 0, 'package_count': 1, 'state': 'active', 'tags': [], 'title': '107基隆市生態檢核工作計畫', 'type': 'organization'}\n"
     ]
    },
    {
     "name": "stderr",
     "output_type": "stream",
     "text": [
      "263 [264] 0.04s None the-shuang-xi-river-meinong\n",
      "264 [None] 0.05s None tioceansounscape\n"
     ]
    }
   ],
   "source": [
    "cmd = [  # for package\n",
    "    'ckanapi',\n",
    "    'dump',\n",
    "    'organizations',\n",
    "    '--all',\n",
    "    '-O',\n",
    "    'projects.jsonl.gz',\n",
    "    '-z',\n",
    "    '-r',\n",
    "    'https://data.depositar.io'\n",
    "]\n",
    "\n",
    "subprocess.run(cmd, check=True)\n",
    "\n",
    "o_project = []\n",
    "\n",
    "with gzip.open(\"projects.jsonl.gz\", \"rb\") as f_in:\n",
    "    with open(\"projects.jsonl\", \"wb\") as f_out:\n",
    "        f_out.write(f_in.read())\n",
    "with open(\"projects.jsonl\", \"r\") as f: #游標位置會變\n",
    "    line_count = 0\n",
    "    for line in f:\n",
    "      line_count += 1\n",
    "    f.seek(0) #讓游標讀取位置回到原點\n",
    "    for i in range(line_count):\n",
    "        line = f.readline()\n",
    "        data = json.loads(line)\n",
    "        o_project.append(data)\n",
    "print(o_project[0])"
   ]
  },
  {
   "cell_type": "markdown",
   "metadata": {
    "tags": [
     "hide-input"
    ]
   },
   "source": [
    "<h1>get all topic </h1>\n",
    "<p></p>"
   ]
  },
  {
   "cell_type": "code",
   "execution_count": 121,
   "metadata": {
    "tags": [
     "remove-input",
     "hide-output"
    ]
   },
   "outputs": [
    {
     "name": "stdout",
     "output_type": "stream",
     "text": [
      "{'approval_status': 'approved', 'created': '2018-10-15T22:44:45.141092', 'description': '', 'display_name': '00. 一般性參考資料 / General reference', 'extras': [], 'groups': [], 'id': '5f5ffe95-4d22-4005-a54e-bb5273f6e5be', 'image_display_url': 'https://data.depositar.io/uploads/group/2018-10-23-061540.113498icon-01.svg', 'image_url': '2018-10-23-061540.113498icon-01.svg', 'is_organization': False, 'name': 'general-reference', 'num_followers': 0, 'package_count': 15, 'state': 'active', 'tags': [], 'title': '00. 一般性參考資料 / General reference', 'type': 'group'}\n"
     ]
    }
   ],
   "source": [
    "# Set the command\n",
    "cmd = [  # for package\n",
    "    'ckanapi',\n",
    "    'dump',\n",
    "    'groups',\n",
    "    '--all',\n",
    "    '-O',\n",
    "    'topics.jsonl.gz',\n",
    "    '-z',\n",
    "    '-r',\n",
    "    'https://data.depositar.io'\n",
    "]\n",
    "# Execute the command\n",
    "completed_process = subprocess.run(cmd, stdout=subprocess.PIPE, stderr=subprocess.PIPE, text=True)\n",
    "\n",
    "o_topic = []\n",
    "\n",
    "\n",
    "with gzip.open(\"topics.jsonl.gz\", \"rb\") as f_in:\n",
    "    with open(\"topics.jsonl\", \"wb\") as f_out:\n",
    "        f_out.write(f_in.read())\n",
    "with open(\"topics.jsonl\", \"r\") as f: #游標位置會變\n",
    "    line_count = 0\n",
    "    for line in f:\n",
    "      line_count += 1\n",
    "    f.seek(0) #讓游標讀取位置回到原點\n",
    "    for i in range(line_count):\n",
    "        line = f.readline()\n",
    "        data = json.loads(line)\n",
    "        o_topic.append(data)\n",
    "print(o_topic[0])\n"
   ]
  },
  {
   "cell_type": "markdown",
   "metadata": {},
   "source": [
    "<h1> largest author</h1>\n",
    "<p></p>"
   ]
  },
  {
   "cell_type": "code",
   "execution_count": 1,
   "metadata": {
    "tags": [
     "hide-input"
    ]
   },
   "outputs": [],
   "source": [
    "# author = []\n",
    "# for i in o_dataset[:-1]: # 最後一個沒有作者\n",
    "#   author.append(i['author'])\n",
    "# author_counts = Counter(author)\n",
    "\n",
    "# top_authors = author_counts.most_common(10)\n",
    "# print(top_authors)\n",
    "# top_authors_names = [i[0][:15] for i in top_authors]\n",
    "# top_authors_mentions = [i[1] for i in top_authors]\n",
    "\n",
    "\n",
    "# plt.bar(top_authors_names, top_authors_mentions)\n",
    "# plt.xlabel('Author')\n",
    "# plt.ylabel('Number of Mentions')\n",
    "# plt.xticks(rotation=70,fontsize=6)\n",
    "# plt.tight_layout()\n",
    "# plt.title('Top 10 Authors with the Most Mentions')\n",
    "\n",
    "# plt.show()\n",
    "# # 可以再做一個比例圓餅圖\n",
    "# ## 得知現在的作者有誰"
   ]
  },
  {
   "cell_type": "markdown",
   "metadata": {},
   "source": [
    "\n",
    "\n",
    "<h1>Largest tags : </h1>\n",
    "\n",
    "<p>秀出被使用最多次的tag還有使用次數</p>"
   ]
  },
  {
   "cell_type": "code",
   "execution_count": 2,
   "metadata": {
    "tags": [
     "hide-input"
    ]
   },
   "outputs": [],
   "source": [
    "# url = \"http://data.depositar.io/api/3/action/package_search?facet.field=[%22tags%22]&facet.limit=10\"\n",
    "# package_list = requests.get(url).json()\n",
    "\n",
    "# tag_number =  package_list['result']['facets']['tags']\n",
    "# values = tag_number.values()\n",
    "# labels = tag_number.keys()\n",
    "# print(tag_number)\n",
    "# plt.bar(labels, values)\n",
    "# plt.xlabel('Categories')\n",
    "# plt.ylabel('Package Count')\n",
    "# plt.title('Bar Graph: Package Count by Category')\n",
    "# plt.xticks(rotation=45, ha='right')  # To rotate the labels for better readability\n",
    "# plt.tight_layout()  # To prevent label cutoff\n",
    "# plt.show()\n"
   ]
  },
  {
   "cell_type": "markdown",
   "metadata": {},
   "source": [
    "<h1> largest topics</h1>\n",
    "<br>#include tags也做得到\n",
    "<br>#Returning a list of packages is too expensive, 要顯現出該topic有什麼資料集是做不到的事情"
   ]
  },
  {
   "cell_type": "code",
   "execution_count": 3,
   "metadata": {
    "tags": [
     "hide-input"
    ]
   },
   "outputs": [],
   "source": [
    "\n",
    "# unsort_topic = []\n",
    "# for i in o_topic:\n",
    "#   unsort_topic.append({'name': i['name'], 'package_count': i['package_count']})\n",
    "\n",
    "# topic = sorted(unsort_topic, key=lambda x: x['package_count'],reverse=True)\n",
    "# values = [item['package_count'] for item in topic[:10]]\n",
    "# labels = [item['name'] for item in topic[:10]]\n",
    "# print(topic)\n",
    "\n",
    "# plt.bar(labels, values)\n",
    "# plt.xlabel('Categories')\n",
    "# plt.ylabel('Package Count')\n",
    "# plt.title('Bar Graph: Package Count by Category')\n",
    "# plt.xticks(rotation=45, ha='right')  # To rotate the labels for better readability\n",
    "# plt.tight_layout()  # To prevent label cutoff\n",
    "# plt.show()\n",
    "\n"
   ]
  },
  {
   "cell_type": "markdown",
   "metadata": {},
   "source": [
    "<h1>largest type</h1>\n",
    "<br> problem of undefined needs to be solved <br>"
   ]
  },
  {
   "cell_type": "code",
   "execution_count": 4,
   "metadata": {
    "tags": [
     "hide-input"
    ]
   },
   "outputs": [],
   "source": [
    "# types = []\n",
    "\n",
    "# for j in o_dataset:\n",
    "#   if j['resources']:\n",
    "#       if j['resources'][0]['format']=='':\n",
    "#         types.append('undefined')\n",
    "#       elif j['resources'][0]['format']==\".pdf\":\n",
    "#         types.append('PDF')\n",
    "#       else:\n",
    "#         types.append(j['resources'][0]['format'])\n",
    "#   else:\n",
    "#       types.append('lost')\n",
    "\n",
    "# type_counts = Counter(types)\n",
    "# all_top_type = type_counts.most_common(120)\n",
    "# top_type = type_counts.most_common(10)\n",
    "\n",
    "# print(all_top_type)\n",
    "# all_top_type_mentions = [i[1] for i in all_top_type]\n",
    "# print(sum(all_top_type_mentions))\n",
    "\n",
    "# top_name = [i[0] for i in top_type]\n",
    "# top_type_mentions = [i[1] for i in top_type]\n",
    "\n",
    "# plt.bar(top_name, top_type_mentions)\n",
    "# plt.xlabel('type')\n",
    "# plt.ylabel('Number of Mentions')\n",
    "# plt.xticks(rotation=30,fontsize=8)\n",
    "# plt.tight_layout()\n",
    "# plt.title('Top types with the Most Mentions')\n",
    "\n",
    "# plt.show()"
   ]
  },
  {
   "cell_type": "markdown",
   "metadata": {},
   "source": [
    "<h1>搜尋tag中是wikidata關鍵字</h1>\n",
    "\n",
    "比較最常用的tag 是否有在wikidata中出現"
   ]
  },
  {
   "cell_type": "code",
   "execution_count": 126,
   "metadata": {
    "tags": [
     "hide-input"
    ]
   },
   "outputs": [
    {
     "name": "stdout",
     "output_type": "stream",
     "text": [
      "重複出現 {'UAV', '高雄市', '論文', '台江國家公園', 'UAS'}\n",
      "需要補充 {'前瞻水環境建設', '生態檢核', 'LTSER', 'playaround workshop', '水與安全計畫'}\n"
     ]
    }
   ],
   "source": [
    "from wikidataintegrator import wdi_core\n",
    "\n",
    "\n",
    "def is_tag_in_wikidata(tag):\n",
    "    sparql_query = []\n",
    "    if type_word(tag[0])==\"En\":\n",
    "      sparql_query = f'SELECT ?item WHERE {{ ?item rdfs:label \"{tag}\"@en }}'\n",
    "    elif type_word(tag[0])==\"CH\":\n",
    "      sparql_query = f'SELECT ?item WHERE {{ ?item rdfs:label \"{tag}\"@zh. }}'\n",
    "    else:\n",
    "      sparql_query = f'''\n",
    "          SELECT ?item WHERE {{\n",
    "              {{ ?item rdfs:label \"{tag}\"@en. }}\n",
    "              UNION\n",
    "              {{ ?item rdfs:label \"{tag}\"@zh-TW. }} }} '''\n",
    "\n",
    "    result = wdi_core.WDItemEngine.execute_sparql_query(sparql_query) #executes the SPARQL query\n",
    "\n",
    "    if result['results']['bindings']:\n",
    "        return True\n",
    "    else:\n",
    "        return False\n",
    "\n",
    "def type_word(word):\n",
    "\n",
    "    ascii_code = ord(word)\n",
    "    if (65 <= ascii_code <= 90 or 97 <= ascii_code <= 122):\n",
    "        return \"En\"\n",
    "    elif (48 <= ascii_code <= 57):\n",
    "      return \"num\"\n",
    "    return \"CH\"\n",
    "url = \"http://data.depositar.io/api/3/action/package_search?facet.field=[%22tags%22]&facet.limit=10\"\n",
    "package_list = requests.get(url).json()\n",
    "\n",
    "tag_number =  package_list['result']['facets']['tags']\n",
    "tag_list = list(tag_number.items())\n",
    "tag_list_keys  = list(tag_number.keys())\n",
    "filter_tags = [tag for tag in tag_number if is_tag_in_wikidata(tag)]\n",
    "\n",
    "\n",
    "def compare(list1,list2):\n",
    "  set1 = set(list1)\n",
    "  set2 = set(list2)\n",
    "\n",
    "  common_set = set1.intersection(set2)\n",
    "  diff_set = set1.difference(set2)\n",
    "\n",
    "  return common_set,diff_set\n",
    "\n",
    "intersect,differ = compare(tag_list_keys,filter_tags)\n",
    "print(\"重複出現\",intersect)\n",
    "print(\"需要補充\",differ)\n"
   ]
  },
  {
   "cell_type": "markdown",
   "metadata": {},
   "source": [
    "<h1> update among a week (package) </h1>\n"
   ]
  },
  {
   "cell_type": "code",
   "execution_count": 127,
   "metadata": {
    "tags": [
     "hide-input"
    ]
   },
   "outputs": [
    {
     "name": "stdout",
     "output_type": "stream",
     "text": [
      "[{'time': '2023-08-08T07:02:01.418913', 'title': '南山公墓網格'}, {'time': '2023-08-08T07:01:55.196645', 'title': '南山公墓網格'}, {'time': '2023-08-08T07:00:23.910086', 'title': '南山公墓網格'}, {'time': '2023-08-07T07:47:56.100676', 'title': '二重疏洪道左岸加高工程'}, {'time': '2023-08-07T07:34:18.572114', 'title': '二重疏洪道左岸加高工程'}, {'time': '2023-08-07T07:34:17.223315', 'title': '二重疏洪道左岸加高工程'}, {'time': '2023-08-07T07:32:54.919566', 'title': '二重疏洪道左岸加高工程'}, {'time': '2023-08-07T06:08:10.376170', 'title': '112年雲林縣麥寮合作社氣候資料'}, {'time': '2023-08-07T06:07:22.296743', 'title': '112年雲林縣麥寮合作社氣候資料'}, {'time': '2023-08-07T06:05:36.779098', 'title': '112年雲林縣麥寮合作社氣候資料'}, {'time': '2023-08-07T06:04:52.701729', 'title': '112年雲林縣麥寮合作社氣候資料'}, {'time': '2023-08-07T06:04:39.381408', 'title': '112年雲林縣麥寮合作社氣候資料'}, {'time': '2023-08-07T06:04:02.325331', 'title': '112年雲林縣麥寮合作社氣候資料'}, {'time': '2023-08-07T06:03:56.048527', 'title': '112年雲林縣麥寮合作社氣候資料'}, {'time': '2023-08-07T06:03:18.249969', 'title': '112年雲林縣麥寮合作社氣候資料'}, {'time': '2023-08-07T06:02:45.588216', 'title': '112年雲林縣麥寮合作社氣候資料'}, {'time': '2023-08-07T06:01:47.060401', 'title': '112年雲林縣麥寮合作社氣候資料'}, {'time': '2023-08-07T01:58:19.451660', 'title': '雲林鄉鎮市人口數統計'}, {'time': '2023-08-07T01:58:16.599601', 'title': '雲林鄉鎮市人口數統計'}, {'time': '2023-08-07T01:46:49.577670', 'title': '雲林鄉鎮市人口數統計'}, {'time': '2023-08-07T01:38:43.242401', 'title': '雲林鄉鎮市人口數統計'}, {'time': '2023-08-07T01:29:58.779619', 'title': '溫寮溪道路工程(平面道路工區1、堤防道路、橋樑工區1、平面道路工區2、平面道路工區4)施工階段生態檢核成果'}, {'time': '2023-08-07T01:27:30.712463', 'title': '雲林鄉鎮市人口數統計'}, {'time': '2023-08-07T01:21:10.935967', 'title': '雲林鄉鎮市人口數統計'}, {'time': '2023-08-07T01:20:47.052395', 'title': '雲林鄉鎮市人口數統計'}, {'time': '2023-08-07T01:17:44.270908', 'title': '雲林鄉鎮市人口數統計'}, {'time': '2023-08-07T00:59:06.675306', 'title': '雲林鄉鎮市人口數統計'}, {'time': '2023-08-06T02:39:43.244008', 'title': '2023-08-05 Nanshan Gravesite Panoramic Images -- Ricoh Theta Z1'}, {'time': '2023-08-05T13:26:39.866255', 'title': '2023-08-05 Nanshan Gravesite Panoramic Images -- Ricoh Theta Z1'}, {'time': '2023-08-05T13:11:54.921641', 'title': '2023-08-05 Nanshan Gravesite Images -- Sony ZV-E10'}, {'time': '2023-08-05T13:11:16.438100', 'title': '2023-08-05 Nanshan Gravesite Images -- Sony ZV-E10'}, {'time': '2023-08-05T13:07:55.236132', 'title': '2023-08-05 Nanshan Gravesite Images -- Sony ZV-E10'}, {'time': '2023-08-05T13:07:27.626373', 'title': '2023-08-05 Nanshan Gravesite Images -- Sony ZV-E10'}, {'time': '2023-08-05T13:05:55.538287', 'title': '2023-08-05 Nanshan Gravesite Images -- Sony ZV-E10'}, {'time': '2023-08-05T13:03:36.710989', 'title': '2023-08-05 Nanshan Gravesite Images -- Sony ZV-E10'}, {'time': '2023-08-05T13:02:11.165638', 'title': '2023-08-05 Nanshan Gravesite Images -- Sony ZV-E10'}, {'time': '2023-08-05T12:48:54.114720', 'title': '2023-08-05 Nanshan Gravesite Panoramic Images -- Ricoh Theta Z1'}, {'time': '2023-08-05T12:46:40.885683', 'title': '2023-08-05 Nanshan Gravesite Panoramic Images -- Ricoh Theta Z1'}, {'time': '2023-08-05T12:46:18.855643', 'title': '2023-08-05 Nanshan Gravesite Panoramic Images -- Ricoh Theta Z1'}, {'time': '2023-08-05T12:45:53.848553', 'title': '2023-08-05 Nanshan Gravesite Panoramic Images -- Ricoh Theta Z1'}, {'time': '2023-08-05T12:45:21.620356', 'title': '2023-08-05 Nanshan Gravesite Panoramic Images -- Ricoh Theta Z1'}, {'time': '2023-08-05T12:44:18.987153', 'title': '2023-08-05 Nanshan Gravesite Panoramic Images -- Ricoh Theta Z1'}, {'time': '2023-08-05T12:43:10.184020', 'title': '2023-08-05 Nanshan Gravesite Panoramic Images -- Ricoh Theta Z1'}, {'time': '2023-08-05T12:38:46.741090', 'title': '2023-08-05 Nanshan Gravesite Panoramic Images -- Ricoh Theta Z1'}, {'time': '2023-08-05T12:35:55.061924', 'title': '2023-08-05 Nanshan Gravesite Panoramic Images -- Ricoh Theta Z1'}, {'time': '2023-08-05T12:35:43.484776', 'title': '2023-08-05 Nanshan Gravesite Panoramic Images -- Ricoh Theta Z1'}, {'time': '2023-08-05T12:35:27.043185', 'title': '2023-08-05 Nanshan Gravesite Panoramic Images -- Ricoh Theta Z1'}, {'time': '2023-08-05T12:35:11.849597', 'title': '2023-08-05 Nanshan Gravesite Panoramic Images -- Ricoh Theta Z1'}, {'time': '2023-08-05T12:34:56.386962', 'title': '2023-08-05 Nanshan Gravesite Panoramic Images -- Ricoh Theta Z1'}, {'time': '2023-08-05T12:32:41.858864', 'title': '2023-08-05 Nanshan Gravesite Panoramic Images -- Ricoh Theta Z1'}, {'time': '2023-08-04T10:02:46.845909', 'title': '溫寮溪道路工程(平面道路工區1、堤防道路、橋樑工區1、平面道路工區2、平面道路工區4)施工階段生態檢核成果'}, {'time': '2023-08-04T10:01:39.190231', 'title': '溫寮溪道路工程(平面道路工區1、堤防道路、橋樑工區1、平面道路工區2、平面道路工區4)施工階段生態檢核成果'}, {'time': '2023-08-04T09:11:19.074608', 'title': '三姓溪排水(河心累距0K+760~0K+800)護岸改善應急工程'}, {'time': '2023-08-04T08:18:23.793885', 'title': '三姓溪排水(河心累距0K+760~0K+800)護岸改善應急工程'}, {'time': '2023-08-04T08:17:44.251062', 'title': '三姓溪排水(河心累距0K+760~0K+800)護岸改善應急工程'}, {'time': '2023-08-04T08:14:58.677055', 'title': '三姓溪排水(河心累距0K+760~0K+800)護岸改善應急工程'}, {'time': '2023-08-04T08:14:10.170250', 'title': '三姓溪排水(河心累距0K+760~0K+800)護岸改善應急工程'}, {'time': '2023-08-04T08:13:38.746719', 'title': '三姓溪排水(河心累距0K+760~0K+800)護岸改善應急工程'}, {'time': '2023-08-04T08:13:18.123524', 'title': '三姓溪排水(河心累距0K+760~0K+800)護岸改善應急工程'}, {'time': '2023-08-04T08:12:58.338993', 'title': '三姓溪排水(河心累距0K+760~0K+800)護岸改善應急工程'}, {'time': '2023-08-04T08:08:43.706270', 'title': '三姓溪排水(河心累距0K+760~0K+800)護岸改善應急工程'}, {'time': '2023-08-04T08:06:55.827324', 'title': '三姓公溪排水(河心累距0K+760~0K+800)護岸改善應急工程'}, {'time': '2023-08-04T08:06:14.642450', 'title': '三姓公溪排水(河心累距0K+760~0K+800)護岸改善應急工程'}, {'time': '2023-08-04T08:05:43.269986', 'title': '三姓公溪排水(河心累距0K+760~0K+800)護岸改善應急工程'}, {'time': '2023-08-04T08:05:24.316889', 'title': '三姓公溪排水(河心累距0K+760~0K+800)護岸改善應急工程'}, {'time': '2023-08-04T08:04:50.562486', 'title': '三姓公溪排水(河心累距0K+760~0K+800)護岸改善應急工程'}, {'time': '2023-08-04T08:01:34.990828', 'title': '三姓公溪排水(河心累距0K+760~0K+800)護岸改善應急工程'}, {'time': '2023-08-04T07:38:30.658145', 'title': '三姓公溪排水(河心累距0K+760~0K+800)護岸改善應急工程'}, {'time': '2023-08-04T07:37:17.062709', 'title': '三姓公溪排水(河心累距0K+760~0K+800)護岸改善應急工程'}, {'time': '2023-08-04T07:36:17.409869', 'title': '三姓公溪排水(河心累距0K+760~0K+800)護岸改善應急工程'}, {'time': '2023-08-04T07:32:36.631271', 'title': '三姓公溪排水(河心累距0K+760~0K+800)護岸改善應急工程'}, {'time': '2023-08-03T02:44:37.992506', 'title': '高雄市太爺親水運動公園新建計畫'}, {'time': '2023-08-03T02:41:07.180808', 'title': '高雄市太爺親水運動公園新建計畫'}, {'time': '2023-08-03T02:40:54.252108', 'title': '高雄市太爺親水運動公園新建計畫'}, {'time': '2023-08-03T02:13:59.562089', 'title': '高雄市太爺親水運動公園新建計畫'}, {'time': '2023-08-03T02:12:14.558374', 'title': '高雄市太爺親水運動公園新建計畫'}, {'time': '2023-08-03T02:08:53.139227', 'title': '高雄市太爺親水運動公園新建計畫'}, {'time': '2023-08-03T02:07:57.028251', 'title': '高雄市太爺親水運動公園新建計畫'}, {'time': '2023-08-03T02:07:21.368048', 'title': '高雄市太爺親水運動公園新建計畫'}, {'time': '2023-08-03T02:04:27.433818', 'title': '高雄市太爺親水運動公園新建計畫'}, {'time': '2023-08-03T02:04:08.506894', 'title': '高雄市太爺親水運動公園新建計畫'}, {'time': '2023-08-02T01:56:46.432674', 'title': '0802進度報告'}, {'time': '2023-08-02T01:56:38.671540', 'title': '0802進度報告'}, {'time': '2023-08-02T01:54:10.124758', 'title': '0802進度報告'}, {'time': '2023-08-02T01:53:21.039793', 'title': '0802進度報告'}, {'time': '2023-08-02T01:52:46.511256', 'title': '0802進度報告'}, {'time': '2023-08-02T01:51:45.976055', 'title': '0802進度報告'}, {'time': '2023-08-02T01:48:25.156557', 'title': '0802進度報告'}]\n",
      "[3, 24, 1, 22, 21, 10, 7]\n",
      "['Day 1', 'Day 2', 'Day 3', 'Day 4', 'Day 5', 'Day 6', 'Day 7']\n"
     ]
    },
    {
     "data": {
      "image/png": "[encoded data removed]",
      "text/plain": [
       "<Figure size 800x600 with 1 Axes>"
      ]
     },
     "metadata": {},
     "output_type": "display_data"
    }
   ],
   "source": [
    "from datetime import datetime, timedelta\n",
    "import pytz\n",
    "\n",
    "url = \"http://data.depositar.io/api/3/action/recently_changed_packages_activity_list?limit=100\"\n",
    "package_list = requests.get(url).json()\n",
    "up_time = package_list['result']\n",
    "day = 7\n",
    "time_list = []\n",
    "each_d_up = [0]*day\n",
    "\n",
    "for i in up_time:\n",
    "  time_list.append({'time':i['timestamp'],'title':i['data']['package']['title']})\n",
    "\n",
    "def time_in_7d(time_list,each_d_up):\n",
    "    tz = pytz.timezone(\"Asia/Taipei\")\n",
    "    current_tz = datetime.now(tz)\n",
    "    current_time = str(current_tz.replace(tzinfo=None))\n",
    "    current_date = datetime.fromisoformat(current_time)\n",
    "\n",
    "    filter_time = []\n",
    "\n",
    "    for i in time_list:\n",
    "      time = datetime.fromisoformat(i['time'])\n",
    "      if current_date - time <= timedelta(days=day):\n",
    "        filter_time.append(i)\n",
    "        for j in range(day):\n",
    "          if  (current_date - time >= timedelta(days=j)) and (current_date - time <= timedelta(days=j+1)):\n",
    "            each_d_up[j] = each_d_up[j] + 1\n",
    "    return filter_time\n",
    "\n",
    "\n",
    "days_7 = time_in_7d(time_list,each_d_up)\n",
    "print(days_7)\n",
    "print(each_d_up)\n",
    "\n",
    "\n",
    "\n",
    "\n",
    "def create_dynamic_list(day):\n",
    "    return [f'Day {i}' for i in range(1, day + 1)]\n",
    "days = create_dynamic_list(day)\n",
    "print(days)\n",
    "# Convert the data indices to numerical range for plotting\n",
    "\n",
    "\n",
    "# Create the bar graph\n",
    "plt.figure(figsize=(8, 6))\n",
    "plt.bar(range(day), each_d_up, color='b', alpha=0.7)\n",
    "\n",
    "# Add labels to the bars\n",
    "for i, value in enumerate(each_d_up):\n",
    "    plt.text(i, value, str(value), ha='center', va='bottom', fontweight='bold')\n",
    "\n",
    "# Customize the plot\n",
    "plt.xticks(range(day), days)\n",
    "plt.xlabel(f'Past {day} Days')\n",
    "plt.ylabel('Data Update')\n",
    "plt.title(f'Data Update in the Past {day} Days')\n",
    "plt.grid(axis='y', linestyle='--', alpha=0.7)\n",
    "\n",
    "# Display the plot\n",
    "plt.tight_layout()\n",
    "plt.show()"
   ]
  },
  {
   "cell_type": "markdown",
   "metadata": {},
   "source": [
    "<h1> average number of form fields which have data</h1>\n",
    "\n",
    "**基本資訊:**\n",
    "標題 網址 摘要 資料類型 Wikidata 關鍵字 標籤 語言 備註(都有)\n",
    "\n",
    "**時空資訊:**\n",
    "時間解析度 起始時間 結束時間 空間範圍 空間範圍.X.min 空間範圍.X.max 空間範圍.Y.min 空間範圍.Y.max 空間解析度\n",
    "\n",
    "**管理資訊:** 授權 產製者 資料產製時間 資料處理歷程 專案 聯絡人 聯絡人的電子郵件(都有)\n",
    "\n",
    "**資源層級:**\n",
    "網址 名稱 摘要 字元編碼 座標參考系統 格式 (沒看到字元編碼和座標參考系統)"
   ]
  },
  {
   "cell_type": "code",
   "execution_count": 7,
   "metadata": {
    "tags": [
     "hide-cell"
    ]
   },
   "outputs": [],
   "source": [
    "# #  basic: i['title'] i['url'] i['notes'] i['data_type'] i['keywords'] i['tags'] i['language'] i['remarks']\n",
    "# #  time: i['temp_res'] i['start_time'] i['end_time'] i['spatial'] i['x_min'] i['x_max'] i['y_min'] i['y_max'] i['spatial_res']\n",
    "# #  manage:  i['resources'][0]['created']  i['owner_org]-- some do not have this\n",
    "# #  resources: i['url'] i['name']  i['organization']['description']也有要先check  i['resources'][0]['format']要額外處理\n",
    "\n",
    "# basic_field = ['title','url','notes','data_type','keywords','tags','langauge','remarks']\n",
    "# manage_field = ['license_id','author','process_step','contact_person','contact_email','owner_org']\n",
    "# time_field = ['temp_res','start_time','end_time','spatial','x_min','x_max','y_min','y_max','spatial_res']\n",
    "# resource_field = ['url','name']\n",
    "\n",
    "# total = 0\n",
    "# count_basic = 0\n",
    "# count_manage = 0\n",
    "# count_time = 0\n",
    "# count_re = 0\n",
    "\n",
    "# for i in o_dataset:  #基本資訊\n",
    "#   total += 1\n",
    "#   count_basic += sum(1 for field in basic_field if i.get(field) is not None and i[field]!='') #有時不會有欄位，先確保有欄位再拿值\n",
    "\n",
    "# percent_basic = (count_basic / total) / 8\n",
    "# print('average of basic',round(count_basic/total,2),'   percent of basic:', round(percent_basic*100, 2), \"%\")\n",
    "\n",
    "\n",
    "# for i in o_dataset:  #管理資訊\n",
    "#   count_manage += sum(1 for field in basic_field if i.get(field) is not None and i[field]!='')\n",
    "#   if i['resources']:\n",
    "#     count_manage += (1 if i['resources'][0]['created'] !='' else 0)\n",
    "\n",
    "# percent_manage = (count_manage / total) / 7\n",
    "# print('average of manage',round(count_manage/total,2),'   percent of manage:', round(percent_manage*100, 2), \"%\")\n",
    "\n",
    "# for i in o_dataset:  #時空資訊\n",
    "#   count_time += sum(1 for field in time_field if i.get(field) is not None and i[field]!='')\n",
    "\n",
    "# percent_time = (count_time / total) / 9\n",
    "# print('average of time',round(count_time/total,2),'   percent of time:', round(percent_time*100, 2), \"%\")\n",
    "\n",
    "# for i in o_dataset: #資源層級\n",
    "\n",
    "#   count_re += sum(1 for field in resource_field if i.get(field) is not None and i[field]!='')\n",
    "#   if i['resources']:\n",
    "#     count_re += (1 if i['resources'][0]['format'] !='' else 0)\n",
    "#   if i['organization']:\n",
    "#     count_re += (1 if i['organization']['description'] !='' else 0)\n",
    "\n",
    "# percent_re = (count_re / total) / 4\n",
    "# print('average of resource',round(count_re/total,2),'   percent of resource:', round(percent_re*100, 2), \"%\")\n",
    "\n",
    "# total_data = count_basic + count_manage + count_time + count_re\n",
    "# percent_total = (total_data / total) / 28\n",
    "# print('average',round(total_data/total,2),'   percent:', round(percent_total*100, 2), \"%\")"
   ]
  },
  {
   "cell_type": "code",
   "execution_count": 6,
   "metadata": {
    "tags": [
     "hide-input"
    ]
   },
   "outputs": [],
   "source": [
    "# data = [percent_basic,percent_manage,percent_time,percent_re,percent_total]\n",
    "# titles = ['基本資訊', '管理資訊','時空資訊', '資源層級', '綜合']\n",
    "\n",
    "# fig, ax = plt.subplots(figsize=(6, 4)) # Create a figure and axis\n",
    "\n",
    "# fig.patch.set_facecolor('#f0f0f0') # Set background color\n",
    "# ax.set_facecolor('#f0f0f0')\n",
    "\n",
    "# # Create a gradient of colors\n",
    "# colors = plt.cm.viridis(np.linspace(0.7, 1, len(data)))\n",
    "\n",
    "# # Create the bar plot with rounded bars, shadows, and gradient colors\n",
    "# bars = ax.bar(titles, data, color=colors, align='center', width=0.6, edgecolor='#333333', linewidth=2, alpha=0.8, label='Data Values', zorder=2)\n",
    "\n",
    "# # Adding labels and title with custom font and size\n",
    "# ax.set_ylabel('Data Values', fontsize=8, color='#333333')\n",
    "# ax.set_title('Relationship Between Data Values and Titles', fontsize=8, color='#333333')\n",
    "\n",
    "# # Customize x-axis tick labels\n",
    "# ax.set_xticklabels(titles, rotation=45, ha='right', fontsize=8, color='#333333')\n",
    "\n",
    "# # Add data labels with custom font and size\n",
    "# for bar in bars:\n",
    "#     height = bar.get_height()\n",
    "#     ax.annotate(f'{height:.2f}',\n",
    "#                 xy=(bar.get_x() + bar.get_width() / 2, height),\n",
    "#                 xytext=(0, 5),  # 5 points vertical offset\n",
    "#                 textcoords='offset points',\n",
    "#                 ha='center', va='bottom', fontsize=8, color='#333333')\n",
    "\n",
    "# # Add legend\n",
    "# ax.legend()\n",
    "\n",
    "# # Remove spines\n",
    "# ax.spines['top'].set_visible(False)\n",
    "# ax.spines['right'].set_visible(False)\n",
    "# ax.spines['left'].set_visible(False)\n",
    "\n",
    "# # Show the plot\n",
    "# plt.show()\n"
   ]
  },
  {
   "cell_type": "markdown",
   "metadata": {},
   "source": [
    "<h1>largest project</h1>\n",
    "<p></p>"
   ]
  },
  {
   "cell_type": "code",
   "execution_count": 5,
   "metadata": {
    "tags": [
     "hide-input"
    ]
   },
   "outputs": [],
   "source": [
    "\n",
    "# count_pro = 0\n",
    "# top_project = []\n",
    "\n",
    "# for i in o_project:\n",
    "#   count_pro += 1\n",
    "#   top_project.append({'display_name':i['display_name'],'packages':i['package_count']})\n",
    "\n",
    "# sort_project = sorted(top_project,key=lambda x:x['packages'],reverse=True)\n",
    "# pro_values = [i['packages']for i in sort_project[:10]]\n",
    "# pro_labels = [i['display_name'][:15] for i in sort_project[:10]]\n",
    "# print(sort_project[:10])\n",
    "# plt.bar(pro_labels,pro_values )\n",
    "# plt.xlabel('type')\n",
    "# plt.ylabel('Number of project')\n",
    "# plt.xticks(rotation=80,fontsize=8)\n",
    "# plt.tight_layout()\n",
    "# plt.title('Top projects ')\n",
    "\n",
    "# plt.show()"
   ]
  },
  {
   "cell_type": "markdown",
   "metadata": {},
   "source": [
    "<h1>Spatial coverage</h1>"
   ]
  },
  {
   "cell_type": "code",
   "execution_count": 10,
   "metadata": {
    "tags": [
     "hide-cell"
    ]
   },
   "outputs": [],
   "source": [
    "# time_field = ['temp_res','start_time','end_time','spatial','x_min','x_max','y_min','y_max','spatial_res']\n",
    "\n",
    "# spatial = []\n",
    "\n",
    "# for i in o_dataset:  #時空資訊\n",
    "#   temp = {key: None for key in time_field}\n",
    "#   for field in time_field:\n",
    "#     temp[field]=i[field] if i.get(field) is not None else ''  #有時不會有欄位，先確保有欄位再拿值\n",
    "#   spatial.append(temp)\n",
    "\n",
    "\n",
    "# temp_res = [i['temp_res'] for i in spatial]  #時間解析度\n",
    "# temp_res_count = Counter(temp_res)\n",
    "# new_temp_res_count = Counter({k if k != \"\" else \"undefined\": v for k, v in temp_res_count.items()})\n",
    "# print('時空解析度',new_temp_res_count)\n",
    "\n",
    "# start_time = [i['start_time'][:4] for i in spatial]  # 開始時間 抓年份而已\n",
    "# start_time_count = Counter(start_time)\n",
    "# new_start_time_count = Counter({k if k != \"\" else \"undefined\": v for k, v in start_time_count.items()})\n",
    "# print('起始時間',new_start_time_count)\n",
    "\n",
    "# end_time = [i['end_time'][:4] for i in spatial]  # 結束時間\n",
    "# end_time_count = Counter(end_time)\n",
    "# new_end_time_count = Counter({k if k != \"\" else \"undefined\": v for k, v in end_time_count.items()})\n",
    "# print('結束時間',new_end_time_count)\n",
    "\n",
    "# during = []      #一個專案通常多久\n",
    "# for i in spatial:\n",
    "#   if i['start_time'] != '' and i['end_time'] != '':\n",
    "#     during.append(int(i['end_time'][:4])-int(i['start_time'][:4]))\n",
    "# during_time_count = Counter(during)\n",
    "# new_during_time_count = Counter({k if k != \"\" else \"undefined\": v for k, v in during_time_count.items()})\n",
    "# print('持續時間',new_during_time_count)\n",
    "\n",
    "# ss = []       #spatial 中繪圖形狀\n",
    "# for i in spatial:\n",
    "#   if i['spatial']:\n",
    "#     new = json.loads(i['spatial'])\n",
    "#     ss.append(new['type'])\n",
    "# new_ss = Counter(ss)\n",
    "# print('標記形狀',new_ss)\n",
    "\n",
    "# locations = [] #經緯度\n",
    "# for i in spatial:\n",
    "#   if i['x_min'] and i['x_max'] and i['y_min'] and i['y_max']:\n",
    "#     x_avr = (float(i['x_min']) + float(i['x_max']))/2  #mean\n",
    "#     y_avr = (float(i['y_min']) + float(i['y_max']))/2\n",
    "#     locations.append({x_avr,y_avr})\n",
    "\n",
    "# print('經緯度',locations)\n",
    "\n",
    "# spatial_res = [i['spatial_res'] for i in spatial]  #時間解析度\n",
    "# spatial_res_count = Counter(spatial_res)\n",
    "# new_spatial_res_count = Counter({k if k != \"\" else \"undefined\": v for k, v in spatial_res_count.items()})\n",
    "# print('時間解析度',new_spatial_res_count)"
   ]
  },
  {
   "cell_type": "code",
   "execution_count": 9,
   "metadata": {
    "tags": [
     "hide-input"
    ]
   },
   "outputs": [],
   "source": [
    "\n",
    "# temp_res_k = [k for k,v in new_temp_res_count.items()]\n",
    "# temp_res_v = [v for k,v in new_temp_res_count.items()]\n",
    "\n",
    "# plt.bar(temp_res_k, temp_res_v)\n",
    "# plt.xlabel('type of temp_res')\n",
    "# plt.ylabel('numbers')\n",
    "# plt.xticks(fontsize=8)\n",
    "# plt.tight_layout()\n",
    "# plt.title('temp_res')\n",
    "\n",
    "# plt.show()"
   ]
  },
  {
   "cell_type": "markdown",
   "metadata": {},
   "source": [
    "<h3> show出這些資料的位置 (有download file的code)</h3>"
   ]
  },
  {
   "cell_type": "code",
   "execution_count": 8,
   "metadata": {},
   "outputs": [],
   "source": [
    "# import folium\n",
    "\n",
    "# # Sample list of locations\n",
    "# # Create a map centered at a specific location\n",
    "# map_center = (23.555,120.5)   # Choose any location as the map center\n",
    "# map_object = folium.Map(location=map_center, zoom_start=6)\n",
    "\n",
    "# locations = [tuple(loc) for loc in locations if len(loc) == 2]\n",
    "# # Add markers for each location on the map\n",
    "# for loc in locations:\n",
    "#     folium.Marker(loc).add_to(map_object)\n",
    "\n",
    "# # Save the map to an HTML file\n",
    "# # map_file = \"map.html\"\n",
    "# # map_object.save(\"map.html\")\n",
    "# map_object\n",
    "\n"
   ]
  },
  {
   "cell_type": "markdown",
   "metadata": {},
   "source": [
    "<h1> wikidata 關鍵字 </h1>"
   ]
  },
  {
   "cell_type": "code",
   "execution_count": 134,
   "metadata": {
    "tags": [
     "hide-input"
    ]
   },
   "outputs": [
    {
     "name": "stdout",
     "output_type": "stream",
     "text": [
      "[{51, 'Taijiang Inner Sea'}, {49, 'Changhua County Government'}, {48, 'drainage system'}, {46, 'Taiwan'}, {'unmanned aerial vehicle', 46}, {'Forward-looking foundation construction plans in Taiwan', 34}, {'Tainan', 31}, {'Web Map Tile Service', 31}, {27, 'thesis'}, {'historical atlas', 24}]\n"
     ]
    },
    {
     "data": {
      "image/png": "[encoded data removed]",
      "text/plain": [
       "<Figure size 640x480 with 1 Axes>"
      ]
     },
     "metadata": {},
     "output_type": "display_data"
    }
   ],
   "source": [
    "keywords = []\n",
    "\n",
    "for i in o_dataset:\n",
    "  if i.get('keywords') is not None:\n",
    "    for j in i['keywords']:\n",
    "      keywords.append(j)\n",
    "keywords_count = Counter(keywords)\n",
    "mostuse_key = keywords_count.most_common(10)\n",
    "\n",
    "key_name = [i[0] for i in mostuse_key]\n",
    "key_value = [i[1] for i in mostuse_key]\n",
    "\n",
    "def find_word(list1):\n",
    "  word_list = []\n",
    "  for i in list1:\n",
    "    endpoint_url = f\"https://www.wikidata.org/wiki/Special:EntityData/{i}.json\"\n",
    "    response = requests.get(endpoint_url)\n",
    "    if response.status_code == 200:\n",
    "        data = response.json()\n",
    "        # The label (name) of the entity will be available in the 'labels' section of the JSON response\n",
    "        label = data['entities'][i]['labels']['en']['value']\n",
    "        word_list.append(label)\n",
    "    else:\n",
    "        print(\"Error occurred:\", response.text)\n",
    "  return word_list\n",
    "\n",
    "word_list = find_word(key_name)\n",
    "key_value = [i[1] for i in mostuse_key]\n",
    "wikidata = []\n",
    "for i in range(len(word_list)):\n",
    "  wikidata.append({word_list[i],key_value[i]})\n",
    "print(wikidata)\n",
    "\n",
    "plt.bar(word_list,key_value)\n",
    "plt.xlabel('Keywords')\n",
    "plt.ylabel('Counts')\n",
    "plt.title('Top Keywords Counts')\n",
    "plt.xticks(rotation=45, ha='right')\n",
    "plt.tight_layout()\n",
    "plt.show()\n"
   ]
  },
  {
   "cell_type": "code",
   "execution_count": 135,
   "metadata": {},
   "outputs": [
    {
     "name": "stdout",
     "output_type": "stream",
     "text": [
      "{'help': 'https://data.depositar.io/api/3/action/help_show?name=recently_changed_packages_activity_list', 'success': True, 'result': [{'id': 'e52f4280-30d7-4e3b-8680-1c131bd42217', 'timestamp': '2023-08-08T07:02:01.418913', 'user_id': 'b463adf3-d71e-4c46-abe0-016a72eac751', 'object_id': 'f7cc490c-df6d-4c74-85e6-da3af9f7dc38', 'activity_type': 'changed package', 'data': {'package': {'title': '南山公墓網格'}}}, {'id': '04d732f7-d1f2-487d-b432-eab23e79c634', 'timestamp': '2023-08-08T07:01:55.196645', 'user_id': 'b463adf3-d71e-4c46-abe0-016a72eac751', 'object_id': 'f7cc490c-df6d-4c74-85e6-da3af9f7dc38', 'activity_type': 'changed package', 'data': {'package': {'title': '南山公墓網格'}}}, {'id': 'e9080b51-9767-46d2-9294-0b97b4246375', 'timestamp': '2023-08-08T07:00:23.910086', 'user_id': 'b463adf3-d71e-4c46-abe0-016a72eac751', 'object_id': 'f7cc490c-df6d-4c74-85e6-da3af9f7dc38', 'activity_type': 'new package', 'data': {'package': {'title': '南山公墓網格'}}}, {'id': '1a077b38-730e-429c-b161-0d5faaf47b54', 'timestamp': '2023-08-07T07:47:56.100676', 'user_id': '3f15bfe9-364a-4b5e-b9dc-08b686503e44', 'object_id': 'dd2f0661-a975-4d2f-931c-12637337ff34', 'activity_type': 'changed package', 'data': {'package': {'title': '二重疏洪道左岸加高工程'}}}, {'id': 'a7eaf35f-f990-43e0-a78e-44324ee8d124', 'timestamp': '2023-08-07T07:34:18.572114', 'user_id': '3f15bfe9-364a-4b5e-b9dc-08b686503e44', 'object_id': 'dd2f0661-a975-4d2f-931c-12637337ff34', 'activity_type': 'changed package', 'data': {'package': {'title': '二重疏洪道左岸加高工程'}}}, {'id': '0016483d-85d5-430c-b7fb-f569e1f757d0', 'timestamp': '2023-08-07T07:34:17.223315', 'user_id': '3f15bfe9-364a-4b5e-b9dc-08b686503e44', 'object_id': 'dd2f0661-a975-4d2f-931c-12637337ff34', 'activity_type': 'changed package', 'data': {'package': {'title': '二重疏洪道左岸加高工程'}}}, {'id': '452be8a8-3983-4e0a-a37f-1573cc4c2ab4', 'timestamp': '2023-08-07T07:32:54.919566', 'user_id': '3f15bfe9-364a-4b5e-b9dc-08b686503e44', 'object_id': 'dd2f0661-a975-4d2f-931c-12637337ff34', 'activity_type': 'new package', 'data': {'package': {'title': '二重疏洪道左岸加高工程'}}}, {'id': 'd18c1b14-992a-4c06-98b4-4e9ef84b2a62', 'timestamp': '2023-08-07T06:08:10.376170', 'user_id': '1a7db6a6-3121-41cb-ba8a-2907b508fbd5', 'object_id': 'a017a643-5ed5-4dab-80e8-1c6b38862770', 'activity_type': 'changed package', 'data': {'package': {'title': '112年雲林縣麥寮合作社氣候資料'}}}, {'id': '316d47ad-c9d1-4849-aa3e-3137fdc4dca3', 'timestamp': '2023-08-07T06:07:22.296743', 'user_id': '1a7db6a6-3121-41cb-ba8a-2907b508fbd5', 'object_id': 'a017a643-5ed5-4dab-80e8-1c6b38862770', 'activity_type': 'changed package', 'data': {'package': {'title': '112年雲林縣麥寮合作社氣候資料'}}}, {'id': '03c90c4e-5e13-4af3-af49-219131b0d0c3', 'timestamp': '2023-08-07T06:05:36.779098', 'user_id': '1a7db6a6-3121-41cb-ba8a-2907b508fbd5', 'object_id': 'a017a643-5ed5-4dab-80e8-1c6b38862770', 'activity_type': 'changed package', 'data': {'package': {'title': '112年雲林縣麥寮合作社氣候資料'}}}, {'id': 'fabb95b9-9a09-41a6-af6b-fc4c7eefbdd8', 'timestamp': '2023-08-07T06:04:52.701729', 'user_id': '1a7db6a6-3121-41cb-ba8a-2907b508fbd5', 'object_id': 'a017a643-5ed5-4dab-80e8-1c6b38862770', 'activity_type': 'changed package', 'data': {'package': {'title': '112年雲林縣麥寮合作社氣候資料'}}}, {'id': '9a69f6fe-fc33-4f7c-a59d-60d8b9fa4be7', 'timestamp': '2023-08-07T06:04:39.381408', 'user_id': '1a7db6a6-3121-41cb-ba8a-2907b508fbd5', 'object_id': 'a017a643-5ed5-4dab-80e8-1c6b38862770', 'activity_type': 'changed package', 'data': {'package': {'title': '112年雲林縣麥寮合作社氣候資料'}}}, {'id': '21f91e62-6bf1-4d7c-95a7-bd6b433d5a2b', 'timestamp': '2023-08-07T06:04:02.325331', 'user_id': '1a7db6a6-3121-41cb-ba8a-2907b508fbd5', 'object_id': 'a017a643-5ed5-4dab-80e8-1c6b38862770', 'activity_type': 'changed package', 'data': {'package': {'title': '112年雲林縣麥寮合作社氣候資料'}}}, {'id': 'b7259168-d3ef-45da-baef-f09af13b318b', 'timestamp': '2023-08-07T06:03:56.048527', 'user_id': '1a7db6a6-3121-41cb-ba8a-2907b508fbd5', 'object_id': 'a017a643-5ed5-4dab-80e8-1c6b38862770', 'activity_type': 'changed package', 'data': {'package': {'title': '112年雲林縣麥寮合作社氣候資料'}}}, {'id': '0b62c0b0-e2e3-41c3-8e90-7dcf37821ba1', 'timestamp': '2023-08-07T06:03:18.249969', 'user_id': '1a7db6a6-3121-41cb-ba8a-2907b508fbd5', 'object_id': 'a017a643-5ed5-4dab-80e8-1c6b38862770', 'activity_type': 'changed package', 'data': {'package': {'title': '112年雲林縣麥寮合作社氣候資料'}}}, {'id': 'dcc6aed0-95b0-47f2-99c3-d68cc4bbf68e', 'timestamp': '2023-08-07T06:02:45.588216', 'user_id': '1a7db6a6-3121-41cb-ba8a-2907b508fbd5', 'object_id': 'a017a643-5ed5-4dab-80e8-1c6b38862770', 'activity_type': 'changed package', 'data': {'package': {'title': '112年雲林縣麥寮合作社氣候資料'}}}, {'id': 'f48a3c21-56e9-432c-8d82-ffdfb7e1e0c6', 'timestamp': '2023-08-07T06:01:47.060401', 'user_id': '1a7db6a6-3121-41cb-ba8a-2907b508fbd5', 'object_id': 'a017a643-5ed5-4dab-80e8-1c6b38862770', 'activity_type': 'new package', 'data': {'package': {'title': '112年雲林縣麥寮合作社氣候資料'}}}, {'id': '4fa94f27-79d0-4a18-a6a7-a919dbaee3e5', 'timestamp': '2023-08-07T01:58:19.451660', 'user_id': '1a7db6a6-3121-41cb-ba8a-2907b508fbd5', 'object_id': '21466e83-6f65-4ef5-8a72-d7587513a32a', 'activity_type': 'changed package', 'data': {'package': {'title': '雲林鄉鎮市人口數統計'}}}, {'id': 'de7d93d1-3e17-4ee2-be9c-68a2bff655d3', 'timestamp': '2023-08-07T01:58:16.599601', 'user_id': '1a7db6a6-3121-41cb-ba8a-2907b508fbd5', 'object_id': '21466e83-6f65-4ef5-8a72-d7587513a32a', 'activity_type': 'changed package', 'data': {'package': {'title': '雲林鄉鎮市人口數統計'}}}, {'id': '40854770-f628-4de3-a17a-19e2b8e95c86', 'timestamp': '2023-08-07T01:46:49.577670', 'user_id': '1a7db6a6-3121-41cb-ba8a-2907b508fbd5', 'object_id': '21466e83-6f65-4ef5-8a72-d7587513a32a', 'activity_type': 'changed package', 'data': {'package': {'title': '雲林鄉鎮市人口數統計'}}}, {'id': '9fcc6e0e-4238-4843-84b9-222f7f91c7d9', 'timestamp': '2023-08-07T01:38:43.242401', 'user_id': '1a7db6a6-3121-41cb-ba8a-2907b508fbd5', 'object_id': '21466e83-6f65-4ef5-8a72-d7587513a32a', 'activity_type': 'changed package', 'data': {'package': {'title': '雲林鄉鎮市人口數統計'}}}, {'id': '9ee2718c-03b9-4970-97c4-acf7f58cc6f5', 'timestamp': '2023-08-07T01:29:58.779619', 'user_id': 'dbf82753-0564-4ca2-a855-fa81cb5615d1', 'object_id': '6fb6dd5c-5886-4d2b-8d73-c8f2eacfc851', 'activity_type': 'changed package', 'data': {'package': {'title': '溫寮溪道路工程(平面道路工區1、堤防道路、橋樑工區1、平面道路工區2、平面道路工區4)施工階段生態檢核成果'}}}, {'id': '885075b3-8f09-4bfd-8568-c5b6a4876a59', 'timestamp': '2023-08-07T01:27:30.712463', 'user_id': '1a7db6a6-3121-41cb-ba8a-2907b508fbd5', 'object_id': '21466e83-6f65-4ef5-8a72-d7587513a32a', 'activity_type': 'changed package', 'data': {'package': {'title': '雲林鄉鎮市人口數統計'}}}, {'id': 'da670b30-60c8-4ac5-9e84-c031a93ff1f6', 'timestamp': '2023-08-07T01:21:10.935967', 'user_id': '1a7db6a6-3121-41cb-ba8a-2907b508fbd5', 'object_id': '21466e83-6f65-4ef5-8a72-d7587513a32a', 'activity_type': 'changed package', 'data': {'package': {'title': '雲林鄉鎮市人口數統計'}}}, {'id': '58fca7f0-cc9b-45a0-8ec4-8fa5f42aeb10', 'timestamp': '2023-08-07T01:20:47.052395', 'user_id': '1a7db6a6-3121-41cb-ba8a-2907b508fbd5', 'object_id': '21466e83-6f65-4ef5-8a72-d7587513a32a', 'activity_type': 'changed package', 'data': {'package': {'title': '雲林鄉鎮市人口數統計'}}}, {'id': '0533c594-820d-4f4d-b1db-f12e0791214d', 'timestamp': '2023-08-07T01:17:44.270908', 'user_id': '1a7db6a6-3121-41cb-ba8a-2907b508fbd5', 'object_id': '21466e83-6f65-4ef5-8a72-d7587513a32a', 'activity_type': 'changed package', 'data': {'package': {'title': '雲林鄉鎮市人口數統計'}}}, {'id': '4aee1f46-c913-471b-8952-9a254f8260e0', 'timestamp': '2023-08-07T00:59:06.675306', 'user_id': '1a7db6a6-3121-41cb-ba8a-2907b508fbd5', 'object_id': '21466e83-6f65-4ef5-8a72-d7587513a32a', 'activity_type': 'new package', 'data': {'package': {'title': '雲林鄉鎮市人口數統計'}}}, {'id': 'c5aae248-6eb0-4b38-ade7-573b3af68389', 'timestamp': '2023-08-06T02:39:43.244008', 'user_id': 'f7aeffb6-f8b4-457e-be70-7dd1075aac38', 'object_id': '1c170a8a-9e73-4abc-a8c7-bd19d8b64648', 'activity_type': 'changed package', 'data': {'package': {'title': '2023-08-05 Nanshan Gravesite Panoramic Images -- Ricoh Theta Z1'}}}, {'id': '9febe91e-aea0-40c3-bebd-3e588c5f17e3', 'timestamp': '2023-08-05T13:26:39.866255', 'user_id': 'f7aeffb6-f8b4-457e-be70-7dd1075aac38', 'object_id': '1c170a8a-9e73-4abc-a8c7-bd19d8b64648', 'activity_type': 'changed package', 'data': {'package': {'title': '2023-08-05 Nanshan Gravesite Panoramic Images -- Ricoh Theta Z1'}}}, {'id': '604a9e6c-8fb6-4ef2-8051-742ef5f0f89e', 'timestamp': '2023-08-05T13:11:54.921641', 'user_id': 'f7aeffb6-f8b4-457e-be70-7dd1075aac38', 'object_id': 'ee198f01-e538-4e14-9220-ce59e2570f7b', 'activity_type': 'changed package', 'data': {'package': {'title': '2023-08-05 Nanshan Gravesite Images -- Sony ZV-E10'}}}, {'id': 'e77e62e4-a2d7-40b8-b46e-fc97293279f6', 'timestamp': '2023-08-05T13:11:16.438100', 'user_id': 'f7aeffb6-f8b4-457e-be70-7dd1075aac38', 'object_id': 'ee198f01-e538-4e14-9220-ce59e2570f7b', 'activity_type': 'changed package', 'data': {'package': {'title': '2023-08-05 Nanshan Gravesite Images -- Sony ZV-E10'}}}, {'id': 'ba3f266c-7148-4b1b-b1ce-638d24a388d6', 'timestamp': '2023-08-05T13:07:55.236132', 'user_id': 'f7aeffb6-f8b4-457e-be70-7dd1075aac38', 'object_id': 'ee198f01-e538-4e14-9220-ce59e2570f7b', 'activity_type': 'changed package', 'data': {'package': {'title': '2023-08-05 Nanshan Gravesite Images -- Sony ZV-E10'}}}, {'id': 'a1ba7893-4e5c-4126-b934-b44f5f087257', 'timestamp': '2023-08-05T13:07:27.626373', 'user_id': 'f7aeffb6-f8b4-457e-be70-7dd1075aac38', 'object_id': 'ee198f01-e538-4e14-9220-ce59e2570f7b', 'activity_type': 'changed package', 'data': {'package': {'title': '2023-08-05 Nanshan Gravesite Images -- Sony ZV-E10'}}}, {'id': 'bd31f468-a19f-4463-b702-3fcebcf808a5', 'timestamp': '2023-08-05T13:05:55.538287', 'user_id': 'f7aeffb6-f8b4-457e-be70-7dd1075aac38', 'object_id': 'ee198f01-e538-4e14-9220-ce59e2570f7b', 'activity_type': 'changed package', 'data': {'package': {'title': '2023-08-05 Nanshan Gravesite Images -- Sony ZV-E10'}}}, {'id': '678ca7cd-0450-4d1f-a740-f69dca110849', 'timestamp': '2023-08-05T13:03:36.710989', 'user_id': 'f7aeffb6-f8b4-457e-be70-7dd1075aac38', 'object_id': 'ee198f01-e538-4e14-9220-ce59e2570f7b', 'activity_type': 'changed package', 'data': {'package': {'title': '2023-08-05 Nanshan Gravesite Images -- Sony ZV-E10'}}}, {'id': '2a69e6a6-a138-4432-8e7a-67ba3956ba6f', 'timestamp': '2023-08-05T13:02:11.165638', 'user_id': 'f7aeffb6-f8b4-457e-be70-7dd1075aac38', 'object_id': 'ee198f01-e538-4e14-9220-ce59e2570f7b', 'activity_type': 'new package', 'data': {'package': {'title': '2023-08-05 Nanshan Gravesite Images -- Sony ZV-E10'}}}, {'id': '8e082f7d-63f4-410b-9927-7255746b7ab1', 'timestamp': '2023-08-05T12:48:54.114720', 'user_id': 'f7aeffb6-f8b4-457e-be70-7dd1075aac38', 'object_id': '1c170a8a-9e73-4abc-a8c7-bd19d8b64648', 'activity_type': 'changed package', 'data': {'package': {'title': '2023-08-05 Nanshan Gravesite Panoramic Images -- Ricoh Theta Z1'}}}, {'id': '9a1cf8c6-abe3-479a-a01b-31ec216f0b7a', 'timestamp': '2023-08-05T12:46:40.885683', 'user_id': 'f7aeffb6-f8b4-457e-be70-7dd1075aac38', 'object_id': '1c170a8a-9e73-4abc-a8c7-bd19d8b64648', 'activity_type': 'changed package', 'data': {'package': {'title': '2023-08-05 Nanshan Gravesite Panoramic Images -- Ricoh Theta Z1'}}}, {'id': 'f1584cbe-a032-4706-89aa-a98a807a2375', 'timestamp': '2023-08-05T12:46:18.855643', 'user_id': 'f7aeffb6-f8b4-457e-be70-7dd1075aac38', 'object_id': '1c170a8a-9e73-4abc-a8c7-bd19d8b64648', 'activity_type': 'changed package', 'data': {'package': {'title': '2023-08-05 Nanshan Gravesite Panoramic Images -- Ricoh Theta Z1'}}}, {'id': '6e6bd25c-99ce-45c4-941c-6a17c34e8f8f', 'timestamp': '2023-08-05T12:45:53.848553', 'user_id': 'f7aeffb6-f8b4-457e-be70-7dd1075aac38', 'object_id': '1c170a8a-9e73-4abc-a8c7-bd19d8b64648', 'activity_type': 'changed package', 'data': {'package': {'title': '2023-08-05 Nanshan Gravesite Panoramic Images -- Ricoh Theta Z1'}}}, {'id': '8276d108-08e3-4d0d-bc3e-05a9f804c540', 'timestamp': '2023-08-05T12:45:21.620356', 'user_id': 'f7aeffb6-f8b4-457e-be70-7dd1075aac38', 'object_id': '1c170a8a-9e73-4abc-a8c7-bd19d8b64648', 'activity_type': 'changed package', 'data': {'package': {'title': '2023-08-05 Nanshan Gravesite Panoramic Images -- Ricoh Theta Z1'}}}, {'id': '8ecc3548-94fc-4bbc-bd32-1057e04759ba', 'timestamp': '2023-08-05T12:44:18.987153', 'user_id': 'f7aeffb6-f8b4-457e-be70-7dd1075aac38', 'object_id': '1c170a8a-9e73-4abc-a8c7-bd19d8b64648', 'activity_type': 'changed package', 'data': {'package': {'title': '2023-08-05 Nanshan Gravesite Panoramic Images -- Ricoh Theta Z1'}}}, {'id': '3793b90e-38b6-4c94-b70a-1c3be25179fd', 'timestamp': '2023-08-05T12:43:10.184020', 'user_id': 'f7aeffb6-f8b4-457e-be70-7dd1075aac38', 'object_id': '1c170a8a-9e73-4abc-a8c7-bd19d8b64648', 'activity_type': 'changed package', 'data': {'package': {'title': '2023-08-05 Nanshan Gravesite Panoramic Images -- Ricoh Theta Z1'}}}, {'id': 'b3bdc880-dff7-48bc-897a-55c316b284b5', 'timestamp': '2023-08-05T12:38:46.741090', 'user_id': 'f7aeffb6-f8b4-457e-be70-7dd1075aac38', 'object_id': '1c170a8a-9e73-4abc-a8c7-bd19d8b64648', 'activity_type': 'changed package', 'data': {'package': {'title': '2023-08-05 Nanshan Gravesite Panoramic Images -- Ricoh Theta Z1'}}}, {'id': 'cbc407b2-4058-4150-88bb-9d334ea08f28', 'timestamp': '2023-08-05T12:35:55.061924', 'user_id': 'f7aeffb6-f8b4-457e-be70-7dd1075aac38', 'object_id': '1c170a8a-9e73-4abc-a8c7-bd19d8b64648', 'activity_type': 'changed package', 'data': {'package': {'title': '2023-08-05 Nanshan Gravesite Panoramic Images -- Ricoh Theta Z1'}}}, {'id': 'bbf6deb5-1f6a-436b-b0b1-109a84d1d5a9', 'timestamp': '2023-08-05T12:35:43.484776', 'user_id': 'f7aeffb6-f8b4-457e-be70-7dd1075aac38', 'object_id': '1c170a8a-9e73-4abc-a8c7-bd19d8b64648', 'activity_type': 'changed package', 'data': {'package': {'title': '2023-08-05 Nanshan Gravesite Panoramic Images -- Ricoh Theta Z1'}}}, {'id': '9cfa1f7c-c4b8-48e4-91df-0517344cc5e3', 'timestamp': '2023-08-05T12:35:27.043185', 'user_id': 'f7aeffb6-f8b4-457e-be70-7dd1075aac38', 'object_id': '1c170a8a-9e73-4abc-a8c7-bd19d8b64648', 'activity_type': 'changed package', 'data': {'package': {'title': '2023-08-05 Nanshan Gravesite Panoramic Images -- Ricoh Theta Z1'}}}, {'id': '02034d20-c8dc-4fa2-b179-c5fe6736c3ad', 'timestamp': '2023-08-05T12:35:11.849597', 'user_id': 'f7aeffb6-f8b4-457e-be70-7dd1075aac38', 'object_id': '1c170a8a-9e73-4abc-a8c7-bd19d8b64648', 'activity_type': 'changed package', 'data': {'package': {'title': '2023-08-05 Nanshan Gravesite Panoramic Images -- Ricoh Theta Z1'}}}, {'id': 'ff146598-af3d-434e-84b3-c48a8f883694', 'timestamp': '2023-08-05T12:34:56.386962', 'user_id': 'f7aeffb6-f8b4-457e-be70-7dd1075aac38', 'object_id': '1c170a8a-9e73-4abc-a8c7-bd19d8b64648', 'activity_type': 'changed package', 'data': {'package': {'title': '2023-08-05 Nanshan Gravesite Panoramic Images -- Ricoh Theta Z1'}}}, {'id': '18c0209c-568d-4b39-af28-14a4ad4169a3', 'timestamp': '2023-08-05T12:32:41.858864', 'user_id': 'f7aeffb6-f8b4-457e-be70-7dd1075aac38', 'object_id': '1c170a8a-9e73-4abc-a8c7-bd19d8b64648', 'activity_type': 'new package', 'data': {'package': {'title': '2023-08-05 Nanshan Gravesite Panoramic Images -- Ricoh Theta Z1'}}}, {'id': 'cf474360-520f-4f64-b8eb-e636bd8f6bf8', 'timestamp': '2023-08-04T10:02:46.845909', 'user_id': 'dbf82753-0564-4ca2-a855-fa81cb5615d1', 'object_id': '6fb6dd5c-5886-4d2b-8d73-c8f2eacfc851', 'activity_type': 'changed package', 'data': {'package': {'title': '溫寮溪道路工程(平面道路工區1、堤防道路、橋樑工區1、平面道路工區2、平面道路工區4)施工階段生態檢核成果'}}}, {'id': '739a354b-e209-4bd3-8eab-afd277940748', 'timestamp': '2023-08-04T10:01:39.190231', 'user_id': 'dbf82753-0564-4ca2-a855-fa81cb5615d1', 'object_id': '6fb6dd5c-5886-4d2b-8d73-c8f2eacfc851', 'activity_type': 'changed package', 'data': {'package': {'title': '溫寮溪道路工程(平面道路工區1、堤防道路、橋樑工區1、平面道路工區2、平面道路工區4)施工階段生態檢核成果'}}}, {'id': '31b4566f-ffe8-47f5-ab4d-3a9f1f41894c', 'timestamp': '2023-08-04T09:11:19.074608', 'user_id': 'dbf82753-0564-4ca2-a855-fa81cb5615d1', 'object_id': '7764fc85-39d5-49c9-a1ec-1d91bb43d560', 'activity_type': 'changed package', 'data': {'package': {'title': '三姓溪排水(河心累距0K+760~0K+800)護岸改善應急工程'}}}, {'id': '0badd255-ef50-4807-8312-33c1f6772a7a', 'timestamp': '2023-08-04T08:18:23.793885', 'user_id': 'dbf82753-0564-4ca2-a855-fa81cb5615d1', 'object_id': '7764fc85-39d5-49c9-a1ec-1d91bb43d560', 'activity_type': 'changed package', 'data': {'package': {'title': '三姓溪排水(河心累距0K+760~0K+800)護岸改善應急工程'}}}, {'id': '729dc6a7-2c19-4ced-b744-ab0701e79371', 'timestamp': '2023-08-04T08:17:44.251062', 'user_id': 'dbf82753-0564-4ca2-a855-fa81cb5615d1', 'object_id': '7764fc85-39d5-49c9-a1ec-1d91bb43d560', 'activity_type': 'changed package', 'data': {'package': {'title': '三姓溪排水(河心累距0K+760~0K+800)護岸改善應急工程'}}}, {'id': '815e3e0f-415a-45d7-bf73-4b074c30739a', 'timestamp': '2023-08-04T08:14:58.677055', 'user_id': 'dbf82753-0564-4ca2-a855-fa81cb5615d1', 'object_id': '7764fc85-39d5-49c9-a1ec-1d91bb43d560', 'activity_type': 'changed package', 'data': {'package': {'title': '三姓溪排水(河心累距0K+760~0K+800)護岸改善應急工程'}}}, {'id': '95850302-56f1-4096-9d83-892ce3a0a265', 'timestamp': '2023-08-04T08:14:10.170250', 'user_id': 'dbf82753-0564-4ca2-a855-fa81cb5615d1', 'object_id': '7764fc85-39d5-49c9-a1ec-1d91bb43d560', 'activity_type': 'changed package', 'data': {'package': {'title': '三姓溪排水(河心累距0K+760~0K+800)護岸改善應急工程'}}}, {'id': 'ee046fac-a492-449a-bc04-c6b1797bfc4a', 'timestamp': '2023-08-04T08:13:38.746719', 'user_id': 'dbf82753-0564-4ca2-a855-fa81cb5615d1', 'object_id': '7764fc85-39d5-49c9-a1ec-1d91bb43d560', 'activity_type': 'changed package', 'data': {'package': {'title': '三姓溪排水(河心累距0K+760~0K+800)護岸改善應急工程'}}}, {'id': 'ca74b6ba-777b-472d-9ffe-5300a0398685', 'timestamp': '2023-08-04T08:13:18.123524', 'user_id': 'dbf82753-0564-4ca2-a855-fa81cb5615d1', 'object_id': '7764fc85-39d5-49c9-a1ec-1d91bb43d560', 'activity_type': 'changed package', 'data': {'package': {'title': '三姓溪排水(河心累距0K+760~0K+800)護岸改善應急工程'}}}, {'id': 'a7c77754-f951-4366-b783-5bc69b0405ed', 'timestamp': '2023-08-04T08:12:58.338993', 'user_id': 'dbf82753-0564-4ca2-a855-fa81cb5615d1', 'object_id': '7764fc85-39d5-49c9-a1ec-1d91bb43d560', 'activity_type': 'changed package', 'data': {'package': {'title': '三姓溪排水(河心累距0K+760~0K+800)護岸改善應急工程'}}}, {'id': 'bb1432db-c879-4a3c-b77e-af9221a68165', 'timestamp': '2023-08-04T08:08:43.706270', 'user_id': 'dbf82753-0564-4ca2-a855-fa81cb5615d1', 'object_id': '7764fc85-39d5-49c9-a1ec-1d91bb43d560', 'activity_type': 'changed package', 'data': {'package': {'title': '三姓溪排水(河心累距0K+760~0K+800)護岸改善應急工程'}}}, {'id': '841114cc-2ed2-4a6d-b146-966f84de8cea', 'timestamp': '2023-08-04T08:06:55.827324', 'user_id': 'dbf82753-0564-4ca2-a855-fa81cb5615d1', 'object_id': '7764fc85-39d5-49c9-a1ec-1d91bb43d560', 'activity_type': 'changed package', 'data': {'package': {'title': '三姓公溪排水(河心累距0K+760~0K+800)護岸改善應急工程'}}}, {'id': 'c6ccc47f-3504-425a-bbae-09f6e5277b42', 'timestamp': '2023-08-04T08:06:14.642450', 'user_id': 'dbf82753-0564-4ca2-a855-fa81cb5615d1', 'object_id': '7764fc85-39d5-49c9-a1ec-1d91bb43d560', 'activity_type': 'changed package', 'data': {'package': {'title': '三姓公溪排水(河心累距0K+760~0K+800)護岸改善應急工程'}}}, {'id': 'cdbb633a-2686-4b71-b18b-292f4d0984c5', 'timestamp': '2023-08-04T08:05:43.269986', 'user_id': 'dbf82753-0564-4ca2-a855-fa81cb5615d1', 'object_id': '7764fc85-39d5-49c9-a1ec-1d91bb43d560', 'activity_type': 'changed package', 'data': {'package': {'title': '三姓公溪排水(河心累距0K+760~0K+800)護岸改善應急工程'}}}, {'id': '27d6b2c2-752c-4099-a807-c8d6981f3676', 'timestamp': '2023-08-04T08:05:24.316889', 'user_id': 'dbf82753-0564-4ca2-a855-fa81cb5615d1', 'object_id': '7764fc85-39d5-49c9-a1ec-1d91bb43d560', 'activity_type': 'changed package', 'data': {'package': {'title': '三姓公溪排水(河心累距0K+760~0K+800)護岸改善應急工程'}}}, {'id': '12044956-a12a-4f4a-9fe0-3cbe4007c6b1', 'timestamp': '2023-08-04T08:04:50.562486', 'user_id': 'dbf82753-0564-4ca2-a855-fa81cb5615d1', 'object_id': '7764fc85-39d5-49c9-a1ec-1d91bb43d560', 'activity_type': 'changed package', 'data': {'package': {'title': '三姓公溪排水(河心累距0K+760~0K+800)護岸改善應急工程'}}}, {'id': '372e7405-d3a0-4243-81d1-ff8ceea8a6ff', 'timestamp': '2023-08-04T08:01:34.990828', 'user_id': 'dbf82753-0564-4ca2-a855-fa81cb5615d1', 'object_id': '7764fc85-39d5-49c9-a1ec-1d91bb43d560', 'activity_type': 'changed package', 'data': {'package': {'title': '三姓公溪排水(河心累距0K+760~0K+800)護岸改善應急工程'}}}, {'id': 'c174f76d-c8ee-4fad-973e-af7c76773ceb', 'timestamp': '2023-08-04T07:38:30.658145', 'user_id': 'dbf82753-0564-4ca2-a855-fa81cb5615d1', 'object_id': '7764fc85-39d5-49c9-a1ec-1d91bb43d560', 'activity_type': 'changed package', 'data': {'package': {'title': '三姓公溪排水(河心累距0K+760~0K+800)護岸改善應急工程'}}}, {'id': 'b00d31b9-3e9e-4343-bbd9-5d04ae080bef', 'timestamp': '2023-08-04T07:37:17.062709', 'user_id': 'dbf82753-0564-4ca2-a855-fa81cb5615d1', 'object_id': '7764fc85-39d5-49c9-a1ec-1d91bb43d560', 'activity_type': 'changed package', 'data': {'package': {'title': '三姓公溪排水(河心累距0K+760~0K+800)護岸改善應急工程'}}}, {'id': '073a76ae-063b-4b2a-9212-ce0b3fce317d', 'timestamp': '2023-08-04T07:36:17.409869', 'user_id': 'dbf82753-0564-4ca2-a855-fa81cb5615d1', 'object_id': '7764fc85-39d5-49c9-a1ec-1d91bb43d560', 'activity_type': 'changed package', 'data': {'package': {'title': '三姓公溪排水(河心累距0K+760~0K+800)護岸改善應急工程'}}}, {'id': 'ccb068fc-ca72-4e29-a06a-3a36faa9d401', 'timestamp': '2023-08-04T07:32:36.631271', 'user_id': 'dbf82753-0564-4ca2-a855-fa81cb5615d1', 'object_id': '7764fc85-39d5-49c9-a1ec-1d91bb43d560', 'activity_type': 'changed package', 'data': {'package': {'title': '三姓公溪排水(河心累距0K+760~0K+800)護岸改善應急工程'}}}, {'id': '7a173bff-f992-48aa-a7d0-3f837bf3d5da', 'timestamp': '2023-08-03T02:44:37.992506', 'user_id': '8bfa12af-2191-4f10-bce5-b9527033ea20', 'object_id': 'b9399142-a508-4839-97d4-0f558084b9bf', 'activity_type': 'changed package', 'data': {'package': {'title': '高雄市太爺親水運動公園新建計畫'}}}, {'id': '45c197b7-f78d-4488-aa69-246f250d63ec', 'timestamp': '2023-08-03T02:41:07.180808', 'user_id': '8bfa12af-2191-4f10-bce5-b9527033ea20', 'object_id': 'b9399142-a508-4839-97d4-0f558084b9bf', 'activity_type': 'changed package', 'data': {'package': {'title': '高雄市太爺親水運動公園新建計畫'}}}, {'id': 'e6f47e86-21b3-4f03-8bf4-624184c5062b', 'timestamp': '2023-08-03T02:40:54.252108', 'user_id': '8bfa12af-2191-4f10-bce5-b9527033ea20', 'object_id': 'b9399142-a508-4839-97d4-0f558084b9bf', 'activity_type': 'changed package', 'data': {'package': {'title': '高雄市太爺親水運動公園新建計畫'}}}, {'id': 'd4744843-6a02-4776-a857-00c5942a6d42', 'timestamp': '2023-08-03T02:13:59.562089', 'user_id': '8bfa12af-2191-4f10-bce5-b9527033ea20', 'object_id': 'b9399142-a508-4839-97d4-0f558084b9bf', 'activity_type': 'changed package', 'data': {'package': {'title': '高雄市太爺親水運動公園新建計畫'}}}, {'id': '0238afaa-45fa-4fc8-bf37-f0c652a1f8fe', 'timestamp': '2023-08-03T02:12:14.558374', 'user_id': '8bfa12af-2191-4f10-bce5-b9527033ea20', 'object_id': 'b9399142-a508-4839-97d4-0f558084b9bf', 'activity_type': 'changed package', 'data': {'package': {'title': '高雄市太爺親水運動公園新建計畫'}}}, {'id': 'c1db9df2-6569-4069-b1cf-ff4fd3e2ed44', 'timestamp': '2023-08-03T02:08:53.139227', 'user_id': '8bfa12af-2191-4f10-bce5-b9527033ea20', 'object_id': 'b9399142-a508-4839-97d4-0f558084b9bf', 'activity_type': 'changed package', 'data': {'package': {'title': '高雄市太爺親水運動公園新建計畫'}}}, {'id': '7de09888-3e70-4d2c-9bda-93eac90b0994', 'timestamp': '2023-08-03T02:07:57.028251', 'user_id': '8bfa12af-2191-4f10-bce5-b9527033ea20', 'object_id': 'b9399142-a508-4839-97d4-0f558084b9bf', 'activity_type': 'changed package', 'data': {'package': {'title': '高雄市太爺親水運動公園新建計畫'}}}, {'id': '23159cc8-f818-4bd6-8b2e-5cb45e756eea', 'timestamp': '2023-08-03T02:07:21.368048', 'user_id': '8bfa12af-2191-4f10-bce5-b9527033ea20', 'object_id': 'b9399142-a508-4839-97d4-0f558084b9bf', 'activity_type': 'changed package', 'data': {'package': {'title': '高雄市太爺親水運動公園新建計畫'}}}, {'id': '0efbc50f-9fa9-4ae8-9731-97f484206587', 'timestamp': '2023-08-03T02:04:27.433818', 'user_id': '8bfa12af-2191-4f10-bce5-b9527033ea20', 'object_id': 'b9399142-a508-4839-97d4-0f558084b9bf', 'activity_type': 'changed package', 'data': {'package': {'title': '高雄市太爺親水運動公園新建計畫'}}}, {'id': '92635a1e-9321-44c7-ab6f-76cf95f76c8a', 'timestamp': '2023-08-03T02:04:08.506894', 'user_id': '8bfa12af-2191-4f10-bce5-b9527033ea20', 'object_id': 'b9399142-a508-4839-97d4-0f558084b9bf', 'activity_type': 'changed package', 'data': {'package': {'title': '高雄市太爺親水運動公園新建計畫'}}}, {'id': 'd0e35a4a-e625-4b85-91d6-e56efb0879b3', 'timestamp': '2023-08-02T01:56:46.432674', 'user_id': 'ccdf02ab-42e3-4e9e-be78-5bf5ad9e1d8c', 'object_id': '19574b96-42b5-450c-9c39-bebb4832c14d', 'activity_type': 'changed package', 'data': {'package': {'title': '0802進度報告'}}}, {'id': '355e8aa0-1a70-4959-92d8-d3d561563745', 'timestamp': '2023-08-02T01:56:38.671540', 'user_id': 'ccdf02ab-42e3-4e9e-be78-5bf5ad9e1d8c', 'object_id': '19574b96-42b5-450c-9c39-bebb4832c14d', 'activity_type': 'changed package', 'data': {'package': {'title': '0802進度報告'}}}, {'id': 'dd371df0-cb95-4308-b6c0-fbf3b7107613', 'timestamp': '2023-08-02T01:54:10.124758', 'user_id': 'ccdf02ab-42e3-4e9e-be78-5bf5ad9e1d8c', 'object_id': '19574b96-42b5-450c-9c39-bebb4832c14d', 'activity_type': 'changed package', 'data': {'package': {'title': '0802進度報告'}}}, {'id': 'f2679917-6e4f-412b-a82c-27defdde2947', 'timestamp': '2023-08-02T01:53:21.039793', 'user_id': 'ccdf02ab-42e3-4e9e-be78-5bf5ad9e1d8c', 'object_id': '19574b96-42b5-450c-9c39-bebb4832c14d', 'activity_type': 'changed package', 'data': {'package': {'title': '0802進度報告'}}}, {'id': '264ed48f-659b-4fbc-8e05-93cfc2f689d8', 'timestamp': '2023-08-02T01:52:46.511256', 'user_id': 'ccdf02ab-42e3-4e9e-be78-5bf5ad9e1d8c', 'object_id': '19574b96-42b5-450c-9c39-bebb4832c14d', 'activity_type': 'changed package', 'data': {'package': {'title': '0802進度報告'}}}, {'id': '654896ca-ca78-44b7-a8e2-2b4db526f253', 'timestamp': '2023-08-02T01:51:45.976055', 'user_id': 'ccdf02ab-42e3-4e9e-be78-5bf5ad9e1d8c', 'object_id': '19574b96-42b5-450c-9c39-bebb4832c14d', 'activity_type': 'changed package', 'data': {'package': {'title': '0802進度報告'}}}, {'id': '7540fdc9-b66e-4784-86f6-bdb5e6a1cedb', 'timestamp': '2023-08-02T01:48:25.156557', 'user_id': 'ccdf02ab-42e3-4e9e-be78-5bf5ad9e1d8c', 'object_id': '19574b96-42b5-450c-9c39-bebb4832c14d', 'activity_type': 'new package', 'data': {'package': {'title': '0802進度報告'}}}, {'id': 'f04d51ac-18c4-4210-9a2e-822c30f7fa78', 'timestamp': '2023-08-01T08:23:42.231782', 'user_id': '9e6ac75f-6537-48d8-b030-de2f287308b2', 'object_id': '589c1b85-d255-4b5a-9377-d2cb473a7c01', 'activity_type': 'changed package', 'data': {'package': {'title': '台灣生物多樣性網絡物種名錄'}}}, {'id': '54f82990-0bf0-4223-b4c4-b5d8b654d20d', 'timestamp': '2023-08-01T08:23:00.894363', 'user_id': '9e6ac75f-6537-48d8-b030-de2f287308b2', 'object_id': '589c1b85-d255-4b5a-9377-d2cb473a7c01', 'activity_type': 'changed package', 'data': {'package': {'title': '台灣生物多樣性網絡物種名錄'}}}, {'id': '38b4c4b5-d964-4db1-9bd9-4becf81cd84b', 'timestamp': '2023-07-31T23:01:23.435352', 'user_id': '1f5b17fc-deb2-4608-a8ef-3ca6f83cfd6d', 'object_id': '9d49bfe9-cca7-4df6-9618-29d2bb439974', 'activity_type': 'changed package', 'data': {'package': {'title': '台灣生物多樣性網絡資料集清單'}}}, {'id': '62aa3634-5c5a-4141-ba36-1d07839f9589', 'timestamp': '2023-07-31T23:01:10.027717', 'user_id': '1f5b17fc-deb2-4608-a8ef-3ca6f83cfd6d', 'object_id': '9d49bfe9-cca7-4df6-9618-29d2bb439974', 'activity_type': 'changed package', 'data': {'package': {'title': '台灣生物多樣性網絡資料集清單'}}}, {'id': '1294fe4f-27cb-45e2-8bbd-959d6e946a22', 'timestamp': '2023-07-31T02:14:52.870891', 'user_id': 'd405faa0-2237-47d2-a3d0-8f39897280d8', 'object_id': 'ff633445-8428-4a93-96d3-d139b75564ef', 'activity_type': 'changed package', 'data': {'package': {'title': '石門水庫阿姆坪防淤隧道工程計畫-大嵙崁清淤輸送系統委託規畫設計監造生態檢核-[施工階段]'}}}, {'id': 'cbd2b789-f838-48a0-b55b-2f1abbeaf9ce', 'timestamp': '2023-07-31T02:13:34.553888', 'user_id': 'd405faa0-2237-47d2-a3d0-8f39897280d8', 'object_id': 'ff633445-8428-4a93-96d3-d139b75564ef', 'activity_type': 'changed package', 'data': {'package': {'title': '石門水庫阿姆坪防淤隧道工程計畫-大嵙崁清淤輸送系統委託規畫設計監造生態檢核-[施工階段]'}}}, {'id': '0bc46080-7a9d-4375-9170-afbce9bf520b', 'timestamp': '2023-07-29T03:06:35.291540', 'user_id': '63dc0e33-7aa6-45b7-a9be-88c2171aa83a', 'object_id': '8d28b0ad-e704-4268-b43e-33a5e89deeed', 'activity_type': 'changed package', 'data': {'package': {'title': 'LTSER-Feitsui 福山水質分析 (避免資料濫用暫時關閉)'}}}, {'id': 'e022f0b6-b642-485e-b19b-da9a9c3e7d2d', 'timestamp': '2023-07-29T03:06:03.746095', 'user_id': '63dc0e33-7aa6-45b7-a9be-88c2171aa83a', 'object_id': '19938fe3-fe40-4b34-96b2-9e53977239cc', 'activity_type': 'changed package', 'data': {'package': {'title': 'LTSER-Feitsui 金瓜寮水質分析 (避免資料濫用暫時關閉)'}}}, {'id': '28fb6132-91a7-4363-a799-6aa948717412', 'timestamp': '2023-07-29T03:05:12.378089', 'user_id': '63dc0e33-7aa6-45b7-a9be-88c2171aa83a', 'object_id': '19938fe3-fe40-4b34-96b2-9e53977239cc', 'activity_type': 'changed package', 'data': {'package': {'title': 'LTSER-Feitsui 金瓜寮水質分析'}}}, {'id': '3912d57d-e248-4a1e-b921-cb97deecfb48', 'timestamp': '2023-07-29T03:04:20.292251', 'user_id': '63dc0e33-7aa6-45b7-a9be-88c2171aa83a', 'object_id': 'a29c70fa-e1d4-488a-a092-3994d2e02b96', 'activity_type': 'changed package', 'data': {'package': {'title': 'LTSER-Feitsui 福山水文監測資料'}}}, {'id': '8eec721f-89f9-49f8-9cfb-d750f85ccdba', 'timestamp': '2023-07-29T03:03:39.913078', 'user_id': '63dc0e33-7aa6-45b7-a9be-88c2171aa83a', 'object_id': 'c9851294-320e-4f72-a92c-6659e48606ca', 'activity_type': 'changed package', 'data': {'package': {'title': 'LTSER-Feitsui 福山林內氣象監測資料'}}}, {'id': 'e814679c-28ee-411b-ad39-157ff8b4fa40', 'timestamp': '2023-07-29T03:02:55.100761', 'user_id': '63dc0e33-7aa6-45b7-a9be-88c2171aa83a', 'object_id': 'cbe87019-d21c-4593-b386-3099d228f74c', 'activity_type': 'changed package', 'data': {'package': {'title': 'LTSER-Feitsui 金瓜寮下游氣象監測資料'}}}]}\n"
     ]
    }
   ],
   "source": [
    "url = \"http://data.depositar.io/api/3/action/recently_changed_packages_activity_list?limit=100\"\n",
    "package_list = requests.get(url).json()\n",
    "print(package_list)"
   ]
  }
 ],
 "metadata": {
  "kernelspec": {
   "display_name": "Python 3",
   "language": "python",
   "name": "python3"
  },
  "language_info": {
   "codemirror_mode": {
    "name": "ipython",
    "version": 3
   },
   "file_extension": ".py",
   "mimetype": "text/x-python",
   "name": "python",
   "nbconvert_exporter": "python",
   "pygments_lexer": "ipython3",
   "version": "3.10.6"
  },
  "orig_nbformat": 4
 },
 "nbformat": 4,
 "nbformat_minor": 2
}
