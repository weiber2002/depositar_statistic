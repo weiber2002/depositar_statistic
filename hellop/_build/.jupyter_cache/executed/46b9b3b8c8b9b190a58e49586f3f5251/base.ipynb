{
 "cells": [
  {
   "cell_type": "code",
   "execution_count": 1,
   "metadata": {
    "tags": [
     "remove-cell"
    ]
   },
   "outputs": [
    {
     "name": "stdout",
     "output_type": "stream",
     "text": [
      "  % Total    % Received % Xferd  Average Speed   Time    Time     Time  Current\r\n",
      "                                 Dload  Upload   Total   Spent    Left  Speed\r\n",
      "\r",
      "  0     0    0     0    0     0      0      0 --:--:-- --:--:-- --:--:--     0"
     ]
    },
    {
     "name": "stdout",
     "output_type": "stream",
     "text": [
      "\r",
      "  0     0    0     0    0     0      0      0 --:--:-- --:--:-- --:--:--     0\r\n"
     ]
    },
    {
     "name": "stdout",
     "output_type": "stream",
     "text": [
      "\r",
      "  0     0    0     0    0     0      0      0 --:--:--  0:00:01 --:--:--     0"
     ]
    },
    {
     "name": "stdout",
     "output_type": "stream",
     "text": [
      "\r",
      " 39 19.7M   39 8005k    0     0  4162k      0  0:00:04  0:00:01  0:00:03 8759k"
     ]
    },
    {
     "name": "stdout",
     "output_type": "stream",
     "text": [
      "\r",
      " 82 19.7M   82 16.3M    0     0  5717k      0  0:00:03  0:00:02  0:00:01 8731k"
     ]
    },
    {
     "name": "stdout",
     "output_type": "stream",
     "text": [
      "\r",
      "100 19.7M  100 19.7M    0     0  6060k      0  0:00:03  0:00:03 --:--:-- 8703k\r\n"
     ]
    },
    {
     "name": "stdout",
     "output_type": "stream",
     "text": [
      "E: Could not open lock file /var/lib/dpkg/lock-frontend - open (13: Permission denied)\r\n",
      "E: Unable to acquire the dpkg frontend lock (/var/lib/dpkg/lock-frontend), are you root?\r\n"
     ]
    }
   ],
   "source": [
    "\n",
    "!curl -L -o TaipeiSansTCBeta-Regular.ttf \"https://drive.google.com/uc?id=1eGAsTN1HBpJAkeVM57_C7ccp7hbgSz3_&export=download\"\n",
    "!apt-get install gzip\n",
    "import matplotlib as mpl\n",
    "import matplotlib.pyplot as plt\n",
    "import subprocess\n",
    "import gzip\n",
    "import json\n",
    "import requests\n",
    "import numpy as np\n",
    "from matplotlib.font_manager import fontManager\n",
    "from collections import Counter\n",
    "\n",
    "fontManager.addfont('TaipeiSansTCBeta-Regular.ttf')\n",
    "mpl.rc('font', family='Taipei Sans TC Beta')\n",
    "\n"
   ]
  },
  {
   "cell_type": "code",
   "execution_count": 2,
   "metadata": {
    "tags": [
     "remove-cell"
    ]
   },
   "outputs": [
    {
     "name": "stderr",
     "output_type": "stream",
     "text": [
      "/home/weipo/project/lib/python3.10/site-packages/ckanapi/cli/search.py:63: FutureWarning: GzipFile was opened for writing, but this will change in future Python releases.  Specify the mode argument for opening it for writing.\n",
      "  jsonl_output = gzip.GzipFile(fileobj=jsonl_output)\n"
     ]
    }
   ],
   "source": [
    "# Set the command\n",
    "cmd = [  # for package\n",
    "    'ckanapi',\n",
    "    'search',\n",
    "    'datasets',\n",
    "    '-O',\n",
    "    'datasets.jsonl.gz',\n",
    "    '-z',\n",
    "    '-r',\n",
    "    'https://data.depositar.io'\n",
    "]\n",
    "\n",
    "# Execute the command\n",
    "subprocess.run(cmd, check=True)\n",
    "\n",
    "o_dataset = []\n",
    "dataset_path = \"./datasets.jsonl.gz\"\n",
    "dataset_ad =\"./datasets.jsonl\"\n",
    "\n",
    "\n",
    "with gzip.open(dataset_path, \"rb\") as f_in:\n",
    "    with open(dataset_ad, \"wb\") as f_out:\n",
    "        f_out.write(f_in.read())\n",
    "with open(\"datasets.jsonl\", \"r\") as f: #游標位置會變\n",
    "    line_count = 0\n",
    "    for line in f:\n",
    "      line_count += 1\n",
    "    f.seek(0) #讓游標讀取位置回到原點\n",
    "    for i in range(line_count):\n",
    "        line = f.readline()\n",
    "        data = json.loads(line)\n",
    "        o_dataset.append(data)"
   ]
  },
  {
   "cell_type": "code",
   "execution_count": 3,
   "metadata": {
    "tags": [
     "remove-cell"
    ]
   },
   "outputs": [
    {
     "name": "stderr",
     "output_type": "stream",
     "text": [
      "/home/weipo/project/lib/python3.10/site-packages/ckanapi/cli/dump.py:49: FutureWarning: GzipFile was opened for writing, but this will change in future Python releases.  Specify the mode argument for opening it for writing.\n",
      "  jsonl_output = gzip.GzipFile(fileobj=jsonl_output)\n"
     ]
    },
    {
     "name": "stderr",
     "output_type": "stream",
     "text": [
      "0 [1] --- None 107ecological_check_project_of_keelung_city_2018\n",
      "1 [2] 0.06s None ecocheck_taichung_2018\n",
      "2 [3] 0.06s None ecological-considerations-107yilan\n",
      "3 [4] 0.06s None chiahung\n",
      "4 [5] 0.06s None ecological-considerations-107hsinchu\n",
      "5 [6] 0.05s None 107-taoyuan\n",
      "6 [7] 0.06s None 107\n",
      "7 [8] 0.06s None ecological-considerations-107miaoli\n",
      "8 [9] 0.05s None 2018\n",
      "9 [10] 0.05s None 107yl\n",
      "10 [11] 0.06s None ecological-considerations-107kaohsiung\n",
      "11 [12] 0.06s None bn-right3\n",
      "12 [13] 0.06s None ecocheck_taichung_2019-2020\n",
      "13 [14] 0.06s None cycwater108109\n",
      "14 [15] 0.06s None 108109changhuacology\n",
      "15 [16] 0.06s None 109ch\n",
      "16 [17] 0.06s None ch108-109\n",
      "17 [18] 0.28s None 108-109_hsinchu\n",
      "18 [19] 0.07s None ecocheck_miaoli_2019-2020\n",
      "19 [20] 0.05s None yunlin_ecocheck_108-109\n",
      "20 [21] 0.05s None yunlin_ecocheck_108-109_110\n",
      "21 [22] 0.08s None 108\n",
      "22 [23] 0.05s None 108taichung\n",
      "23 [24] 0.05s None 109-_-_\n",
      "24 [25] 0.04s None 109taipei\n",
      "25 [26] 0.05s None 109-_\n",
      "26 [27] 0.05s None 10911\n",
      "27 [28] 0.05s None 110-111changhua\n",
      "28 [29] 0.04s None 110-111newtaipei\n",
      "29 [30] 0.05s None w110009\n",
      "30 [31] 0.04s None bnright1\n",
      "31 [32] 0.05s None yongle2k470\n",
      "32 [33] 0.04s None tt-right1\n",
      "33 [34] 0.05s None yunlin_ecocheck_110-111\n",
      "34 [35] 0.05s None 110-111kaohsiung-ecologicalinspection\n",
      "35 [36] 0.05s None wra5-110-bz\n",
      "36 [37] 0.06s None 1101\n",
      "37 [38] 0.05s None 110\n",
      "38 [39] 0.05s None taoenvegoven\n",
      "39 [40] 0.04s None 110wra06\n",
      "40 [41] 0.06s None 110c8763\n",
      "41 [42] 0.07s None 112-113changhua\n",
      "42 [43] 0.05s None 112-113newtaipei\n",
      "43 [44] 0.06s None yunlin_ecocheck_112-113\n",
      "44 [45] 0.05s None 119-26k-000-26k-670\n",
      "45 [46] 0.06s None 123\n",
      "46 [47] 0.05s None 128-3k-600-4k-900\n",
      "47 [48] 0.05s None 1932\n",
      "48 [49] 0.06s None nantouecologicalguardian1995_2040\n",
      "49 [50] 0.05s None 2008-paworkshop\n",
      "50 [51] 0.07s None 2009-playaround-workshop\n",
      "51 [52] 0.05s None 2010-playaround-workshop\n",
      "52 [53] 0.06s None 2012-playaround-workshop\n",
      "53 [54] 0.05s None 2018-playaround-workshop\n",
      "54 [55] 0.05s None 2020_2050nantouanalyze\n",
      "55 [56] 0.06s None 2021geomatics\n",
      "56 [57] 0.04s None landscape-doc-2021\n",
      "57 [58] 0.11s None 2022iis-intern-depositar\n",
      "58 [59] 0.06s None 2022-summer-gravesite-survey\n",
      "59 [60] 0.06s None ml-rcdec-2022\n",
      "60 [61] 0.06s None 2023-_-narration-exploration-and-presentation-of-wikidata-annotated-resources\n",
      "61 [62] 0.05s None 2023-summer-projects\n",
      "62 [63] 0.05s None 38\n",
      "63 [64] 0.05s None fair\n",
      "64 [65] 0.07s None nanshan_2021-10-14\n",
      "65 [66] 0.07s None ai-cup\n",
      "66 [67] 0.05s None angis\n",
      "67 [68] 0.05s None asian-eco-net\n",
      "68 [69] 0.06s None asian-forest-soundscape\n",
      "69 [70] 0.05s None covid19\n",
      "70 [71] 0.06s None covid19tw\n",
      "71 [72] 0.06s None covid2019\n",
      "72 [73] 0.05s None cities_gi\n",
      "73 [74] 0.05s None clidi\n",
      "74 [75] 0.06s None data-depositar-io-dataset-631e4\n",
      "75 [76] 0.05s None depositar\n",
      "76 [77] 0.05s None ecai-pacific-language-mapping\n",
      "77 [78] 0.06s None fantasybaseball\n",
      "78 [79] 0.27s None geep-ap\n",
      "79 [80] 0.05s None gis_topics\n",
      "80 [81] 0.06s None www-rdr\n",
      "81 [82] 0.06s None gloria-taiwan\n",
      "82 [83] 0.05s None human-paleodiets\n",
      "83 [84] 0.04s None iislab317\n",
      "84 [85] 0.05s None jijiji\n",
      "85 [86] 0.06s None lod-taichung\n",
      "86 [87] 0.05s None low-impact-development-for-sustainable-tourism\n",
      "87 [88] 0.13s None ltserchanghua\n",
      "88 [89] 0.06s None ltser-lyudao\n",
      "89 [90] 0.06s None ltser-feitsuei\n",
      "90 [91] 0.05s None maps-re-imagined\n",
      "91 [92] 0.06s None oceanbiodiversity\n",
      "92 [93] 0.06s None low-cost-sensor\n",
      "93 [94] 0.05s None roger\n",
      "94 [95] 0.06s None study-on-covid-19-vaccination-strategies\n",
      "95 [96] 0.05s None taismart\n",
      "96 [97] 0.06s None tbn\n",
      "97 [98] 0.06s None wbgt\n",
      "98 [99] 0.05s None testpermission\n",
      "99 [100] 0.05s None thakbong\n",
      "100 [101] 0.22s None ultrasoundscape-brcas\n",
      "101 [102] 0.05s None nanshan_2022-03-13\n",
      "102 [103] 0.07s None wikidata-religions-temples-in-tainan-and-penghu\n",
      "103 [104] 0.06s None wildstreamob\n",
      "104 [105] 0.06s None 110_three\n",
      "105 [106] 0.05s None 17-0k-800-1k-150\n",
      "106 [107] 0.06s None irc-pccu\n",
      "107 [108] 0.06s None swchina\n",
      "108 [109] 0.05s None 22-26-14k-000_16k-406\n",
      "109 [110] 0.06s None as-rchss-gis\n",
      "110 [111] 0.06s None nbs_bstp\n",
      "111 [112] 0.05s None nbis_shezidao\n",
      "112 [113] 0.05s None nbs_taipei-guizikeng\n",
      "113 [114] 0.05s None bps\n"
     ]
    },
    {
     "name": "stderr",
     "output_type": "stream",
     "text": [
      "114 [115] 0.05s None 108109\n",
      "115 [116] 0.05s None dataset\n",
      "116 [117] 0.05s None hsinchu112-113\n",
      "117 [118] 0.05s None https-sites-google-com-view-waterenv-hsinchu110-111-e9-a6-96-e9-a0-81\n",
      "118 [119] 0.05s None miaoliwaterproject\n",
      "119 [120] 0.06s None ml_eco-plan\n",
      "120 [121] 0.06s None 110-111-kaohsiung\n",
      "121 [122] 0.06s None lcs_pm_taiwan_indonesia\n",
      "122 [123] 0.06s None bstp-development\n",
      "123 [124] 0.05s None beigang-stream\n",
      "124 [125] 0.06s None beigang_river\n",
      "125 [126] 0.06s None taitung2\n",
      "126 [127] 0.06s None 109-110\n",
      "127 [128] 0.05s None discovering-of-taiwan-historical-maps\n",
      "128 [129] 0.06s None binjijijh-l\n",
      "129 [130] 0.06s None https-www-ud-taichung-gov-tw\n",
      "130 [131] 0.06s None taijiangproject\n",
      "131 [132] 0.04s None nsysu\n",
      "132 [133] 0.06s None taijiang_sustainable_plan\n",
      "133 [134] 0.05s None twrw-eco2021\n",
      "134 [135] 0.06s None he-she-river\n",
      "135 [136] 0.06s None 111\n",
      "136 [137] 0.05s None chia-nan-project\n",
      "137 [138] 0.07s None 10-3\n",
      "138 [139] 0.07s None east-stone\n",
      "139 [140] 0.07s None 107wpro\n",
      "140 [141] 0.05s None 108-109_chiayi\n",
      "141 [142] 0.05s None chiayi110-111\n",
      "142 [143] 0.07s None wmts\n",
      "143 [144] 0.05s None ncyu_invasive_species\n",
      "144 [145] 0.04s None ncyu_safety_map\n",
      "145 [146] 0.06s None ncyu_water_resources\n",
      "146 [147] 0.05s None ncyu_facilities\n",
      "147 [148] 0.05s None ncyu-energy\n",
      "148 [149] 0.04s None ncyu_recycling\n",
      "149 [150] 0.14s None keelung-nuan\n",
      "150 [151] 0.05s None ecological_check_project_of_keelung_city_2019\n",
      "151 [152] 0.05s None 109\n",
      "152 [153] 0.05s None keelung-110\n",
      "153 [154] 0.06s None keelung111\n",
      "154 [155] 0.05s None dazhi_drainage_1\n",
      "155 [156] 0.06s None 12\n",
      "156 [157] 0.04s None 108-dahu\n",
      "157 [158] 0.09s None dagouxi_riverside_park_and_jinruei_riverside_park\n",
      "158 [159] 0.04s None urbanforest\n",
      "159 [160] 0.05s None resilience_uf\n",
      "160 [161] 0.06s None nstc_uttsr_sp2\n",
      "161 [162] 0.06s None 0k-866-1k-547\n",
      "162 [163] 0.06s None annongriver\n",
      "163 [164] 0.04s None zhuangdong\n",
      "164 [165] 0.05s None 108-109yilan\n",
      "165 [166] 0.05s None ecological-considerations-108109yilan\n",
      "166 [167] 0.05s None thcdc\n",
      "167 [168] 0.04s None site2\n",
      "168 [169] 0.05s None liudui\n",
      "169 [170] 0.06s None ky-and-gl\n",
      "170 [171] 0.05s None 10714\n",
      "171 [172] 0.05s None ecological-considerations-108109pingtung\n",
      "172 [173] 0.05s None 110-1111111111111\n",
      "173 [174] 0.06s None xihu-xizhoubicyclelane\n",
      "174 [175] 0.05s None collaborative-badlands-project\n",
      "175 [176] 0.05s None 106_kaohsiung_18\n",
      "176 [177] 0.05s None twedcschildren\n",
      "177 [178] 0.05s None ncku_mtms\n",
      "178 [179] 0.06s None lakulaku_river_basin\n",
      "179 [180] 0.05s None penguin\n",
      "180 [181] 0.07s None ecosystemservice\n",
      "181 [182] 0.06s None _carbon_2020_2023\n",
      "182 [183] 0.06s None 29-5k-14k\n",
      "183 [184] 0.06s None ntwyg4\n",
      "184 [185] 0.05s None hcc_tcr_ecomap_2020\n",
      "185 [186] 0.05s None ecological-considerations-107hsinchu-city\n",
      "186 [187] 0.06s None ecological-considerations-108109hsinchu-city\n",
      "187 [188] 0.05s None 1100-1111\n",
      "188 [189] 0.05s None 112-113\n",
      "189 [190] 0.06s None https-data-depositar-io-dataset-7eb94\n",
      "190 [191] 0.06s None michelle891023\n",
      "191 [192] 0.06s None 10-2\n",
      "192 [193] 0.05s None wiselabproject\n",
      "193 [194] 0.11s None n111230310004\n",
      "194 [195] 0.07s None 751\n",
      "195 [196] 0.06s None oceanbiodiversity-ch\n",
      "196 [197] 0.04s None sandbox\n",
      "197 [198] 0.05s None hahahahatest1\n",
      "198 [199] 0.06s None minshiang\n",
      "199 [200] 0.06s None 1594321316456\n",
      "200 [201] 0.19s None jhuoshuei-river01\n",
      "201 [202] 0.06s None 1-2\n",
      "202 [203] 0.06s None wanli_temple_prescription\n",
      "203 [204] 0.06s None yunlin_ntou5047\n",
      "204 [205] 0.06s None m2010\n",
      "205 [206] 0.05s None contemporary-archiving-in-taiwan\n",
      "206 [207] 0.07s None ecological_check_changhua_shipai\n",
      "207 [208] 0.06s None sssd1\n",
      "208 [209] 0.05s None snsddm2\n",
      "209 [210] 0.06s None snjgdm\n",
      "210 [211] 0.05s None rdm-basics\n",
      "211 [212] 0.04s None xiuguluan-river\n",
      "212 [213] 0.05s None weec\n",
      "213 [214] 0.05s None wra04\n",
      "214 [215] 0.05s None incomplete_datasets\n",
      "215 [216] 0.05s None 166-162\n",
      "216 [217] 0.06s None 169-159\n",
      "217 [218] 0.05s None 110-111\n",
      "218 [219] 0.05s None 110-1111\n",
      "219 [220] 0.08s None ege3t1\n",
      "220 [221] 0.05s None tcgwrbec112-113\n",
      "221 [222] 0.05s None tc_faziriver_landscape-environment-construction-project_107\n",
      "222 [223] 0.05s None tainancp\n",
      "223 [224] 0.05s None panasia-yongkang\n"
     ]
    },
    {
     "name": "stderr",
     "output_type": "stream",
     "text": [
      "224 [225] 0.05s None right3\n",
      "225 [226] 0.04s None taitung\n",
      "226 [227] 0.06s None 6ten\n",
      "227 [228] 0.05s None green-heat_inequality\n",
      "228 [229] 0.06s None tccip\n",
      "229 [230] 0.05s None ast\n",
      "230 [231] 0.04s None hualieneconet\n",
      "231 [232] 0.06s None 30\n",
      "232 [233] 0.05s None 107env\n",
      "233 [234] 0.05s None mlsy-ytr-2021\n",
      "234 [235] 0.06s None 128\n",
      "235 [236] 0.05s None ml_eco-monitoring\n",
      "236 [237] 0.06s None green-flow\n",
      "237 [238] 0.05s None miaoliecological112-113\n",
      "238 [239] 0.05s None https-data-depositar-io-dataset-631e4\n",
      "239 [240] 0.06s None lhc_ecosystem_services\n",
      "240 [241] 0.06s None air_faq2017\n",
      "241 [242] 0.05s None gcaa-thaubing-footprint\n",
      "242 [243] 0.06s None miaoli108\n",
      "243 [244] 0.09s None trait\n",
      "244 [245] 0.04s None urban\n",
      "245 [246] 0.05s None sustainability_dmp\n",
      "246 [247] 0.05s None workshop\n",
      "247 [248] 0.06s None tsungchenlee_team\n",
      "248 [249] 0.05s None green-infrastructure_urban-sustainability-transition\n",
      "249 [250] 0.06s None disaster_recovery\n",
      "250 [251] 0.05s None kinmenlibrary\n",
      "251 [252] 0.05s None kinmenjincheng3stage\n",
      "252 [253] 0.05s None data-management-and-publish-in-long-term-socio-ecological-research-ltser\n",
      "253 [254] 0.06s None ltc_energency_pred\n",
      "254 [255] 0.05s None openrdds\n",
      "255 [256] 0.05s None cz-109-2621-m-006-010\n",
      "256 [257] 0.05s None ecoyangmingshan\n",
      "257 [258] 0.05s None 62-1\n",
      "258 [259] 0.06s None yun65_0k-300-1k-860\n",
      "259 [260] 0.06s None 2019sas2th\n",
      "260 [261] 0.05s None touqian-river\n",
      "261 [262] 0.06s None kaohsiung\n",
      "262 [263] 0.06s None _0013\n",
      "263 [264] 0.05s None 108-109\n",
      "264 [265] 0.06s None the-shuang-xi-river-meinong\n",
      "265 [None] 0.06s None tioceansounscape\n"
     ]
    }
   ],
   "source": [
    "cmd = [  # for package\n",
    "    'ckanapi',\n",
    "    'dump',\n",
    "    'organizations',\n",
    "    '--all',\n",
    "    '-O',\n",
    "    'projects.jsonl.gz',\n",
    "    '-z',\n",
    "    '-r',\n",
    "    'https://data.depositar.io'\n",
    "]\n",
    "\n",
    "subprocess.run(cmd, check=True)\n",
    "\n",
    "o_project = []\n",
    "\n",
    "with gzip.open(\"projects.jsonl.gz\", \"rb\") as f_in:\n",
    "    with open(\"projects.jsonl\", \"wb\") as f_out:\n",
    "        f_out.write(f_in.read())\n",
    "with open(\"projects.jsonl\", \"r\") as f: #游標位置會變\n",
    "    line_count = 0\n",
    "    for line in f:\n",
    "      line_count += 1\n",
    "    f.seek(0) #讓游標讀取位置回到原點\n",
    "    for i in range(line_count):\n",
    "        line = f.readline()\n",
    "        data = json.loads(line)\n",
    "        o_project.append(data)"
   ]
  },
  {
   "cell_type": "code",
   "execution_count": 4,
   "metadata": {
    "tags": [
     "remove-cell"
    ]
   },
   "outputs": [],
   "source": [
    "# Set the command\n",
    "cmd = [  # for package\n",
    "    'ckanapi',\n",
    "    'dump',\n",
    "    'groups',\n",
    "    '--all',\n",
    "    '-O',\n",
    "    'topics.jsonl.gz',\n",
    "    '-z',\n",
    "    '-r',\n",
    "    'https://data.depositar.io'\n",
    "]\n",
    "# Execute the command\n",
    "completed_process = subprocess.run(cmd, stdout=subprocess.PIPE, stderr=subprocess.PIPE, text=True)\n",
    "\n",
    "o_topic = []\n",
    "\n",
    "\n",
    "with gzip.open(\"topics.jsonl.gz\", \"rb\") as f_in:\n",
    "    with open(\"topics.jsonl\", \"wb\") as f_out:\n",
    "        f_out.write(f_in.read())\n",
    "with open(\"topics.jsonl\", \"r\") as f: #游標位置會變\n",
    "    line_count = 0\n",
    "    for line in f:\n",
    "      line_count += 1\n",
    "    f.seek(0) #讓游標讀取位置回到原點\n",
    "    for i in range(line_count):\n",
    "        line = f.readline()\n",
    "        data = json.loads(line)\n",
    "        o_topic.append(data)\n"
   ]
  },
  {
   "cell_type": "code",
   "execution_count": 5,
   "metadata": {
    "tags": [
     "remove-cell"
    ]
   },
   "outputs": [
    {
     "name": "stdout",
     "output_type": "stream",
     "text": [
      "dataset [{'author': '施君翰、高偉傑', 'author_email': None, 'contact_email': '', 'contact_person': '', 'creator_user_id': 'b274036a-23b4-4097-b4f5-884a367d8807', 'data_type': ['doc'], 'groups': [], 'id': 'e67bc7e2-7fc2-4d41-a994-064954e164bf', 'isopen': False, 'keywords': [], 'language': [], 'license_id': 'notspecified', 'license_title': 'License Not Specified', 'maintainer': None, 'maintainer_email': None, 'metadata_created': '2023-03-14T09:44:11.573993', 'metadata_modified': '2023-08-19T14:12:45.867569', 'name': 'e8d91', 'notes': '藤寮坑溝第二期生態檢核 (施工前)', 'num_resources': 3, 'num_tags': 0, 'organization': None, 'private': False, 'process_step': '', 'relationships_as_object': [], 'relationships_as_subject': [], 'remarks': '', 'resources': [{'cache_last_updated': None, 'cache_url': None, 'created': '2023-03-14T09:46:25.010188', 'datastore_active': False, 'datastore_contains_all_records_of_source_file': False, 'description': '藤寮二期12月生態檢核報告 (施工前)', 'format': 'PDF', 'hash': '', 'id': '0811f716-6ee6-488f-a81d-028fdcc3de9d', 'last_modified': '2023-03-14T09:46:24.926496', 'metadata_modified': '2023-08-19T14:11:57.491983', 'mimetype': 'application/pdf', 'mimetype_inner': None, 'name': '藤寮二期12月生態檢核報告 (施工前)', 'package_id': 'e67bc7e2-7fc2-4d41-a994-064954e164bf', 'position': 0, 'resource_type': None, 'size': 5305747, 'state': 'active', 'url': 'https://data.depositar.io/dataset/e67bc7e2-7fc2-4d41-a994-064954e164bf/resource/0811f716-6ee6-488f-a81d-028fdcc3de9d/download/%252525E8%25252597%252525A4%252525E5%252525AF%252525AE%252525E4%252525BA%2525258C%252525E6%2525259C%2525259F12%252525E6%2525.pdf', 'url_type': 'upload'}, {'cache_last_updated': None, 'cache_url': None, 'created': '2023-08-19T14:10:58.626073', 'datastore_active': False, 'datastore_contains_all_records_of_source_file': False, 'description': '藤寮二期12月生態檢核報告 (施工中) - 30%', 'format': 'PDF', 'hash': '', 'id': '0f308794-e48b-40b1-9269-e07b36bc7d53', 'last_modified': '2023-08-19T14:10:58.148863', 'metadata_modified': '2023-08-19T14:11:57.492114', 'mimetype': 'application/pdf', 'mimetype_inner': None, 'name': '藤寮二期12月生態檢核報告 (施工中) - 30%', 'package_id': 'e67bc7e2-7fc2-4d41-a994-064954e164bf', 'position': 1, 'resource_type': None, 'size': 5433863, 'state': 'active', 'url': 'https://data.depositar.io/dataset/e67bc7e2-7fc2-4d41-a994-064954e164bf/resource/0f308794-e48b-40b1-9269-e07b36bc7d53/download/%25E8%2597%25A4%25E5%25AF%25AE%25E4%25BA%258C%25E6%259C%259F12%25E6%259C%2588%25E7%2594%259F%25E6%2585%258B%25E6%25AA%25A2%25E6%25A0%25B8%25E5%25A0%25B1%25E5%25.pdf', 'url_type': 'upload'}, {'cache_last_updated': None, 'cache_url': None, 'created': '2023-08-19T14:11:57.753858', 'datastore_active': False, 'datastore_contains_all_records_of_source_file': False, 'description': '藤寮二期8月生態檢核報告 (施工中) - 60%', 'format': 'PDF', 'hash': '', 'id': '975e8078-e639-4c74-8396-2e43b923c605', 'last_modified': '2023-08-19T14:11:57.405208', 'metadata_modified': '2023-08-19T14:11:57.492314', 'mimetype': 'application/pdf', 'mimetype_inner': None, 'name': '藤寮二期8月生態檢核報告 (施工中) - 60%', 'package_id': 'e67bc7e2-7fc2-4d41-a994-064954e164bf', 'position': 2, 'resource_type': None, 'size': 8235478, 'state': 'active', 'url': 'https://data.depositar.io/dataset/e67bc7e2-7fc2-4d41-a994-064954e164bf/resource/975e8078-e639-4c74-8396-2e43b923c605/download/%E8%97%A4%E5%AF%AE%E4%BA%8C%E6%9C%9F8%E6%9C%88%E7%94%9F%E6%85%8B%E6%AA%A2%E6%A0%B8%E5%A0%B1%E5%91%8A%20%28%E6%96%BD%E5%B7%A5%E4%B8%AD%29%20-%2060%25.pdf', 'url_type': 'upload'}], 'state': 'active', 'tags': [], 'title': '藤寮坑溝第二期生態檢核', 'type': 'dataset', 'url': None, 'version': None}, {'author': '王育晟', 'author_email': None, 'contact_email': 'wang1002jack@gmail.com', 'contact_person': '王育晟', 'created_time': '2023', 'creator_user_id': '4e039ddd-b226-450e-a71f-7471cb3814f6', 'data_type': ['archive'], 'end_time': '1956', 'groups': [], 'id': 'fd1605c6-ba49-4558-b446-2b59cb05512c', 'isopen': True, 'keywords': [], 'language': [], 'license_id': 'cc-by', 'license_title': 'CC-BY 4.0', 'license_url': 'https://creativecommons.org/licenses/by/4.0/', 'maintainer': None, 'maintainer_email': None, 'metadata_created': '2023-08-18T06:48:00.077011', 'metadata_modified': '2023-08-18T06:49:12.054177', 'name': '1956', 'notes': '本圖徵係根據中研院台北百年歷史度圖網站中1956年台北市都市計畫道路系統圖，依據上面公園圖徵數化而得。', 'num_resources': 1, 'num_tags': 1, 'organization': None, 'private': False, 'process_step': '', 'relationships_as_object': [], 'relationships_as_subject': [], 'remarks': '', 'resources': [{'cache_last_updated': None, 'cache_url': None, 'created': '2023-08-18T06:49:07.334601', 'datastore_active': False, 'datastore_contains_all_records_of_source_file': False, 'description': '', 'format': 'application/vnd.rar', 'hash': '', 'id': 'f87de2ec-d2bc-48d0-adb4-d063cb5204e7', 'last_modified': '2023-08-18T06:49:07.141289', 'metadata_modified': '2023-08-18T06:49:12.062012', 'mimetype': 'application/vnd.rar', 'mimetype_inner': None, 'name': '1956台北市都市計畫公園', 'package_id': 'fd1605c6-ba49-4558-b446-2b59cb05512c', 'position': 0, 'resource_crs': 4326, 'resource_type': None, 'size': 15034, 'state': 'active', 'url': 'https://data.depositar.io/dataset/fd1605c6-ba49-4558-b446-2b59cb05512c/resource/f87de2ec-d2bc-48d0-adb4-d063cb5204e7/download/1956%25E5%258F%25B0%25E5%258C%2597%25E9%2583%25BD%25E5%25B8%2582%25E8%25A8%2588%25E7%2595%25AB%25E5%2585%25AC%25E5%259C%2592.rar', 'url_type': 'upload'}], 'spatial': '{\"type\":\"Polygon\",\"coordinates\":[[[121.4773368,25.0053915],[121.4773368,25.09033809],[121.5949315,25.09033809],[121.5949315,25.0053915],[121.4773368,25.0053915]]]}', 'start_time': '1956', 'state': 'active', 'tags': [{'display_name': '1956年台北都市計畫', 'id': '235e2114-367e-4781-b14b-cf3d4f6086d4', 'name': '1956年台北都市計畫', 'state': 'active', 'vocabulary_id': None}], 'temp_res': 'yearly', 'title': '1956年台北都市計畫公園圖徵', 'type': 'dataset', 'url': None, 'version': None, 'x_max': '121.5949315', 'x_min': '121.4773368', 'y_max': '25.09033809', 'y_min': '25.0053915'}]\n",
      "project {'approval_status': 'approved', 'created': '2019-12-10T10:59:34.280389', 'description': '此專案是由基隆市政府委託觀察家生態顧問有限公司執行，針對大武崙溪範圍內3件工程：「大武崙溪排水瓶頸改善工程」、「大武崙溪堤後排水暨瓶頸改善工程(堤後排水及護岸加高)」、「大武崙工業區小型抽排及調整池工程」，秉持生態保育之原則執行工程生態檢核作業。', 'display_name': '107基隆市生態檢核工作計畫', 'extras': [], 'groups': [], 'id': 'e95ce98f-705c-417b-821f-9dca68c8d634', 'image_display_url': 'https://data.depositar.io/uploads/group/2020-08-13-124731.523792IMG9499.JPG', 'image_url': '2020-08-13-124731.523792IMG9499.JPG', 'is_organization': True, 'name': '107ecological_check_project_of_keelung_city_2018', 'num_followers': 0, 'package_count': 1, 'state': 'active', 'tags': [], 'title': '107基隆市生態檢核工作計畫', 'type': 'organization'}\n",
      "topic {'approval_status': 'approved', 'created': '2018-10-15T22:44:45.141092', 'description': '', 'display_name': '00. 一般性參考資料 / General reference', 'extras': [], 'groups': [], 'id': '5f5ffe95-4d22-4005-a54e-bb5273f6e5be', 'image_display_url': 'https://data.depositar.io/uploads/group/2018-10-23-061540.113498icon-01.svg', 'image_url': '2018-10-23-061540.113498icon-01.svg', 'is_organization': False, 'name': 'general-reference', 'num_followers': 0, 'package_count': 15, 'state': 'active', 'tags': [], 'title': '00. 一般性參考資料 / General reference', 'type': 'group'}\n"
     ]
    }
   ],
   "source": [
    "print(\"dataset\",o_dataset[:2])\n",
    "print(\"project\",o_project[0])\n",
    "print(\"topic\",o_topic[0])"
   ]
  },
  {
   "cell_type": "code",
   "execution_count": 6,
   "metadata": {
    "tags": [
     "hide-input"
    ]
   },
   "outputs": [
    {
     "name": "stdout",
     "output_type": "stream",
     "text": [
      "[{'time': '2023-08-19T14:12:46.175762', 'title': '藤寮坑溝第二期生態檢核'}, {'time': '2023-08-19T14:11:58.085600', 'title': '藤寮坑溝第二期生態檢核 (施工前)'}, {'time': '2023-08-19T14:10:59.146671', 'title': '藤寮坑溝第二期生態檢核 (施工前)'}, {'time': '2023-08-18T06:49:16.708634', 'title': '1956年台北都市計畫公園圖徵'}, {'time': '2023-08-18T06:49:07.994301', 'title': '1956年台北都市計畫公園圖徵'}, {'time': '2023-08-18T06:48:14.230175', 'title': '1956年台北都市計畫公園圖徵'}, {'time': '2023-08-18T06:21:20.497087', 'title': '1932年台北計劃公園圖徵'}, {'time': '2023-08-18T06:19:58.168910', 'title': '1932年台北計劃公園圖徵'}, {'time': '2023-08-18T06:13:53.564696', 'title': '1932年台北計劃公園圖徵'}, {'time': '2023-08-17T11:02:38.532526', 'title': '「曾文溪排水分洪箱涵上游8K+420~9K+020護岸新建工程併辦土石標售」施工階段生態稽核'}, {'time': '2023-08-17T11:01:52.629650', 'title': '「曾文溪排水分洪箱涵上游8K+420~9K+020護岸新建工程併辦土石標售」施工階段生態稽核'}, {'time': '2023-08-17T11:00:09.116375', 'title': '「曾文溪排水分洪箱涵上游7K+820~8K+420護岸新建工程併辦土石標售」施工階段生態稽核'}, {'time': '2023-08-17T10:59:13.212566', 'title': '「曾文溪排水分洪箱涵上游7K+820~8K+420護岸新建工程併辦土石標售」施工階段生態稽核'}, {'time': '2023-08-17T10:57:52.414765', 'title': '「曾文溪排水十二佃疏洪箱涵(樁號1K+600~1K+900)新建工程併辦土石標售」施工階段生態檢核'}, {'time': '2023-08-17T10:36:30.828935', 'title': '2017-2023 中醫就診人數'}, {'time': '2023-08-17T10:35:44.645452', 'title': '2017-2023 中醫就診人數'}, {'time': '2023-08-17T10:23:02.375771', 'title': '2017-2023 中醫就診人數'}, {'time': '2023-08-17T10:22:04.621013', 'title': '2017-2023 中醫就診人數Q1'}, {'time': '2023-08-17T10:10:57.157978', 'title': '2017-2023 中醫就診人數Q1'}, {'time': '2023-08-17T10:10:42.047331', 'title': '2017-2023 中醫就診人數Q1'}, {'time': '2023-08-17T10:05:51.715283', 'title': '2017-2023 中醫就診人數Q1'}, {'time': '2023-08-17T08:09:29.317969', 'title': '「曾文溪排水十二佃疏洪箱涵(樁號1K+600~1K+900)新建工程併辦土石標售」施工階段生態檢核'}, {'time': '2023-08-17T08:05:30.214257', 'title': '「曾文溪排水十二佃疏洪箱涵(樁號1K+600~1K+900)新建工程併辦土石標售」施工階段生態檢核'}, {'time': '2023-08-17T08:04:31.745194', 'title': '「曾文溪排水十二佃疏洪箱涵(樁號1K+600~1K+900)新建工程併辦土石標售」施工階段生態檢核'}, {'time': '2023-08-15T01:52:29.154858', 'title': '2023 GIS中心：南山公墓相關資料'}, {'time': '2023-08-15T00:08:55.604774', 'title': '石門水庫阿姆坪防淤隧道工程計畫-大嵙崁清淤輸送系統委託規畫設計監造生態檢核-[施工階段]'}]\n"
     ]
    },
    {
     "data": {
      "image/png": "[encoded data removed]",
      "text/plain": [
       "<Figure size 600x400 with 1 Axes>"
      ]
     },
     "metadata": {},
     "output_type": "display_data"
    }
   ],
   "source": [
    "from datetime import datetime, timedelta\n",
    "import pytz\n",
    "\n",
    "url = \"http://data.depositar.io/api/3/action/recently_changed_packages_activity_list?limit=100\"\n",
    "package_list = requests.get(url).json()\n",
    "up_time = package_list['result']\n",
    "day = 7\n",
    "time_list = []\n",
    "each_d_up = [0]*day\n",
    "\n",
    "for i in up_time:\n",
    "  time_list.append({'time':i['timestamp'],'title':i['data']['package']['title']})\n",
    "\n",
    "def time_in_7d(time_list,each_d_up):\n",
    "    tz = pytz.timezone(\"Asia/Taipei\")\n",
    "    current_tz = datetime.now(tz)\n",
    "    current_time = str(current_tz.replace(tzinfo=None))\n",
    "    current_date = datetime.fromisoformat(current_time)\n",
    "\n",
    "    filter_time = []\n",
    "\n",
    "    for i in time_list:\n",
    "      time = datetime.fromisoformat(i['time'])\n",
    "      if current_date - time <= timedelta(days=day):\n",
    "        filter_time.append(i)\n",
    "        for j in range(day):\n",
    "          if  (current_date - time >= timedelta(days=j)) and (current_date - time <= timedelta(days=j+1)):\n",
    "            each_d_up[j] = each_d_up[j] + 1\n",
    "    return filter_time\n",
    "\n",
    "\n",
    "days_7 = time_in_7d(time_list,each_d_up)\n",
    "print(days_7)\n",
    "\n",
    "def create_dynamic_list(day):\n",
    "    return [f'Day {i}' for i in range(1, day + 1)]\n",
    "days = create_dynamic_list(day)\n",
    "\n",
    "\n",
    "each_d_value = []\n",
    "for i, value in enumerate(each_d_up):\n",
    "    each_d_value.append(value)\n",
    "   \n",
    "\n",
    "fig, ax = plt.subplots(figsize=(6, 4))\n",
    "fig.patch.set_facecolor('#f0f0f0') # Set background color\n",
    "ax.set_facecolor('#f0f0f0')\n",
    "colors = plt.cm.viridis(np.linspace(0.1, 0.8, len(days)))\n",
    "bars = ax.bar(days, each_d_value, color=colors, align='center', width=0.6, edgecolor='#333333', linewidth=2, alpha=0.8, label='Data Values', zorder=2)\n",
    "# Customize the plot\n",
    "ax.set_title(f'Data update in the past {day} days', fontsize=15, color='#333333')\n",
    "for bar in bars:\n",
    "    height = bar.get_height()\n",
    "    ax.annotate(f'{height}',\n",
    "                xy=(bar.get_x() + bar.get_width() / 2, height),\n",
    "                xytext=(0, 5),  # 5 points vertical offset\n",
    "                textcoords='offset points',\n",
    "                ha='center', va='bottom', fontsize=8, color='#333333')\n",
    "\n",
    "# Remove spines\n",
    "ax.spines['top'].set_visible(False)\n",
    "ax.spines['right'].set_visible(False)\n",
    "ax.spines['left'].set_visible(False)\n",
    "\n",
    "# Show the plot\n",
    "plt.yticks([])\n",
    "plt.show()\n"
   ]
  }
 ],
 "metadata": {
  "kernelspec": {
   "display_name": "Python 3",
   "language": "python",
   "name": "python3"
  },
  "language_info": {
   "codemirror_mode": {
    "name": "ipython",
    "version": 3
   },
   "file_extension": ".py",
   "mimetype": "text/x-python",
   "name": "python",
   "nbconvert_exporter": "python",
   "pygments_lexer": "ipython3",
   "version": "3.10.12"
  }
 },
 "nbformat": 4,
 "nbformat_minor": 2
}