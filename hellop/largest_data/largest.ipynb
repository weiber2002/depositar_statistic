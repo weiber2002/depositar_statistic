{
 "cells": [
  {
   "cell_type": "markdown",
   "metadata": {},
   "source": [
    "# largest data"
   ]
  },
  {
   "cell_type": "markdown",
   "metadata": {},
   "source": [
    "<h2>data sample</h2>"
   ]
  },
  {
   "cell_type": "code",
   "execution_count": 2,
   "metadata": {
    "tags": [
     "remove-input",
     "hide-output"
    ]
   },
   "outputs": [
    {
     "name": "stdout",
     "output_type": "stream",
     "text": [
      "[{'author': '蔡韋漢', 'author_email': None, 'contact_email': 'hank89520@gmail.com', 'contact_person': '蔡韋漢', 'created_time': '2023-08-08', 'creator_user_id': 'b463adf3-d71e-4c46-abe0-016a72eac751', 'data_type': ['archive'], 'end_time': '2023-08-08', 'groups': [], 'id': 'f7cc490c-df6d-4c74-85e6-da3af9f7dc38', 'isopen': True, 'keywords': ['Q64481569'], 'language': ['zho'], 'license_id': 'pd', 'license_title': 'Public Domain', 'license_url': 'https://creativecommons.org/publicdomain/mark/1.0/', 'maintainer': None, 'maintainer_email': None, 'metadata_created': '2023-08-08T07:00:16.070724', 'metadata_modified': '2023-08-08T07:01:58.168807', 'name': '50fa6', 'notes': '', 'num_resources': 1, 'num_tags': 1, 'organization': None, 'private': False, 'process_step': '', 'relationships_as_object': [], 'relationships_as_subject': [], 'remarks': '', 'resources': [{'cache_last_updated': None, 'cache_url': None, 'created': '2023-08-08T07:01:54.950611', 'datastore_active': False, 'datastore_contains_all_records_of_source_file': False, 'description': '', 'encoding': 'utf-8', 'format': 'ZIP', 'hash': '', 'id': 'fda4b91f-81f4-4f63-bb7d-5a9bad7edf89', 'last_modified': '2023-08-08T07:01:54.851877', 'metadata_modified': '2023-08-08T07:01:58.176608', 'mimetype': 'application/zip', 'mimetype_inner': None, 'name': '南山公墓網格', 'package_id': 'f7cc490c-df6d-4c74-85e6-da3af9f7dc38', 'position': 0, 'resource_crs': 3857, 'resource_type': None, 'size': 81499, 'state': 'active', 'url': 'https://data.depositar.io/dataset/f7cc490c-df6d-4c74-85e6-da3af9f7dc38/resource/fda4b91f-81f4-4f63-bb7d-5a9bad7edf89/download/%25E5%258D%2597%25E5%25B1%25B1%25E5%2585%25AC%25E5%25A2%2593%25E7%25B6%25B2%25E6%25A0%25BC.zip', 'url_type': 'upload'}], 'start_time': '2023-08-08', 'state': 'active', 'tags': [{'display_name': '南山公墓', 'id': 'aea84ccd-7a8b-48ed-8c70-d1642cf06938', 'name': '南山公墓', 'state': 'active', 'vocabulary_id': None}], 'temp_res': 'yearly', 'title': '南山公墓網格', 'type': 'dataset', 'url': None, 'version': None}, {'author': '安倉營造股份有限公司', 'author_email': None, 'contact_email': 'ecowindow168@gmail.com', 'contact_person': '林彥伶', 'creator_user_id': '3f15bfe9-364a-4b5e-b9dc-08b686503e44', 'data_type': ['doc'], 'groups': [], 'id': 'dd2f0661-a975-4d2f-931c-12637337ff34', 'isopen': False, 'keywords': [], 'language': [], 'license_id': 'notspecified', 'license_title': 'License Not Specified', 'maintainer': None, 'maintainer_email': None, 'metadata_created': '2023-08-07T07:32:54.725418', 'metadata_modified': '2023-08-07T07:47:55.883531', 'name': '8c1a4', 'notes': '工程準備階段生態檢核報告', 'num_resources': 2, 'num_tags': 0, 'organization': None, 'private': False, 'process_step': '', 'relationships_as_object': [], 'relationships_as_subject': [], 'remarks': '', 'resources': [{'cache_last_updated': None, 'cache_url': None, 'created': '2023-08-07T07:34:16.845995', 'datastore_active': False, 'datastore_contains_all_records_of_source_file': False, 'description': '', 'format': 'PDF', 'hash': '', 'id': '84d04205-f237-4fe9-8646-851d3a0d10c5', 'last_modified': '2023-08-07T07:34:16.766162', 'metadata_modified': '2023-08-07T07:47:55.893274', 'mimetype': 'application/pdf', 'mimetype_inner': None, 'name': '二重疏洪道左岸加高工程工程準備階段生態檢核報告(核定版)', 'package_id': 'dd2f0661-a975-4d2f-931c-12637337ff34', 'position': 0, 'resource_type': None, 'size': 55536992, 'state': 'active', 'url': 'https://data.depositar.io/dataset/dd2f0661-a975-4d2f-931c-12637337ff34/resource/84d04205-f237-4fe9-8646-851d3a0d10c5/download/%2525E6%252596%2525BD%2525E5%2525B7%2525A5%2525E9%25259A%25258E%2525E6%2525AE%2525B5%2525E7%252594%25259F%2525E6%252585%25258B%2525E6%25.pdf', 'url_type': 'upload'}, {'cache_last_updated': None, 'cache_url': None, 'created': '2023-08-07T07:47:55.899003', 'datastore_active': False, 'datastore_contains_all_records_of_source_file': False, 'description': '', 'format': 'PDF', 'hash': '', 'id': '6b93aa75-988f-43b0-a951-1286f5fef826', 'last_modified': '2023-08-07T07:47:55.802150', 'metadata_modified': '2023-08-07T07:47:55.893487', 'mimetype': 'application/pdf', 'mimetype_inner': None, 'name': '二重疏洪道堤防加高工程_施工階段廠商生態保育措施自主檢查表2022.11~2023.06', 'package_id': 'dd2f0661-a975-4d2f-931c-12637337ff34', 'position': 1, 'resource_type': None, 'size': 7552441, 'state': 'active', 'url': 'https://data.depositar.io/dataset/dd2f0661-a975-4d2f-931c-12637337ff34/resource/6b93aa75-988f-43b0-a951-1286f5fef826/download/%E7%94%9F%E6%85%8B%E4%BF%9D%E8%82%B2%E6%8E%AA%E6%96%BD%E8%87%AA%E4%B8%BB%E6%AA%A2%E6%9F%A5%E8%A1%A8111.11.15-112.06.30%281%29.pdf', 'url_type': 'upload'}], 'state': 'active', 'tags': [], 'title': '二重疏洪道左岸加高工程', 'type': 'dataset', 'url': None, 'version': None}]\n",
      "{'approval_status': 'approved', 'created': '2018-10-15T22:44:45.141092', 'description': '', 'display_name': '00. 一般性參考資料 / General reference', 'extras': [], 'groups': [], 'id': '5f5ffe95-4d22-4005-a54e-bb5273f6e5be', 'image_display_url': 'https://data.depositar.io/uploads/group/2018-10-23-061540.113498icon-01.svg', 'image_url': '2018-10-23-061540.113498icon-01.svg', 'is_organization': False, 'name': 'general-reference', 'num_followers': 0, 'package_count': 15, 'state': 'active', 'tags': [], 'title': '00. 一般性參考資料 / General reference', 'type': 'group'}\n",
      "{'approval_status': 'approved', 'created': '2019-12-10T10:59:34.280389', 'description': '此專案是由基隆市政府委託觀察家生態顧問有限公司執行，針對大武崙溪範圍內3件工程：「大武崙溪排水瓶頸改善工程」、「大武崙溪堤後排水暨瓶頸改善工程(堤後排水及護岸加高)」、「大武崙工業區小型抽排及調整池工程」，秉持生態保育之原則執行工程生態檢核作業。', 'display_name': '107基隆市生態檢核工作計畫', 'extras': [], 'groups': [], 'id': 'e95ce98f-705c-417b-821f-9dca68c8d634', 'image_display_url': 'https://data.depositar.io/uploads/group/2020-08-13-124731.523792IMG9499.JPG', 'image_url': '2020-08-13-124731.523792IMG9499.JPG', 'is_organization': True, 'name': '107ecological_check_project_of_keelung_city_2018', 'num_followers': 0, 'package_count': 1, 'state': 'active', 'tags': [], 'title': '107基隆市生態檢核工作計畫', 'type': 'organization'}\n"
     ]
    }
   ],
   "source": [
    "import json\n",
    "import matplotlib as mpl\n",
    "import matplotlib.pyplot as plt\n",
    "import numpy as np\n",
    "from matplotlib.font_manager import fontManager\n",
    "from collections import Counter\n",
    "\n",
    "path = \"../datasets.jsonl\"\n",
    "font_path = \"../TaipeiSansTCBeta-Regular.ttf\"\n",
    "\n",
    "fontManager.addfont(font_path)\n",
    "mpl.rc('font', family='Taipei Sans TC Beta')\n",
    "\n",
    "o_dataset = []\n",
    "with open(path, \"r\") as f: #游標位置會變\n",
    "    line_count = 0\n",
    "    for line in f:\n",
    "      line_count += 1\n",
    "    f.seek(0) #讓游標讀取位置回到原點\n",
    "    for i in range(line_count):\n",
    "        line = f.readline()\n",
    "        data = json.loads(line)\n",
    "        o_dataset.append(data)\n",
    "print(o_dataset[:2])\n",
    "\n",
    "o_topic = []\n",
    "path = \"../topics.jsonl\"\n",
    "\n",
    "with open(path, \"r\") as f: #游標位置會變\n",
    "    line_count = 0\n",
    "    for line in f:\n",
    "      line_count += 1\n",
    "    f.seek(0) #讓游標讀取位置回到原點\n",
    "    for i in range(line_count):\n",
    "        line = f.readline()\n",
    "        data = json.loads(line)\n",
    "        o_topic.append(data)\n",
    "print(o_topic[0])\n",
    "\n",
    "o_project = []\n",
    "path = \"../projects.jsonl\"\n",
    "\n",
    "with open(path, \"r\") as f: #游標位置會變\n",
    "    line_count = 0\n",
    "    for line in f:\n",
    "      line_count += 1\n",
    "    f.seek(0) #讓游標讀取位置回到原點\n",
    "    for i in range(line_count):\n",
    "        line = f.readline()\n",
    "        data = json.loads(line)\n",
    "        o_project.append(data)\n",
    "print(o_project[0])"
   ]
  },
  {
   "cell_type": "markdown",
   "metadata": {},
   "source": [
    "<h1> largest author</h1>\n",
    "<p></p>"
   ]
  },
  {
   "cell_type": "code",
   "execution_count": 3,
   "metadata": {
    "tags": [
     "hide-input"
    ]
   },
   "outputs": [
    {
     "name": "stdout",
     "output_type": "stream",
     "text": [
      "[('高雄市政府水利局、科進栢誠工程顧問股份有限公司', 117), ('中央研究院人社中心GIS專題中心：台灣歷史文化地圖', 116), ('嘉義縣政府', 99), ('6456', 95), ('逢甲大學水利發展中心', 77), ('6458', 63), ('逢甲大學', 44), ('磐誠工程顧問股份有限公司', 44), ('samson', 37), ('Linda Chang', 37)]\n"
     ]
    },
    {
     "data": {
      "image/png": "[encoded data removed]",
      "text/plain": [
       "<Figure size 640x480 with 1 Axes>"
      ]
     },
     "metadata": {},
     "output_type": "display_data"
    }
   ],
   "source": [
    "author = []\n",
    "for i in o_dataset[:-1]: # 最後一個沒有作者\n",
    "  author.append(i['author'])\n",
    "author_counts = Counter(author)\n",
    "\n",
    "top_authors = author_counts.most_common(10)\n",
    "print(top_authors)\n",
    "top_authors_names = [i[0][:15] for i in top_authors]\n",
    "top_authors_mentions = [i[1] for i in top_authors]\n",
    "\n",
    "\n",
    "plt.bar(top_authors_names, top_authors_mentions)\n",
    "plt.xlabel('Author')\n",
    "plt.ylabel('Number of Mentions')\n",
    "plt.xticks(rotation=70,fontsize=6)\n",
    "plt.tight_layout()\n",
    "plt.title('Top 10 Authors with the Most Mentions')\n",
    "\n",
    "plt.show()\n",
    "# 可以再做一個比例圓餅圖\n",
    "## 得知現在的作者有誰"
   ]
  },
  {
   "cell_type": "markdown",
   "metadata": {},
   "source": [
    "<h1>Largest tags : </h1>\n",
    "\n",
    "<p>秀出被使用最多次的tag還有使用次數</p>"
   ]
  },
  {
   "cell_type": "code",
   "execution_count": null,
   "metadata": {
    "tags": [
     "hide-input"
    ]
   },
   "outputs": [],
   "source": [
    "url = \"http://data.depositar.io/api/3/action/package_search?facet.field=[%22tags%22]&facet.limit=10\"\n",
    "package_list = requests.get(url).json()\n",
    "\n",
    "tag_number =  package_list['result']['facets']['tags']\n",
    "values = tag_number.values()\n",
    "labels = tag_number.keys()\n",
    "print(tag_number)\n",
    "plt.bar(labels, values)\n",
    "plt.xlabel('Categories')\n",
    "plt.ylabel('Package Count')\n",
    "plt.title('Bar Graph: Package Count by Category')\n",
    "plt.xticks(rotation=45, ha='right')  # To rotate the labels for better readability\n",
    "plt.tight_layout()  # To prevent label cutoff\n",
    "plt.show()\n"
   ]
  },
  {
   "cell_type": "markdown",
   "metadata": {},
   "source": [
    "<h1> largest topics</h1>\n",
    "<br>#include tags也做得到\n",
    "<br>#Returning a list of packages is too expensive, 要顯現出該topic有什麼資料集是做不到的事情"
   ]
  },
  {
   "cell_type": "code",
   "execution_count": null,
   "metadata": {
    "tags": [
     "hide-input"
    ]
   },
   "outputs": [],
   "source": [
    "\n",
    "unsort_topic = []\n",
    "for i in o_topic:\n",
    "  unsort_topic.append({'name': i['name'], 'package_count': i['package_count']})\n",
    "\n",
    "topic = sorted(unsort_topic, key=lambda x: x['package_count'],reverse=True)\n",
    "values = [item['package_count'] for item in topic[:10]]\n",
    "labels = [item['name'] for item in topic[:10]]\n",
    "print(topic)\n",
    "\n",
    "plt.bar(labels, values)\n",
    "plt.xlabel('Categories')\n",
    "plt.ylabel('Package Count')\n",
    "plt.title('Bar Graph: Package Count by Category')\n",
    "plt.xticks(rotation=45, ha='right')  # To rotate the labels for better readability\n",
    "plt.tight_layout()  # To prevent label cutoff\n",
    "plt.show()\n",
    "\n"
   ]
  },
  {
   "cell_type": "markdown",
   "metadata": {},
   "source": [
    "<h1>largest type</h1>\n",
    "<br> problem of undefined needs to be solved <br>"
   ]
  },
  {
   "cell_type": "code",
   "execution_count": null,
   "metadata": {
    "tags": [
     "hide-input"
    ]
   },
   "outputs": [],
   "source": [
    "types = []\n",
    "\n",
    "for j in o_dataset:\n",
    "  if j['resources']:\n",
    "      if j['resources'][0]['format']=='':\n",
    "        types.append('undefined')\n",
    "      elif j['resources'][0]['format']==\".pdf\":\n",
    "        types.append('PDF')\n",
    "      else:\n",
    "        types.append(j['resources'][0]['format'])\n",
    "  else:\n",
    "      types.append('lost')\n",
    "\n",
    "type_counts = Counter(types)\n",
    "all_top_type = type_counts.most_common(120)\n",
    "top_type = type_counts.most_common(10)\n",
    "\n",
    "print(all_top_type)\n",
    "all_top_type_mentions = [i[1] for i in all_top_type]\n",
    "print(sum(all_top_type_mentions))\n",
    "\n",
    "top_name = [i[0] for i in top_type]\n",
    "top_type_mentions = [i[1] for i in top_type]\n",
    "\n",
    "plt.bar(top_name, top_type_mentions)\n",
    "plt.xlabel('type')\n",
    "plt.ylabel('Number of Mentions')\n",
    "plt.xticks(rotation=30,fontsize=8)\n",
    "plt.tight_layout()\n",
    "plt.title('Top types with the Most Mentions')\n",
    "\n",
    "plt.show()"
   ]
  },
  {
   "cell_type": "markdown",
   "metadata": {},
   "source": [
    "<h1>largest project</h1>\n",
    "<p></p>"
   ]
  },
  {
   "cell_type": "code",
   "execution_count": null,
   "metadata": {
    "tags": [
     "hide-input"
    ]
   },
   "outputs": [],
   "source": [
    "count_pro = 0\n",
    "top_project = []\n",
    "\n",
    "for i in o_project:\n",
    "  count_pro += 1\n",
    "  top_project.append({'display_name':i['display_name'],'packages':i['package_count']})\n",
    "\n",
    "sort_project = sorted(top_project,key=lambda x:x['packages'],reverse=True)\n",
    "pro_values = [i['packages']for i in sort_project[:10]]\n",
    "pro_labels = [i['display_name'][:15] for i in sort_project[:10]]\n",
    "print(sort_project[:10])\n",
    "plt.bar(pro_labels,pro_values )\n",
    "plt.xlabel('type')\n",
    "plt.ylabel('Number of project')\n",
    "plt.xticks(rotation=80,fontsize=8)\n",
    "plt.tight_layout()\n",
    "plt.title('Top projects ')\n",
    "\n",
    "plt.show()"
   ]
  }
 ],
 "metadata": {
  "kernelspec": {
   "display_name": "Python 3",
   "language": "python",
   "name": "python3"
  },
  "language_info": {
   "codemirror_mode": {
    "name": "ipython",
    "version": 3
   },
   "file_extension": ".py",
   "mimetype": "text/x-python",
   "name": "python",
   "nbconvert_exporter": "python",
   "pygments_lexer": "ipython3",
   "version": "3.10.6"
  },
  "orig_nbformat": 4
 },
 "nbformat": 4,
 "nbformat_minor": 2
}
