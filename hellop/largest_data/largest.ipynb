{
 "cells": [
  {
   "cell_type": "markdown",
   "metadata": {},
   "source": [
    "# largest data"
   ]
  },
  {
   "cell_type": "code",
   "execution_count": null,
   "metadata": {},
   "outputs": [],
   "source": [
    "import json\n",
    "import matplotlib as mpl\n",
    "import matplotlib.pyplot as plt\n",
    "import numpy as np\n",
    "from matplotlib.font_manager import fontManager\n",
    "\n",
    "path = \"../datasets.jsonl\"\n",
    "font_path = \"../TaipeiSansTCBeta-Regular.ttf\"\n",
    "\n",
    "fontManager.addfont(font_path)\n",
    "mpl.rc('font', family='Taipei Sans TC Beta')\n",
    "\n",
    "o_dataset = []\n",
    "with open(path, \"r\") as f: #游標位置會變\n",
    "    line_count = 0\n",
    "    for line in f:\n",
    "      line_count += 1\n",
    "    f.seek(0) #讓游標讀取位置回到原點\n",
    "    for i in range(line_count):\n",
    "        line = f.readline()\n",
    "        data = json.loads(line)\n",
    "        o_dataset.append(data)\n",
    "print(o_dataset[:2])"
   ]
  }
 ],
 "metadata": {
  "language_info": {
   "name": "python"
  },
  "orig_nbformat": 4
 },
 "nbformat": 4,
 "nbformat_minor": 2
}
