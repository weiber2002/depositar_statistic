{
 "cells": [
  {
   "cell_type": "markdown",
   "metadata": {},
   "source": [
    "# Average number of form fields which have data"
   ]
  },
  {
   "cell_type": "code",
   "execution_count": 30,
   "metadata": {},
   "outputs": [
    {
     "name": "stdout",
     "output_type": "stream",
     "text": [
      "[{'author': '蔡韋漢', 'author_email': None, 'contact_email': 'hank89520@gmail.com', 'contact_person': '蔡韋漢', 'created_time': '2023-08-08', 'creator_user_id': 'b463adf3-d71e-4c46-abe0-016a72eac751', 'data_type': ['archive'], 'end_time': '2023-08-08', 'groups': [], 'id': 'f7cc490c-df6d-4c74-85e6-da3af9f7dc38', 'isopen': True, 'keywords': ['Q64481569'], 'language': ['zho'], 'license_id': 'pd', 'license_title': 'Public Domain', 'license_url': 'https://creativecommons.org/publicdomain/mark/1.0/', 'maintainer': None, 'maintainer_email': None, 'metadata_created': '2023-08-08T07:00:16.070724', 'metadata_modified': '2023-08-08T07:01:58.168807', 'name': '50fa6', 'notes': '', 'num_resources': 1, 'num_tags': 1, 'organization': None, 'private': False, 'process_step': '', 'relationships_as_object': [], 'relationships_as_subject': [], 'remarks': '', 'resources': [{'cache_last_updated': None, 'cache_url': None, 'created': '2023-08-08T07:01:54.950611', 'datastore_active': False, 'datastore_contains_all_records_of_source_file': False, 'description': '', 'encoding': 'utf-8', 'format': 'ZIP', 'hash': '', 'id': 'fda4b91f-81f4-4f63-bb7d-5a9bad7edf89', 'last_modified': '2023-08-08T07:01:54.851877', 'metadata_modified': '2023-08-08T07:01:58.176608', 'mimetype': 'application/zip', 'mimetype_inner': None, 'name': '南山公墓網格', 'package_id': 'f7cc490c-df6d-4c74-85e6-da3af9f7dc38', 'position': 0, 'resource_crs': 3857, 'resource_type': None, 'size': 81499, 'state': 'active', 'url': 'https://data.depositar.io/dataset/f7cc490c-df6d-4c74-85e6-da3af9f7dc38/resource/fda4b91f-81f4-4f63-bb7d-5a9bad7edf89/download/%25E5%258D%2597%25E5%25B1%25B1%25E5%2585%25AC%25E5%25A2%2593%25E7%25B6%25B2%25E6%25A0%25BC.zip', 'url_type': 'upload'}], 'start_time': '2023-08-08', 'state': 'active', 'tags': [{'display_name': '南山公墓', 'id': 'aea84ccd-7a8b-48ed-8c70-d1642cf06938', 'name': '南山公墓', 'state': 'active', 'vocabulary_id': None}], 'temp_res': 'yearly', 'title': '南山公墓網格', 'type': 'dataset', 'url': None, 'version': None}, {'author': '安倉營造股份有限公司', 'author_email': None, 'contact_email': 'ecowindow168@gmail.com', 'contact_person': '林彥伶', 'creator_user_id': '3f15bfe9-364a-4b5e-b9dc-08b686503e44', 'data_type': ['doc'], 'groups': [], 'id': 'dd2f0661-a975-4d2f-931c-12637337ff34', 'isopen': False, 'keywords': [], 'language': [], 'license_id': 'notspecified', 'license_title': 'License Not Specified', 'maintainer': None, 'maintainer_email': None, 'metadata_created': '2023-08-07T07:32:54.725418', 'metadata_modified': '2023-08-07T07:47:55.883531', 'name': '8c1a4', 'notes': '工程準備階段生態檢核報告', 'num_resources': 2, 'num_tags': 0, 'organization': None, 'private': False, 'process_step': '', 'relationships_as_object': [], 'relationships_as_subject': [], 'remarks': '', 'resources': [{'cache_last_updated': None, 'cache_url': None, 'created': '2023-08-07T07:34:16.845995', 'datastore_active': False, 'datastore_contains_all_records_of_source_file': False, 'description': '', 'format': 'PDF', 'hash': '', 'id': '84d04205-f237-4fe9-8646-851d3a0d10c5', 'last_modified': '2023-08-07T07:34:16.766162', 'metadata_modified': '2023-08-07T07:47:55.893274', 'mimetype': 'application/pdf', 'mimetype_inner': None, 'name': '二重疏洪道左岸加高工程工程準備階段生態檢核報告(核定版)', 'package_id': 'dd2f0661-a975-4d2f-931c-12637337ff34', 'position': 0, 'resource_type': None, 'size': 55536992, 'state': 'active', 'url': 'https://data.depositar.io/dataset/dd2f0661-a975-4d2f-931c-12637337ff34/resource/84d04205-f237-4fe9-8646-851d3a0d10c5/download/%2525E6%252596%2525BD%2525E5%2525B7%2525A5%2525E9%25259A%25258E%2525E6%2525AE%2525B5%2525E7%252594%25259F%2525E6%252585%25258B%2525E6%25.pdf', 'url_type': 'upload'}, {'cache_last_updated': None, 'cache_url': None, 'created': '2023-08-07T07:47:55.899003', 'datastore_active': False, 'datastore_contains_all_records_of_source_file': False, 'description': '', 'format': 'PDF', 'hash': '', 'id': '6b93aa75-988f-43b0-a951-1286f5fef826', 'last_modified': '2023-08-07T07:47:55.802150', 'metadata_modified': '2023-08-07T07:47:55.893487', 'mimetype': 'application/pdf', 'mimetype_inner': None, 'name': '二重疏洪道堤防加高工程_施工階段廠商生態保育措施自主檢查表2022.11~2023.06', 'package_id': 'dd2f0661-a975-4d2f-931c-12637337ff34', 'position': 1, 'resource_type': None, 'size': 7552441, 'state': 'active', 'url': 'https://data.depositar.io/dataset/dd2f0661-a975-4d2f-931c-12637337ff34/resource/6b93aa75-988f-43b0-a951-1286f5fef826/download/%E7%94%9F%E6%85%8B%E4%BF%9D%E8%82%B2%E6%8E%AA%E6%96%BD%E8%87%AA%E4%B8%BB%E6%AA%A2%E6%9F%A5%E8%A1%A8111.11.15-112.06.30%281%29.pdf', 'url_type': 'upload'}], 'state': 'active', 'tags': [], 'title': '二重疏洪道左岸加高工程', 'type': 'dataset', 'url': None, 'version': None}]\n"
     ]
    }
   ],
   "source": [
    "import json\n",
    "import matplotlib as mpl\n",
    "import matplotlib.pyplot as plt\n",
    "import numpy as np\n",
    "from matplotlib.font_manager import fontManager\n",
    "\n",
    "path = \"../datasets.jsonl\"\n",
    "font_path = \"../TaipeiSansTCBeta-Regular.ttf\"\n",
    "\n",
    "fontManager.addfont(font_path)\n",
    "mpl.rc('font', family='Taipei Sans TC Beta')\n",
    "\n",
    "o_dataset = []\n",
    "with open(path, \"r\") as f: #游標位置會變\n",
    "    line_count = 0\n",
    "    for line in f:\n",
    "      line_count += 1\n",
    "    f.seek(0) #讓游標讀取位置回到原點\n",
    "    for i in range(line_count):\n",
    "        line = f.readline()\n",
    "        data = json.loads(line)\n",
    "        o_dataset.append(data)\n",
    "print(o_dataset[:2])"
   ]
  },
  {
   "cell_type": "code",
   "execution_count": 31,
   "metadata": {
    "tags": [
     "remove-cell"
    ]
   },
   "outputs": [],
   "source": [
    "basic_field = ['title','url','notes','data_type','keywords','tags','langauge','remarks']\n",
    "manage_field = ['license_id','author','process_step','contact_person','contact_email','owner_org']\n",
    "time_field = ['temp_res','start_time','end_time','spatial','x_min','x_max','y_min','y_max','spatial_res']\n",
    "resource_field = ['url','name']\n",
    "\n",
    "total = 0\n",
    "count_basic = 0\n",
    "count_manage = 0\n",
    "count_time = 0\n",
    "count_re = 0\n",
    "\n",
    "for i in o_dataset:  #基本資訊\n",
    "  total += 1\n",
    "  count_basic += sum(1 for field in basic_field if i.get(field) is not None and i[field]!='') #有時不會有欄位，先確保有欄位再拿值\n",
    "\n",
    "percent_basic = (count_basic / total) / 8\n",
    "\n",
    "for i in o_dataset:  #管理資訊\n",
    "  count_manage += sum(1 for field in basic_field if i.get(field) is not None and i[field]!='')\n",
    "  if i['resources']:\n",
    "    count_manage += (1 if i['resources'][0]['created'] !='' else 0)\n",
    "\n",
    "percent_manage = (count_manage / total) / 7\n",
    "\n",
    "for i in o_dataset:  #時空資訊\n",
    "  count_time += sum(1 for field in time_field if i.get(field) is not None and i[field]!='')\n",
    "\n",
    "percent_time = (count_time / total) / 9\n",
    "\n",
    "for i in o_dataset: #資源層級\n",
    "\n",
    "  count_re += sum(1 for field in resource_field if i.get(field) is not None and i[field]!='')\n",
    "  if i['resources']:\n",
    "    count_re += (1 if i['resources'][0]['format'] !='' else 0)\n",
    "  if i['organization']:\n",
    "    count_re += (1 if i['organization']['description'] !='' else 0)\n",
    "\n",
    "percent_re = (count_re / total) / 4\n",
    "\n",
    "total_data = count_basic + count_manage + count_time + count_re\n",
    "percent_total = (total_data / total) / 28"
   ]
  },
  {
   "cell_type": "markdown",
   "metadata": {},
   "source": [
    "## 各項後設資料填答比率"
   ]
  },
  {
   "cell_type": "code",
   "execution_count": 32,
   "metadata": {
    "tags": [
     "remove-input"
    ]
   },
   "outputs": [
    {
     "name": "stdout",
     "output_type": "stream",
     "text": [
      "average of basic 4.83    percent of basic: 60.36 %\n",
      "average of manage 5.82    percent of manage: 83.18 %\n",
      "average of time 2.02    percent of time: 22.43 %\n",
      "average of resource 2.72    percent of resource: 67.99 %\n",
      "average 15.39    percent: 54.96 %\n"
     ]
    },
    {
     "data": {
      "image/png": "[encoded data removed]",
      "text/plain": [
       "<Figure size 600x400 with 1 Axes>"
      ]
     },
     "metadata": {},
     "output_type": "display_data"
    }
   ],
   "source": [
    "print('average of basic',round(count_basic/total,2),'   percent of basic:', round(percent_basic*100, 2), \"%\")\n",
    "print('average of manage',round(count_manage/total,2),'   percent of manage:', round(percent_manage*100, 2), \"%\")\n",
    "print('average of time',round(count_time/total,2),'   percent of time:', round(percent_time*100, 2), \"%\")\n",
    "print('average of resource',round(count_re/total,2),'   percent of resource:', round(percent_re*100, 2), \"%\")\n",
    "print('average',round(total_data/total,2),'   percent:', round(percent_total*100, 2), \"%\")\n",
    "\n",
    "\n",
    "data = [percent_basic,percent_manage,percent_time,percent_re,percent_total]\n",
    "titles = ['基本資訊', '管理資訊','時空資訊', '資源層級', '綜合']\n",
    "\n",
    "fig, ax = plt.subplots(figsize=(6, 4)) # Create a figure and axis\n",
    "\n",
    "fig.patch.set_facecolor('#f0f0f0') # Set background color\n",
    "ax.set_facecolor('#f0f0f0')\n",
    "\n",
    "# Create a gradient of colors\n",
    "colors = plt.cm.viridis(np.linspace(0.7, 1, len(data)))\n",
    "\n",
    "# Create the bar plot with rounded bars, shadows, and gradient colors\n",
    "bars = ax.bar(titles, data, color=colors, align='center', width=0.6, edgecolor='#333333', linewidth=2, alpha=0.8, label='Data Values', zorder=2)\n",
    "\n",
    "ax.set_title('Relationship Between Data Values and Titles', fontsize=8, color='#333333')\n",
    "\n",
    "\n",
    "# Add data labels with custom font and size\n",
    "for bar in bars:\n",
    "    height = bar.get_height()\n",
    "    ax.annotate(f'{height:.2f}',\n",
    "                xy=(bar.get_x() + bar.get_width() / 2, height),\n",
    "                xytext=(0, 5),  # 5 points vertical offset\n",
    "                textcoords='offset points',\n",
    "                ha='center', va='bottom', fontsize=8, color='#333333')\n",
    "\n",
    "# Add legend\n",
    "ax.legend()\n",
    "\n",
    "# Remove spines\n",
    "ax.spines['top'].set_visible(False)\n",
    "ax.spines['right'].set_visible(False)\n",
    "ax.spines['left'].set_visible(False)\n",
    "\n",
    "# Show the plot\n",
    "plt.yticks([])\n",
    "plt.show()"
   ]
  }
 ],
 "metadata": {
  "kernelspec": {
   "display_name": "Python 3",
   "language": "python",
   "name": "python3"
  },
  "language_info": {
   "codemirror_mode": {
    "name": "ipython",
    "version": 3
   },
   "file_extension": ".py",
   "mimetype": "text/x-python",
   "name": "python",
   "nbconvert_exporter": "python",
   "pygments_lexer": "ipython3",
   "version": "3.10.6"
  },
  "orig_nbformat": 4
 },
 "nbformat": 4,
 "nbformat_minor": 2
}
