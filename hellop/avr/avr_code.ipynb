{
 "cells": [
  {
   "cell_type": "markdown",
   "metadata": {},
   "source": [
    "# Average number of form fields which have data"
   ]
  },
  {
   "cell_type": "code",
   "execution_count": 2,
   "metadata": {
    "tags": [
     "remove-cell"
    ]
   },
   "outputs": [
    {
     "name": "stdout",
     "output_type": "stream",
     "text": [
      "[{'author': 'Terry Ang', 'author_email': None, 'contact_email': '', 'contact_person': '', 'creator_user_id': '80271847-5afd-427f-955b-c03514353695', 'data_type': ['image', 'science', 'other'], 'groups': [], 'id': '6a62e8d0-fad3-41fc-9bd0-c21f83268cc1', 'isopen': False, 'keywords': ['Q64481569', 'Q1329181'], 'language': ['zho'], 'license_id': 'notspecified', 'license_title': 'License Not Specified', 'maintainer': None, 'maintainer_email': None, 'metadata_created': '2023-08-08T08:47:43.151725', 'metadata_modified': '2023-08-15T01:52:28.991118', 'name': '2023-nanshan-center-for-gis', 'notes': '2023中央研究院GIS中心實習資料', 'num_resources': 3, 'num_tags': 1, 'organization': None, 'private': False, 'process_step': '', 'relationships_as_object': [], 'relationships_as_subject': [], 'remarks': '', 'resources': [{'cache_last_updated': None, 'cache_url': None, 'created': '2023-08-08T08:48:26.162805', 'datastore_active': False, 'datastore_contains_all_records_of_source_file': False, 'description': '', 'encoding': 'utf-8', 'format': 'SHP', 'hash': '', 'id': 'a96e1b2f-2c41-4893-82be-67807ebabc63', 'last_modified': '2023-08-08T08:48:26.074879', 'metadata_modified': '2023-08-15T01:52:28.999533', 'mimetype': 'application/zip', 'mimetype_inner': None, 'name': '竹溪線段資料', 'package_id': '6a62e8d0-fad3-41fc-9bd0-c21f83268cc1', 'position': 0, 'resource_crs': 3857, 'resource_type': None, 'size': 3592, 'state': 'active', 'url': 'https://data.depositar.io/dataset/6a62e8d0-fad3-41fc-9bd0-c21f83268cc1/resource/a96e1b2f-2c41-4893-82be-67807ebabc63/download/%25252525E7%25252525AB%25252525B9%25252525E6%25252525BA%25252525AA.zip', 'url_type': 'upload'}, {'cache_last_updated': None, 'cache_url': None, 'created': '2023-08-14T08:47:30.822447', 'datastore_active': False, 'datastore_contains_all_records_of_source_file': False, 'description': '其中100筆資料之分類與呈現結果，已進行大小的分級與方向資料的增設', 'encoding': 'utf-8', 'format': 'SHP', 'hash': '', 'id': '432cff65-1e68-401b-b742-98a41ce9ac05', 'last_modified': '2023-08-14T08:47:30.610910', 'metadata_modified': '2023-08-15T01:52:28.999659', 'mimetype': 'application/zip', 'mimetype_inner': None, 'name': '南山公墓點位資料', 'package_id': '6a62e8d0-fad3-41fc-9bd0-c21f83268cc1', 'position': 1, 'resource_crs': 4326, 'resource_type': None, 'size': 8848, 'state': 'active', 'url': 'https://data.depositar.io/dataset/6a62e8d0-fad3-41fc-9bd0-c21f83268cc1/resource/432cff65-1e68-401b-b742-98a41ce9ac05/download/nanshan_100.zip', 'url_type': 'upload'}, {'cache_last_updated': None, 'cache_url': None, 'created': '2023-08-14T09:03:53.447665', 'datastore_active': False, 'datastore_contains_all_records_of_source_file': False, 'description': '', 'format': 'PNG', 'hash': '', 'id': 'f6d95b67-b998-4807-9b41-27d520efb7a5', 'last_modified': '2023-08-14T09:03:53.341992', 'metadata_modified': '2023-08-15T01:52:28.999829', 'mimetype': 'image/png', 'mimetype_inner': None, 'name': '南山公墓GIS呈現示範圖片', 'package_id': '6a62e8d0-fad3-41fc-9bd0-c21f83268cc1', 'position': 2, 'resource_type': None, 'size': 30759645, 'state': 'active', 'url': 'https://data.depositar.io/dataset/6a62e8d0-fad3-41fc-9bd0-c21f83268cc1/resource/f6d95b67-b998-4807-9b41-27d520efb7a5/download/%25E5%258D%2597%25E5%25B1%25B1%25E7%25AF%2584%25E4%25BE%258B%25E5%259C%2596.png', 'url_type': 'upload'}], 'spatial': '{\"type\":\"Polygon\",\"coordinates\":[[[120.19575119018555,22.9550480046619],[120.19575119018555,22.975674267073913],[120.20836830139162,22.975674267073913],[120.20836830139162,22.9550480046619],[120.19575119018555,22.9550480046619]]]}', 'state': 'active', 'tags': [{'display_name': '2023暑期實習', 'id': '543fa18e-c3ee-48b1-a070-5958e1b72cc2', 'name': '2023暑期實習', 'state': 'active', 'vocabulary_id': None}], 'title': '2023 GIS中心：南山公墓相關資料', 'type': 'dataset', 'url': None, 'version': None, 'x_max': '120.20836830139162', 'x_min': '120.19575119018555', 'y_max': '22.975674267073913', 'y_min': '22.9550480046619'}, {'author': '民翔環境生態研究有限公司', 'author_email': None, 'contact_email': 'rex611077@gmail.com', 'contact_person': '楊嘉仁', 'creator_user_id': 'd405faa0-2237-47d2-a3d0-8f39897280d8', 'data_type': ['database', 'doc'], 'groups': [], 'id': 'ff633445-8428-4a93-96d3-d139b75564ef', 'isopen': False, 'keywords': [], 'language': ['zho'], 'license_id': 'notspecified', 'license_title': 'License Not Specified', 'maintainer': None, 'maintainer_email': None, 'metadata_created': '2022-01-27T10:19:45.597011', 'metadata_modified': '2023-08-15T00:08:50.304930', 'name': '6474b', 'notes': '林同棪工程顧問股份有限公司委託民翔環境生態研究有限公司，於2020年起進行大嵙崁清淤輸送系統委託規畫設計監造生態檢核，目前該案於施工階段，資料集將持續更新', 'num_resources': 7, 'num_tags': 0, 'organization': None, 'private': False, 'process_step': '', 'relationships_as_object': [], 'relationships_as_subject': [], 'remarks': '', 'resources': [{'cache_last_updated': None, 'cache_url': None, 'created': '2022-01-27T10:26:03.466978', 'datastore_active': False, 'datastore_contains_all_records_of_source_file': False, 'description': '石門水庫阿姆坪防淤隧道工程計畫生態檢核-設計階段生態檢核報告書', 'format': 'DOC', 'hash': '', 'id': 'f3963d04-f929-40f0-919a-e8f4a5913765', 'last_modified': '2022-01-27T11:30:44.866998', 'metadata_modified': '2023-08-15T00:08:50.312130', 'mimetype': 'application/msword', 'mimetype_inner': None, 'name': '石門水庫阿姆坪防淤隧道工程計畫生態檢核報告書', 'package_id': 'ff633445-8428-4a93-96d3-d139b75564ef', 'position': 0, 'resource_type': None, 'size': 52397568, 'state': 'active', 'url': 'https://data.depositar.io/dataset/ff633445-8428-4a93-96d3-d139b75564ef/resource/f3963d04-f929-40f0-919a-e8f4a5913765/download/%25252525252525E7%252525252525259F%25252525252525B3%25252525252525E9%2525252525252596%2525252525252580%2525252.doc', 'url_type': 'upload'}, {'cache_last_updated': None, 'cache_url': None, 'created': '2022-01-27T10:35:23.781390', 'datastore_active': False, 'datastore_contains_all_records_of_source_file': False, 'description': '大嵙崁清淤輸送系統設計階段時針對大徑木進行調查與製作報告書', 'encoding': 'big5', 'format': 'DOCX', 'hash': '', 'id': 'c0ebaa43-0245-4bec-9579-5ee80dedcc3c', 'last_modified': '2022-01-27T10:35:23.697708', 'metadata_modified': '2023-08-15T00:08:50.312258', 'mimetype': 'application/vnd.openxmlformats-officedocument.wordprocessingml.document', 'mimetype_inner': None, 'name': '「石門水庫阿姆坪防淤隧道工程計畫-大嵙崁清淤輸送系統」大徑木調查報告書', 'package_id': 'ff633445-8428-4a93-96d3-d139b75564ef', 'position': 1, 'resource_type': None, 'size': 17476613, 'state': 'active', 'url': 'https://data.depositar.io/dataset/ff633445-8428-4a93-96d3-d139b75564ef/resource/c0ebaa43-0245-4bec-9579-5ee80dedcc3c/download/%25252525252525E3%2525252525252580%252525252525258C%25252525252525E7%252525252525259F%25252525252525B3%252525.docx', 'url_type': 'upload'}, {'cache_last_updated': None, 'cache_url': None, 'created': '2023-05-20T04:05:42.913581', 'datastore_active': False, 'datastore_contains_all_records_of_source_file': False, 'description': '大嵙崁生態檢核教育訓練簡報資料', 'format': 'PDF', 'hash': '', 'id': '1070dd05-a210-4141-a183-592476c85631', 'last_modified': '2023-05-20T04:05:42.392520', 'metadata_modified': '2023-08-15T00:08:50.312396', 'mimetype': 'application/pdf', 'mimetype_inner': None, 'name': '大嵙崁生態檢核教育訓練簡報', 'package_id': 'ff633445-8428-4a93-96d3-d139b75564ef', 'position': 2, 'resource_type': None, 'size': 1050933, 'state': 'active', 'url': 'https://data.depositar.io/dataset/ff633445-8428-4a93-96d3-d139b75564ef/resource/1070dd05-a210-4141-a183-592476c85631/download/%252525252525E5%252525252525A4%252525252525A7%252525252525E5%252525252525B5%25252525252599%252525252525E5%252525.pdf', 'url_type': 'upload'}, {'cache_last_updated': None, 'cache_url': None, 'created': '2023-05-20T04:14:07.712231', 'datastore_active': False, 'datastore_contains_all_records_of_source_file': False, 'description': '大嵙崁生態調查資料教育訓練簡報', 'format': 'PDF', 'hash': '', 'id': '04a5d307-8289-4512-a9c9-d5de918dff2c', 'last_modified': '2023-05-20T04:14:07.371788', 'metadata_modified': '2023-08-15T00:08:50.312497', 'mimetype': 'application/pdf', 'mimetype_inner': None, 'name': '大嵙崁施工前生態調查資料教育訓練簡報', 'package_id': 'ff633445-8428-4a93-96d3-d139b75564ef', 'position': 3, 'resource_type': None, 'size': 5579880, 'state': 'active', 'url': 'https://data.depositar.io/dataset/ff633445-8428-4a93-96d3-d139b75564ef/resource/04a5d307-8289-4512-a9c9-d5de918dff2c/download/%2525252525E5%2525252525A4%2525252525A7%2525252525E5%2525252525B5%252525252599%2525252525E5%2525252525B4%252525252.pdf', 'url_type': 'upload'}, {'cache_last_updated': None, 'cache_url': None, 'created': '2023-05-21T10:55:19.305652', 'datastore_active': False, 'datastore_contains_all_records_of_source_file': False, 'description': '石門水庫阿姆坪防淤隧道工程計畫生態檢核施工中第一季報告', 'format': 'PDF', 'hash': '', 'id': 'afd8558d-4a3e-454c-a95f-86a24e531a0e', 'last_modified': '2023-07-31T02:14:52.071278', 'metadata_modified': '2023-08-15T00:08:50.312594', 'mimetype': 'application/pdf', 'mimetype_inner': None, 'name': '石門水庫阿姆坪防淤隧道工程計畫生態檢核報告書(施工中第一季)', 'package_id': 'ff633445-8428-4a93-96d3-d139b75564ef', 'position': 4, 'resource_type': None, 'size': 12205918, 'state': 'active', 'url': 'https://data.depositar.io/dataset/ff633445-8428-4a93-96d3-d139b75564ef/resource/afd8558d-4a3e-454c-a95f-86a24e531a0e/download/%25E7%259F%25B3%25E9%2596%2580%25E6%25B0%25B4%25E5%25BA%25AB%25E9%2598%25BF%25E5%25A7%2586%25E5%259D%25AA%25E9%2598%25B2%25E6%25B7%25A4%25E9%259A%25A7%25E9%2581.pdf', 'url_type': 'upload'}, {'cache_last_updated': None, 'cache_url': None, 'created': '2023-07-31T02:13:32.535520', 'datastore_active': False, 'datastore_contains_all_records_of_source_file': False, 'description': '石門水庫阿姆坪防淤隧道工程計畫生態檢核施工中第二季報告書', 'format': 'PDF', 'hash': '', 'id': '66a10787-109f-4c4c-a492-811321d70b37', 'last_modified': '2023-07-31T02:13:27.645125', 'metadata_modified': '2023-08-15T00:08:50.312687', 'mimetype': 'application/pdf', 'mimetype_inner': None, 'name': '石門水庫阿姆坪防淤隧道工程計畫生態檢核報告書.(施工中第二季)-', 'package_id': 'ff633445-8428-4a93-96d3-d139b75564ef', 'position': 5, 'resource_type': None, 'size': 15981085, 'state': 'active', 'url': 'https://data.depositar.io/dataset/ff633445-8428-4a93-96d3-d139b75564ef/resource/66a10787-109f-4c4c-a492-811321d70b37/download/%2525E7%25259F%2525B3%2525E9%252596%252580%2525E6%2525B0%2525B4%2525E5%2525BA%2525AB%2525E9%252598%2525BF%2525E5%2525A7%252586%2525E5%25.pdf', 'url_type': 'upload'}, {'cache_last_updated': None, 'cache_url': None, 'created': '2023-08-15T00:08:53.318202', 'datastore_active': False, 'datastore_contains_all_records_of_source_file': False, 'description': '大嵙崁清淤施工中第二季紅外線自動相機資料與拍攝之動物照片', 'format': 'ZIP', 'hash': '', 'id': 'ed563fcd-d04a-474f-a752-67127c6c7107', 'last_modified': '2023-08-15T00:08:50.173670', 'metadata_modified': '2023-08-15T00:08:50.312919', 'mimetype': 'application/zip', 'mimetype_inner': None, 'name': '大嵙崁清淤施工中第二季自動相機資料', 'package_id': 'ff633445-8428-4a93-96d3-d139b75564ef', 'position': 6, 'resource_type': None, 'size': 80379761, 'state': 'active', 'url': 'https://data.depositar.io/dataset/ff633445-8428-4a93-96d3-d139b75564ef/resource/ed563fcd-d04a-474f-a752-67127c6c7107/download/%E5%A4%A7%E5%B5%99%E5%B4%81%E6%B8%85%E6%B7%A4%E6%96%BD%E5%B7%A5%E4%B8%AD%E7%AC%AC%E4%BA%8C%E5%AD%A3%E8%87%AA%E5%8B%95%E7%9B%B8%E6%A9%9F%E8%B3%87%E6%96%99.112.08.14.zip', 'url_type': 'upload'}], 'state': 'active', 'tags': [], 'title': '石門水庫阿姆坪防淤隧道工程計畫-大嵙崁清淤輸送系統委託規畫設計監造生態檢核-[施工階段]', 'type': 'dataset', 'url': None, 'version': None}]\n"
     ]
    }
   ],
   "source": [
    "import json\n",
    "import matplotlib as mpl\n",
    "import matplotlib.pyplot as plt\n",
    "import numpy as np\n",
    "from matplotlib.font_manager import fontManager\n",
    "\n",
    "path = \"../datasets.jsonl\"\n",
    "font_path = \"../TaipeiSansTCBeta-Regular.ttf\"\n",
    "\n",
    "fontManager.addfont(font_path)\n",
    "mpl.rc('font', family='Taipei Sans TC Beta')\n",
    "\n",
    "o_dataset = []\n",
    "with open(path, \"r\") as f: #游標位置會變\n",
    "    line_count = 0\n",
    "    for line in f:\n",
    "      line_count += 1\n",
    "    f.seek(0) #讓游標讀取位置回到原點\n",
    "    for i in range(line_count):\n",
    "        line = f.readline()\n",
    "        data = json.loads(line)\n",
    "        o_dataset.append(data)\n",
    "print(o_dataset[:2])"
   ]
  },
  {
   "cell_type": "code",
   "execution_count": 3,
   "metadata": {
    "tags": [
     "remove-cell"
    ]
   },
   "outputs": [],
   "source": [
    "basic_field = ['title','url','notes','data_type','keywords','tags','langauge','remarks']\n",
    "manage_field = ['license_id','author','process_step','contact_person','contact_email','owner_org']\n",
    "time_field = ['temp_res','start_time','end_time','spatial','x_min','x_max','y_min','y_max','spatial_res']\n",
    "resource_field = ['url','name']\n",
    "\n",
    "total = 0\n",
    "count_basic = 0\n",
    "count_manage = 0\n",
    "count_time = 0\n",
    "count_re = 0\n",
    "\n",
    "for i in o_dataset:  #基本資訊\n",
    "  total += 1\n",
    "  count_basic += sum(1 for field in basic_field if i.get(field) is not None and i[field]!='') #有時不會有欄位，先確保有欄位再拿值\n",
    "\n",
    "percent_basic = (count_basic / total) / 8\n",
    "\n",
    "for i in o_dataset:  #管理資訊\n",
    "  count_manage += sum(1 for field in basic_field if i.get(field) is not None and i[field]!='')\n",
    "  if i['resources']:\n",
    "    count_manage += (1 if i['resources'][0]['created'] !='' else 0)\n",
    "\n",
    "percent_manage = (count_manage / total) / 7\n",
    "\n",
    "for i in o_dataset:  #時空資訊\n",
    "  count_time += sum(1 for field in time_field if i.get(field) is not None and i[field]!='')\n",
    "\n",
    "percent_time = (count_time / total) / 9\n",
    "\n",
    "for i in o_dataset: #資源層級\n",
    "\n",
    "  count_re += sum(1 for field in resource_field if i.get(field) is not None and i[field]!='')\n",
    "  if i['resources']:\n",
    "    count_re += (1 if i['resources'][0]['format'] !='' else 0)\n",
    "  if i['organization']:\n",
    "    count_re += (1 if i['organization']['description'] !='' else 0)\n",
    "\n",
    "percent_re = (count_re / total) / 4\n",
    "\n",
    "total_data = count_basic + count_manage + count_time + count_re\n",
    "percent_total = (total_data / total) / 28"
   ]
  },
  {
   "cell_type": "markdown",
   "metadata": {},
   "source": [
    "## 各項後設資料填答比率"
   ]
  },
  {
   "cell_type": "code",
   "execution_count": 6,
   "metadata": {
    "tags": [
     "remove-input"
    ]
   },
   "outputs": [
    {
     "name": "stdout",
     "output_type": "stream",
     "text": [
      "average of basic 4.83    percent of basic: 60.35 %\n",
      "average of manage 5.82    percent of manage: 83.17 %\n",
      "average of time 2.02    percent of time: 22.43 %\n",
      "average of resource 2.72    percent of resource: 67.98 %\n",
      "average 15.39    percent: 54.96 %\n"
     ]
    },
    {
     "data": {
      "image/png": "[encoded data removed]",
      "text/plain": [
       "<Figure size 600x400 with 1 Axes>"
      ]
     },
     "metadata": {},
     "output_type": "display_data"
    }
   ],
   "source": [
    "print('average of basic',round(count_basic/total,2),'   percent of basic:', round(percent_basic*100, 2), \"%\")\n",
    "print('average of manage',round(count_manage/total,2),'   percent of manage:', round(percent_manage*100, 2), \"%\")\n",
    "print('average of time',round(count_time/total,2),'   percent of time:', round(percent_time*100, 2), \"%\")\n",
    "print('average of resource',round(count_re/total,2),'   percent of resource:', round(percent_re*100, 2), \"%\")\n",
    "print('average',round(total_data/total,2),'   percent:', round(percent_total*100, 2), \"%\")\n",
    "\n",
    "\n",
    "data = [percent_basic,percent_manage,percent_time,percent_re,percent_total]\n",
    "titles = ['基本資訊', '管理資訊','時空資訊', '資源層級', '綜合']\n",
    "\n",
    "fig, ax = plt.subplots(figsize=(6, 4)) # Create a figure and axis\n",
    "\n",
    "fig.patch.set_facecolor('#f0f0f0') # Set background color\n",
    "ax.set_facecolor('#f0f0f0')\n",
    "\n",
    "# Create a gradient of colors\n",
    "colors = plt.cm.viridis(np.linspace(0.7, 1, len(data)))\n",
    "\n",
    "# Create the bar plot with rounded bars, shadows, and gradient colors\n",
    "bars = ax.bar(titles, data, color=colors, align='center', width=0.6, edgecolor='#333333', linewidth=2, alpha=0.8, label='Data Values', zorder=2)\n",
    "\n",
    "ax.set_title('Relationship Between Data Values and Titles', fontsize=8, color='#333333')\n",
    "\n",
    "\n",
    "# Add data labels with custom font and size\n",
    "for bar in bars:\n",
    "    height = bar.get_height()\n",
    "    ax.annotate(f'{height:.2f}',\n",
    "                xy=(bar.get_x() + bar.get_width() / 2, height),\n",
    "                xytext=(0, 5),  # 5 points vertical offset\n",
    "                textcoords='offset points',\n",
    "                ha='center', va='bottom', fontsize=8, color='#333333')\n",
    "\n",
    "# Add legend\n",
    "ax.legend()\n",
    "\n",
    "# Remove spines\n",
    "ax.spines['top'].set_visible(False)\n",
    "ax.spines['right'].set_visible(False)\n",
    "ax.spines['left'].set_visible(False)\n",
    "\n",
    "# Show the plot\n",
    "plt.yticks([])\n",
    "plt.show()"
   ]
  }
 ],
 "metadata": {
  "kernelspec": {
   "display_name": "Python 3",
   "language": "python",
   "name": "python3"
  },
  "language_info": {
   "codemirror_mode": {
    "name": "ipython",
    "version": 3
   },
   "file_extension": ".py",
   "mimetype": "text/x-python",
   "name": "python",
   "nbconvert_exporter": "python",
   "pygments_lexer": "ipython3",
   "version": "3.10.6"
  },
  "orig_nbformat": 4
 },
 "nbformat": 4,
 "nbformat_minor": 2
}
